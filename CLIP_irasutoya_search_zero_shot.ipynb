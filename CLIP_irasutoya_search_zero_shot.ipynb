{
  "cells": [
    {
      "cell_type": "markdown",
      "metadata": {
        "id": "UexpkI250ndG"
      },
      "source": [
        "# いらすとや画像をCLIPで検索する\n",
        "\n",
        "* CLIPとは: https://qiita.com/sonoisa/items/00e8e2861147842f0237\n",
        "* 動作デモ: https://huggingface.co/spaces/sonoisa/Irasuto_search_CLIP_zero-shot\n",
        "\n",
        "※以下で例に用いている「いらすとや」データの再配布はできないため、以下のコードはそのままでは動きません。ご自身で何らかテキストと画像のペアからなるデータを用意して、コードを改修してお試しください。"
      ]
    },
    {
      "cell_type": "code",
      "execution_count": null,
      "metadata": {
        "colab": {
          "base_uri": "https://localhost:8080/"
        },
        "id": "ttEtOIZF0tyB",
        "outputId": "6c8cbe8f-f77e-4ad9-a0c4-64e4fc29d8f9"
      },
      "outputs": [
        {
          "output_type": "stream",
          "name": "stdout",
          "text": [
            "Tue Apr 12 11:33:23 2022       \n",
            "+-----------------------------------------------------------------------------+\n",
            "| NVIDIA-SMI 460.32.03    Driver Version: 460.32.03    CUDA Version: 11.2     |\n",
            "|-------------------------------+----------------------+----------------------+\n",
            "| GPU  Name        Persistence-M| Bus-Id        Disp.A | Volatile Uncorr. ECC |\n",
            "| Fan  Temp  Perf  Pwr:Usage/Cap|         Memory-Usage | GPU-Util  Compute M. |\n",
            "|                               |                      |               MIG M. |\n",
            "|===============================+======================+======================|\n",
            "|   0  Tesla V100-SXM2...  Off  | 00000000:00:04.0 Off |                    0 |\n",
            "| N/A   36C    P0    24W / 300W |      0MiB / 16160MiB |      0%      Default |\n",
            "|                               |                      |                  N/A |\n",
            "+-------------------------------+----------------------+----------------------+\n",
            "                                                                               \n",
            "+-----------------------------------------------------------------------------+\n",
            "| Processes:                                                                  |\n",
            "|  GPU   GI   CI        PID   Type   Process name                  GPU Memory |\n",
            "|        ID   ID                                                   Usage      |\n",
            "|=============================================================================|\n",
            "|  No running processes found                                                 |\n",
            "+-----------------------------------------------------------------------------+\n"
          ]
        }
      ],
      "source": [
        "!nvidia-smi"
      ]
    },
    {
      "cell_type": "markdown",
      "source": [
        "# データの準備"
      ],
      "metadata": {
        "id": "uVYKQRQfhl-h"
      }
    },
    {
      "cell_type": "markdown",
      "source": [
        "### いらすとやメタデータ\n",
        "\n",
        "次の属性を持ったオブジェクトのリストを格納したJSONファイル（ファイル名: irasuto_items_20210224.json）を用意する。  \n",
        "残念ながらデータの配布は許可が得られていないため配布はできません。\n",
        "\n",
        "* \"page\": そのイラストのページのURL\n",
        "* \"title\": そのイラストのタイトル\n",
        "* \"desc\": そのイラストの説明文\n",
        "* \"imgs\": そのイラストの画像のURLのリスト（複数件の場合があるため）\n",
        "\n",
        "\n",
        "例:\n",
        "\n",
        "    [{\n",
        "        \"page\": \"https://www.irasutoya.com/2014/09/blog-post_804.html\", \n",
        "        \"title\": \"お辞儀をしている男性会社員のイラスト\", \n",
        "        \"desc\": \"お礼や謝罪のお辞儀をしている、男性会社員（サラリーマン）のイラストです。\", \n",
        "        \"imgs\": [\"https://3.bp.blogspot.com/-zaYysdZCU4k/U-8HB8LJ2LI/AAAAAAAAk-A/RwTwUJI01hs/s450/business_ojigi_man.png\"]\n",
        "    }, \n",
        "    {\n",
        "        \"page\": \"https://www.irasutoya.com/2017/03/blog-post_806.html\", \n",
        "        \"title\": \"笑い袋のイラスト\", \n",
        "        \"desc\": \"押すと楽しい笑い声が聞こえる玩具、笑い袋のイラストです。\", \n",
        "        \"imgs\": [\"https://4.bp.blogspot.com/-voAAYQAh5tk/WKbK-SWJTTI/AAAAAAABB4g/5cB7IA-BisQPzpeqMsPAGjjKE3rNgdoRgCLcB/s400/toy_waraibukuro.png\"]\n",
        "    }, ..."
      ],
      "metadata": {
        "id": "5hvHf86F3Oui"
      }
    },
    {
      "cell_type": "code",
      "execution_count": null,
      "metadata": {
        "id": "c_3yi2M1Wpgd"
      },
      "outputs": [],
      "source": [
        "# !cp /content/drive/MyDrive/irasuto_items_20210224.json /content/"
      ]
    },
    {
      "cell_type": "markdown",
      "source": [
        "### いらすとや画像データ\n",
        "\n",
        "いらすとやメタデータに対応する画像ダウンロードし次のディレクトリ構造で用意する。\n",
        "\n",
        "    /content/images/{メタデータの項目のインデックス}/{画像ファイル名}\n",
        "\n",
        "上記のメタデータの場合、次のように画像ファイルが格納されることを想定する。\n",
        "\n",
        "    /content/images/0/business_ojigi_man.png\n",
        "    /content/images/1/toy_waraibukuro.png\n",
        "    ...\n"
      ],
      "metadata": {
        "id": "HOHWB0Ha476i"
      }
    },
    {
      "cell_type": "code",
      "execution_count": null,
      "metadata": {
        "id": "SLqStiSJY3Kj"
      },
      "outputs": [],
      "source": [
        "# %%capture\n",
        "# !cp -r /content/drive/MyDrive/images.zip /content/\n",
        "# !unzip images.zip"
      ]
    },
    {
      "cell_type": "markdown",
      "metadata": {
        "id": "TPIpQyqm0tbW"
      },
      "source": [
        "# 依存ライブラリの読み込み"
      ]
    },
    {
      "cell_type": "code",
      "execution_count": null,
      "metadata": {
        "id": "ZR12XanMwV3v"
      },
      "outputs": [],
      "source": [
        "%%capture\n",
        "!pip install transformers==4.14.0 pytorch_lightning==1.5.7 fugashi ipadic ja-sentence-segmenter pyarrow"
      ]
    },
    {
      "cell_type": "code",
      "source": [
        "!git clone https://github.com/sonoisa/clip-japanese"
      ],
      "metadata": {
        "colab": {
          "base_uri": "https://localhost:8080/"
        },
        "id": "K9W9D01bvUyu",
        "outputId": "1f84c16d-22ee-4165-dcc5-132d4570119b"
      },
      "execution_count": null,
      "outputs": [
        {
          "output_type": "stream",
          "name": "stdout",
          "text": [
            "Cloning into 'clip-japanese'...\n",
            "remote: Enumerating objects: 36, done.\u001b[K\n",
            "remote: Counting objects: 100% (36/36), done.\u001b[K\n",
            "remote: Compressing objects: 100% (35/35), done.\u001b[K\n",
            "remote: Total 36 (delta 7), reused 0 (delta 0), pack-reused 0\u001b[K\n",
            "Unpacking objects: 100% (36/36), done.\n"
          ]
        }
      ]
    },
    {
      "cell_type": "markdown",
      "metadata": {
        "id": "fgybggnr0be4"
      },
      "source": [
        "# いらすとや画像を前処理する"
      ]
    },
    {
      "cell_type": "markdown",
      "source": [
        "メタデータを読み込む"
      ],
      "metadata": {
        "id": "iqnvq85u9Pyq"
      }
    },
    {
      "cell_type": "code",
      "execution_count": null,
      "metadata": {
        "id": "2QjpL2YpWazh"
      },
      "outputs": [],
      "source": [
        "import json\n",
        "\n",
        "with open(\"/content/irasuto_items_20210224.json\", \"r\", encoding=\"utf-8\") as f_in:\n",
        "    items = json.load(f_in)"
      ]
    },
    {
      "cell_type": "markdown",
      "metadata": {
        "id": "Da5er71I2McK"
      },
      "source": [
        "## 画像のサイズを224 x 224にする。\n",
        "\n",
        "画像の幅と高さを最低224にし、224 x 224になるよう中央部分を切り出す。"
      ]
    },
    {
      "cell_type": "code",
      "execution_count": null,
      "metadata": {
        "id": "w7SJO5DdXDko",
        "colab": {
          "base_uri": "https://localhost:8080/"
        },
        "outputId": "e96cf0f9-b516-4982-8e64-f22a5d706ea6"
      },
      "outputs": [
        {
          "output_type": "stream",
          "name": "stderr",
          "text": [
            "  7%|▋         | 1656/25007 [00:52<11:30, 33.83it/s]"
          ]
        },
        {
          "output_type": "stream",
          "name": "stdout",
          "text": [
            "unknown file extension:  1651 https://lh4.googleusercontent.com/proxy/qg-k0HMNY6DaNBaSEIJdokyIloovn4dbdjDJtk8XzEQrX-IspOw0lzKfuRVY_bacN4abLXtp4XoPYJt89XOnh-K_uTIkdxLitIiwXOye=s0-d\n"
          ]
        },
        {
          "output_type": "stream",
          "name": "stderr",
          "text": [
            " 23%|██▎       | 5739/25007 [02:50<09:43, 33.00it/s]"
          ]
        },
        {
          "output_type": "stream",
          "name": "stdout",
          "text": [
            "unknown file extension:  5733 https://2.bp.blogspot.com/-7YovtPx3SoY/WHG2MK42yFI/AAAAAAABA_s/O9io3JgZJF87EEOT6udwMABKyO_9zpLQACLcB/s400/paralympic_#archery.png\n"
          ]
        },
        {
          "output_type": "stream",
          "name": "stderr",
          "text": [
            " 29%|██▉       | 7306/25007 [03:33<08:03, 36.59it/s]"
          ]
        },
        {
          "output_type": "stream",
          "name": "stdout",
          "text": [
            "unknown file extension:  7300 https://lh4.googleusercontent.com/proxy/qg-k0HMNY6DaNBaSEIJdokyIloovn4dbdjDJtk8XzEQrX-IspOw0lzKfuRVY_bacN4abLXtp4XoPYJt89XOnh-K_uTIkdxLitIiwXOye=s0-d\n"
          ]
        },
        {
          "output_type": "stream",
          "name": "stderr",
          "text": [
            " 51%|█████     | 12630/25007 [06:08<06:21, 32.48it/s]"
          ]
        },
        {
          "output_type": "stream",
          "name": "stdout",
          "text": [
            "[Errno 2] No such file or directory: '/content/images/12625/tamanegi_onion+(1).png' 12625 https://3.bp.blogspot.com/-SDkR2b5YQec/UkJNENH-daI/AAAAAAAAYYE/fZCzG5KG9I4/s400/tamanegi_onion+(1).png\n"
          ]
        },
        {
          "output_type": "stream",
          "name": "stderr",
          "text": [
            " 62%|██████▏   | 15397/25007 [07:34<04:34, 34.96it/s]"
          ]
        },
        {
          "output_type": "stream",
          "name": "stdout",
          "text": [
            "unknown file extension:  15390 https://lh4.googleusercontent.com/proxy/qg-k0HMNY6DaNBaSEIJdokyIloovn4dbdjDJtk8XzEQrX-IspOw0lzKfuRVY_bacN4abLXtp4XoPYJt89XOnh-K_uTIkdxLitIiwXOye=s0-d\n"
          ]
        },
        {
          "output_type": "stream",
          "name": "stderr",
          "text": [
            " 69%|██████▊   | 17142/25007 [08:33<04:17, 30.50it/s]"
          ]
        },
        {
          "output_type": "stream",
          "name": "stdout",
          "text": [
            "[Errno 2] No such file or directory: '/content/images/17135/kaden_stand+(1).png' 17135 https://3.bp.blogspot.com/-UV6E0Ecju68/UnXnT0rAYAI/AAAAAAAAaNE/83TmKz0yMus/s400/kaden_stand+(1).png\n"
          ]
        },
        {
          "output_type": "stream",
          "name": "stderr",
          "text": [
            " 86%|████████▌ | 21469/25007 [10:47<01:46, 33.18it/s]"
          ]
        },
        {
          "output_type": "stream",
          "name": "stdout",
          "text": [
            "[Errno 2] No such file or directory: '/content/images/21470/Cocos-(Keeling)-Islands-The.png' 21470 https://2.bp.blogspot.com/-h_yq0pXhHKg/U2tHdKJj3fI/AAAAAAAAgM8/zHI3vvYVM0U/s120/Cocos-(Keeling)-Islands-The.png\n"
          ]
        },
        {
          "output_type": "stream",
          "name": "stderr",
          "text": [
            " 95%|█████████▍| 23685/25007 [11:52<00:30, 42.97it/s]"
          ]
        },
        {
          "output_type": "stream",
          "name": "stdout",
          "text": [
            "unknown file extension:  23675 https://goo.gl/kte14\n"
          ]
        },
        {
          "output_type": "stream",
          "name": "stderr",
          "text": [
            "100%|██████████| 25007/25007 [12:30<00:00, 33.32it/s]\n"
          ]
        }
      ],
      "source": [
        "import os\n",
        "import urllib\n",
        "from transformers import CLIPFeatureExtractor\n",
        "from PIL import Image\n",
        "from tqdm import tqdm\n",
        "\n",
        "\n",
        "# 前処理後の画像ファイルを格納するディレクトリを作成\n",
        "for item_index in range(len(items)):\n",
        "    os.makedirs(f\"/content/images_224x224/{item_index}\", exist_ok=True)\n",
        "\n",
        "\n",
        "# 前処理関数：画像のリサイズと中央部分の切り出しを行うことでサイズを224x244にする。\n",
        "preprocessor = CLIPFeatureExtractor(\n",
        "    do_resize=True, size=224,\n",
        "    do_center_crop=True, crop_size=224,\n",
        "    do_normalize=False)\n",
        "\n",
        "for item_index, item in tqdm(enumerate(items), total=len(items)):\n",
        "    for image_url in item[\"imgs\"]:\n",
        "        try:\n",
        "            image_filename = urllib.parse.urlparse(image_url).path.rsplit(\"/\", 1)[-1]\n",
        "            image_filepath = f\"/content/images/{item_index}/{image_filename}\"\n",
        "            image = Image.open(image_filepath)\n",
        "            resized_and_cropped_image = preprocessor([image]).pixel_values[0]\n",
        "            resized_and_cropped_image.save(f\"/content/images_224x224/{item_index}/{image_filename}\")\n",
        "        except Exception as e:\n",
        "            print(e, item_index, image_url)\n",
        "            pass"
      ]
    },
    {
      "cell_type": "markdown",
      "metadata": {
        "id": "754s5Z3b0iaI"
      },
      "source": [
        "# CLIP用クラスを定義し、モデルを読み込み"
      ]
    },
    {
      "cell_type": "code",
      "execution_count": null,
      "metadata": {
        "id": "81pJWB_hz9Hd"
      },
      "outputs": [],
      "source": [
        "import os\n",
        "import torch\n",
        "from torch import nn\n",
        "from transformers import AutoModel, AutoTokenizer\n",
        "from huggingface_hub import hf_hub_download\n",
        "\n",
        "\n",
        "class ClipTextModel(nn.Module):\n",
        "    def __init__(self, model_name_or_path, device=None):\n",
        "        super(ClipTextModel, self).__init__()\n",
        "\n",
        "        if os.path.exists(model_name_or_path):\n",
        "            # load from file system\n",
        "            output_linear_state_dict = torch.load(os.path.join(model_name_or_path, \"output_linear.bin\"))\n",
        "        else:\n",
        "            # download from the Hugging Face model hub\n",
        "            filename = hf_hub_download(repo_id=model_name_or_path, filename=\"output_linear.bin\")\n",
        "            output_linear_state_dict = torch.load(filename)\n",
        "\n",
        "        self.model = AutoModel.from_pretrained(model_name_or_path)\n",
        "        config = self.model.config\n",
        "\n",
        "        self.max_cls_depth = 6\n",
        "\n",
        "        sentence_vector_size = output_linear_state_dict[\"bias\"].shape[0]\n",
        "        self.sentence_vector_size = sentence_vector_size\n",
        "        self.output_linear = nn.Linear(self.max_cls_depth * config.hidden_size, sentence_vector_size)\n",
        "        self.output_linear.load_state_dict(output_linear_state_dict)\n",
        "\n",
        "        self.tokenizer = AutoTokenizer.from_pretrained(model_name_or_path, \n",
        "                                                       is_fast=True, do_lower_case=True)\n",
        "\n",
        "        self.eval()\n",
        "\n",
        "        if device is None:\n",
        "            device = \"cuda\" if torch.cuda.is_available() else \"cpu\"\n",
        "        self.device = torch.device(device)\n",
        "        self.to(self.device)\n",
        "\n",
        "    def forward(\n",
        "        self,\n",
        "        input_ids=None,\n",
        "        attention_mask=None,\n",
        "        token_type_ids=None,\n",
        "    ):\n",
        "        output_states = self.model(\n",
        "            input_ids,\n",
        "            attention_mask=attention_mask,\n",
        "            token_type_ids=token_type_ids,\n",
        "            position_ids=None,\n",
        "            head_mask=None,\n",
        "            inputs_embeds=None,\n",
        "            output_attentions=None,\n",
        "            output_hidden_states=True,\n",
        "            return_dict=True,\n",
        "        )\n",
        "        token_embeddings = output_states[0]\n",
        "        input_mask_expanded = attention_mask.unsqueeze(-1).expand(token_embeddings.size()).float()\n",
        "        hidden_states = output_states[\"hidden_states\"]\n",
        "\n",
        "        output_vectors = []\n",
        "\n",
        "        for i in range(1, self.max_cls_depth + 1):\n",
        "            cls_token = hidden_states[-1 * i][:, 0]\n",
        "            output_vectors.append(cls_token)\n",
        "\n",
        "        output_vector = torch.cat(output_vectors, dim=1)\n",
        "        logits = self.output_linear(output_vector)\n",
        "\n",
        "        output = (logits,) + output_states[2:]\n",
        "        return output\n",
        "\n",
        "    @torch.no_grad()\n",
        "    def encode_text(self, texts, batch_size=8, max_length=64):\n",
        "        self.eval()\n",
        "        all_embeddings = []\n",
        "        iterator = range(0, len(texts), batch_size)\n",
        "        for batch_idx in iterator:\n",
        "            batch = texts[batch_idx:batch_idx + batch_size]\n",
        "\n",
        "            encoded_input = self.tokenizer.batch_encode_plus(\n",
        "                batch, max_length=max_length, padding=\"longest\", \n",
        "                truncation=True, return_tensors=\"pt\").to(self.device)\n",
        "            model_output = self(**encoded_input)\n",
        "            text_embeddings = model_output[0].cpu()\n",
        "\n",
        "            all_embeddings.extend(text_embeddings)\n",
        "\n",
        "        # return torch.stack(all_embeddings).numpy()\n",
        "        return torch.stack(all_embeddings)        \n",
        "\n",
        "    def save(self, output_dir):\n",
        "        self.model.save_pretrained(output_dir)\n",
        "        self.tokenizer.save_pretrained(output_dir)\n",
        "        torch.save(self.output_linear.state_dict(), os.path.join(output_dir, \"output_linear.bin\"))\n"
      ]
    },
    {
      "cell_type": "code",
      "execution_count": null,
      "metadata": {
        "id": "Me-bU3cj0Cz_"
      },
      "outputs": [],
      "source": [
        "import os\n",
        "import torch\n",
        "from torch import nn\n",
        "import transformers\n",
        "from huggingface_hub import hf_hub_download\n",
        "\n",
        "\n",
        "class ClipVisionModel(nn.Module):\n",
        "    def __init__(self, model_name_or_path, device=None):\n",
        "        super(ClipVisionModel, self).__init__()\n",
        "\n",
        "        if os.path.exists(model_name_or_path):\n",
        "            # load from file system\n",
        "            visual_projection_state_dict = torch.load(os.path.join(model_name_or_path, \"visual_projection.bin\"))\n",
        "        else:\n",
        "            # download from the Hugging Face model hub\n",
        "            filename = hf_hub_download(repo_id=model_name_or_path, filename=\"visual_projection.bin\")\n",
        "            visual_projection_state_dict = torch.load(filename)\n",
        "\n",
        "        self.model = transformers.CLIPVisionModel.from_pretrained(model_name_or_path)\n",
        "        config = self.model.config\n",
        "\n",
        "        self.feature_extractor = transformers.CLIPFeatureExtractor.from_pretrained(model_name_or_path)\n",
        "\n",
        "        vision_embed_dim = config.hidden_size\n",
        "        projection_dim = 512\n",
        "\n",
        "        self.visual_projection = nn.Linear(vision_embed_dim, projection_dim, bias=False)\n",
        "        self.visual_projection.load_state_dict(visual_projection_state_dict)\n",
        "\n",
        "        self.eval()\n",
        "\n",
        "        if device is None:\n",
        "            device = \"cuda\" if torch.cuda.is_available() else \"cpu\"\n",
        "        self.device = torch.device(device)\n",
        "        self.to(self.device)\n",
        "\n",
        "    def forward(\n",
        "        self,\n",
        "        pixel_values=None,\n",
        "        output_attentions=None,\n",
        "        output_hidden_states=None,\n",
        "        return_dict=None,\n",
        "    ):\n",
        "        output_states = self.model(\n",
        "            pixel_values=pixel_values,\n",
        "            output_attentions=output_attentions,\n",
        "            output_hidden_states=output_hidden_states,\n",
        "            return_dict=return_dict,\n",
        "        )\n",
        "        image_embeds = self.visual_projection(output_states[1])\n",
        "\n",
        "        return image_embeds\n",
        "\n",
        "    @torch.no_grad()\n",
        "    def encode_image(self, images, batch_size=8):\n",
        "        self.eval()\n",
        "        all_embeddings = []\n",
        "        iterator = range(0, len(images), batch_size)\n",
        "        for batch_idx in iterator:\n",
        "            batch = images[batch_idx:batch_idx + batch_size]\n",
        "\n",
        "            encoded_input = self.feature_extractor(batch, return_tensors=\"pt\").to(self.device)\n",
        "            model_output = self(**encoded_input)\n",
        "            image_embeddings = model_output.cpu()\n",
        "\n",
        "            all_embeddings.extend(image_embeddings)\n",
        "\n",
        "        # return torch.stack(all_embeddings).numpy()\n",
        "        return torch.stack(all_embeddings)        \n",
        "\n",
        "    @staticmethod\n",
        "    def remove_alpha_channel(image):\n",
        "        image.convert(\"RGBA\")\n",
        "        alpha = image.convert('RGBA').split()[-1]\n",
        "        background = Image.new(\"RGBA\", image.size, (255, 255, 255))\n",
        "        background.paste(image, mask=alpha)\n",
        "        image = background.convert(\"RGB\")\n",
        "        return image\n",
        "\n",
        "    def save(self, output_dir):\n",
        "        self.model.save_pretrained(output_dir)\n",
        "        self.feature_extractor.save_pretrained(output_dir)\n",
        "        torch.save(self.visual_projection.state_dict(), os.path.join(output_dir, \"visual_projection.bin\"))\n"
      ]
    },
    {
      "cell_type": "code",
      "execution_count": null,
      "metadata": {
        "id": "OXa1Gqvvy4BK"
      },
      "outputs": [],
      "source": [
        "import os\n",
        "import torch\n",
        "from torch import nn\n",
        "from huggingface_hub import snapshot_download\n",
        "\n",
        "\n",
        "class ClipModel(nn.Module):\n",
        "    def __init__(self, model_name_or_path, device=None):\n",
        "        super(ClipModel, self).__init__()\n",
        "\n",
        "        if os.path.exists(model_name_or_path):\n",
        "            # load from file system\n",
        "            repo_dir = model_name_or_path\n",
        "        else:\n",
        "            # download from the Hugging Face model hub\n",
        "            repo_dir = snapshot_download(model_name_or_path)\n",
        "\n",
        "        self.text_model = ClipTextModel(repo_dir, device=device)\n",
        "        self.vision_model = ClipVisionModel(os.path.join(repo_dir, \"vision_model\"), device=device)\n",
        "\n",
        "        with torch.no_grad():\n",
        "            logit_scale = nn.Parameter(torch.ones([]) * 2.6592)\n",
        "            logit_scale.set_(torch.load(os.path.join(repo_dir, \"logit_scale.bin\")).clone().cpu())\n",
        "            self.logit_scale = logit_scale\n",
        "\n",
        "        self.eval()\n",
        "\n",
        "        if device is None:\n",
        "            device = \"cuda\" if torch.cuda.is_available() else \"cpu\"\n",
        "        self.device = torch.device(device)\n",
        "        self.to(self.device)\n",
        "\n",
        "    def forward(self, pixel_values, input_ids, attention_mask, token_type_ids):\n",
        "        image_features = self.vision_model(pixel_values=pixel_values)\n",
        "        text_features = self.text_model(input_ids=input_ids, \n",
        "                                        attention_mask=attention_mask, \n",
        "                                        token_type_ids=token_type_ids)[0]\n",
        "\n",
        "        image_features = image_features / image_features.norm(dim=-1, keepdim=True)\n",
        "        text_features = text_features / text_features.norm(dim=-1, keepdim=True)\n",
        "\n",
        "        logit_scale = self.logit_scale.exp()\n",
        "        logits_per_image = logit_scale * image_features @ text_features.t()\n",
        "        logits_per_text = logits_per_image.t()\n",
        "\n",
        "        return logits_per_image, logits_per_text\n",
        "\n",
        "    def save(self, output_dir):\n",
        "        torch.save(self.logit_scale, os.path.join(output_dir, \"logit_scale.bin\"))\n",
        "        self.text_model.save(output_dir)\n",
        "        self.vision_model.save(os.path.join(output_dir, \"vision_model\"))"
      ]
    },
    {
      "cell_type": "markdown",
      "metadata": {
        "id": "jDxNKu4NXBOC"
      },
      "source": [
        "# 日本語CLIPモデルを読み込む"
      ]
    },
    {
      "cell_type": "code",
      "execution_count": null,
      "metadata": {
        "id": "pn63CjCA0GQx",
        "colab": {
          "base_uri": "https://localhost:8080/",
          "height": 497,
          "referenced_widgets": [
            "c9d81566f5744f4cb86b516363c1b42d",
            "5f8d7218bc6044fa9d60248eb8053841",
            "2f0244d74d084db69f45749acac62cfd",
            "c116399c4fa545dab3b04d1d39a83650",
            "0158556697fa41eabada92e71236b9b1",
            "79b0252f152d46279a45d3115de752a3",
            "be0845ab78844a2e8d6bbec2dd7a9358",
            "024e50156b31460bbd3eb7bdd4dfa30e",
            "eb2bf681805743818b2e78d362d5f444",
            "56d404b43cbc4e3ba48434370f720ff4",
            "35351bc80f384c0b940da941f519cc42",
            "8e4a08214e2443e7b6ef2522275d03e2",
            "acaab920a0c54d4ab846d23a2dca5cc8",
            "287072d34c294f36be5375cc5996ee5e",
            "c3ab5a7420e94d979461b42838669bb4",
            "08f7591b6848492e9c2dea578d7d4aa6",
            "a859ddf86bed49e0abb884596eaf3f54",
            "1119031184ee44e999abe3551af82801",
            "cc399edc550141009dd8cfb3230c15d7",
            "6a1ac86fe7f941eb87ebc51a0d9bda73",
            "0627e0657f3e457e949acfaa938b6260",
            "f03fb9436db74ff69767dfea93f47855",
            "d211f4fb570541dabffed3ab2ae522ff",
            "7a28547e1480469b95e4ff360e94c033",
            "12d776c03f104dc88d0aa8dcb2ad2147",
            "d0e8fa32051144909d10f6c380f6cdd8",
            "7706848576fa4146a2389092535454cb",
            "05857dedd41d4d6f901deac5db33ce21",
            "f0ccc1797533494bb315d4eb07c20391",
            "95bc0a4aaea242219bafc564577831a3",
            "d4a25af4ddb04e128ea330245f5ff055",
            "cf1458354a9f438682dadee5ee3b0e3c",
            "5593602c1d344b63b5307cca1be909d1",
            "51274999131042c3a23b3c830724cc4d",
            "70fff81298444bfb9c89d0d0c952e622",
            "a4d00562c0c34d13b30c4aa4cf9fa1f0",
            "4516e5466b994905a056db9b280c09f9",
            "ebcfaf9515f347fbb3c92412cb527b52",
            "0eb9f68f9739444490cc01f2e020a450",
            "a3ff9e29eea94c8bae9ca194aaf559e6",
            "11f59bd134854dcebbceafe42e9e6046",
            "b426d8a9708d43148837fa8df0123ce6",
            "78f3c7636deb435c923284fe037e2739",
            "9d2794cf6d64434ca6b7ac0b3438b94c",
            "e18d9631432f4fce9477488e0d6a7124",
            "40a066eb619e468e9dbaf3fbfcedc4c2",
            "e37882912d2543da94de183ce2f27a04",
            "91c1d1eca7824d99b9dbf911bd9e7298",
            "1986522157a945dba4bb330273377c4e",
            "6d0921423fef4c19bfb9130aa79297e2",
            "83003a92aed74454ba637ef74a40aea4",
            "01ed307366664e3abc3821f3ce2b76b3",
            "0102ecacfe8a4787be66239c39fe9766",
            "efaf44a6f7304b53844336676c48a66a",
            "f403319976f64614a2e2e25cc7d783a7",
            "8378d6b491c9430e9bc7d47a0eb7cdb6",
            "74a901aa62934323a7da7439814cd696",
            "a3cca06327bc4e02844a88de2f4275b0",
            "95c724b3816f4b91a10fb0fcde3c0813",
            "d7f2d837cf9242d8837d798cee9277eb",
            "6892405ee7e444019b9da5d074dad2df",
            "dd9fde8a98f84e03bf460df942f5a023",
            "006e25fe32254e1da001e6cb29c851f8",
            "0a06ff477ae54090a2f8e8789e2224e5",
            "bf5c77b3fef24de2b1938673fbb906e4",
            "857743fa82bd4db295b6f2a9bfba7436",
            "70055e7168ec487a96d0e2fb4307922e",
            "e44afa37efc643ddbc8098dfd9351643",
            "313bb065cfda4c99b4c0a62830bf5f8a",
            "3b59214540194f81a71901ea063a7365",
            "d55c432b8e3c42b790fd99d21a107d21",
            "e41aca17ac654078bef66307bde85f3c",
            "e4df05c33de84d209350a0676d775a90",
            "862ab0acd4664edaa755c81d543be2e1",
            "4f5ae66251734f9584f365f0f2a4a446",
            "3e6da4046853475597705408fdd89dfc",
            "8488aa43d9c74e628551642d2e7bd5f7",
            "8169193f9caf4eb69b5fbb0214da784d",
            "3aad5f0ddf5d4139a6ebb27c35b0f1d4",
            "4215a06a98ce4c47a554dd1dcdc4a276",
            "48db6a79c9424ca89a5cf943f6cc15e6",
            "70ed57a0c154413bae93cd3b11e736e1",
            "7e6118703a484c6c80dc78d98d29755c",
            "8855772b3368470a92f73c743197a04f",
            "61d58921ed274e3eaba06d2b0885c8a7",
            "766b046f520c4293b0467362b7489862",
            "dce6a4e7d62e42f3a4906f158463361f",
            "a451b0c77ff640cbaac16059cc1f78b3",
            "b19e0ecc202144669cc032aa54a349cd",
            "563519e24f6b4e57b8d38d6212071791",
            "773bc9f3b6b246a086ed2a5a5e53cf91",
            "fbc3404ebedc4fea9a7fa4a6bf4e8b02",
            "5224f519a9374d5d8928484b0c824f4e",
            "c2687ce7b6934ee48a64b5f066ddf37a",
            "5c3eb221183649d2aa55e8865afb74b0",
            "ced12ccb0eff4838b2fc992278d8a0ac",
            "67b35af19b204078b567ce305ba466aa",
            "1e26438f19d04443a9b94879ad796e26",
            "4d7e1e4361f34e559b59b0c909b13e1a",
            "9211d66465cd40828e25393d9551ba46",
            "464cb5c14eb841519e8b381184ca2e25",
            "ee0582bee37543299efe17f23274d94f",
            "5a3a32dfe9784925ad85cadfca4551f3",
            "49f4f62d74e040d5bd49c6b6eaedb656",
            "25f59a9bdedd4d51aef987148044fa2c",
            "df86b47f9820486f8baf3ec079698998",
            "b5db6cda593b42c184060b26ba29c223",
            "6f55600338074ca1a7eccf615c4a76f8",
            "48e6117c47dd4182865454418dc7f778",
            "8458731523ab47938936f88d78095309",
            "cff7e8f96f6949b38c3b192e4cc7ff99",
            "841a7525b1864f879f051b8c3b52c638",
            "162a225470c34996a971affa6fe071a6",
            "8455b62b29db41a5a5799f111ad71a82",
            "a409ec52547f406c886546f1be59cf9b",
            "f231f0ac1cba4b8fa9d01cf44732762f",
            "bfc8e89ba4e64695896a70aa9231d352",
            "128b4793bd104995a7bf2f15a76ee45d",
            "02925db509c342a6b3e1dafcf69b8da0",
            "50b8ab2c6e7545d5828e7a2d5c400a7c",
            "bfe599e32d314e878f71f59da5b01f7e",
            "b6727b28ae934ec89ec616bb12f96d97",
            "73377230fe474f9d95c699510db8390b",
            "47ce8ec1254a4cb98616e4e72c437c2b",
            "55c1701c12264c3d8988110f32cdbbbd",
            "b39e588126e341029e6f1faa9fe936f8",
            "f34f35c427f44f08a99b53a81413b90d",
            "459c28685c5c4dbb8b59a206508acda6",
            "f7e04adfcb0144bcb4d3260361f02287",
            "a4d6430e6daf46f7a26269aeced57d31",
            "6af4bf2d3103455b90c999a59f9f5383",
            "b9f1943f4b484655a8c9a974ae62578d",
            "42fc519fefc14fe4b8178972157a265f",
            "61e7e8e2b5a845ffa54296015e01706c",
            "482741e0c90c46e3aebb005e8b2d88ac",
            "7fabd782c9cb42bea6e49f65698bf3f9",
            "15d9b15c5017448fbd1696e17af3a219",
            "67dcfe06595e4516837ca0c8fdfeb7fc",
            "1955784768d4433eb9544867f8d6bfed",
            "ebd74fa5b9544fbcbf1f1718905532a8",
            "ad3a7db95eee487a8ceeb0cedd5663f6",
            "bf835500aa054d0ea1281dcde5c489d9",
            "294e5811562940d8a7a8a07397f2c286",
            "69c9fd03454a46ac9e18521611134b0e",
            "610c0fde4ef94d80b735758732225cf3",
            "63fb25a22a1b4fac95bfebb584d8e11b",
            "c8f86ba8dacb46f0bb3dc380e3d7789a",
            "be1bc11ecc624b8db8274ed413df0e5e",
            "e49ad7c50abe476c886f08b0b280d762",
            "27d05715ba5546cbb01093aaf721e0cc",
            "8ad9ad0228754ad5921b3490c4cca3c3",
            "0768cd49e3dc4f0aa59fd2e1654be7d7",
            "7e70bd29bccf48cea0f1e5c40aee4a0d",
            "a7728fa7f0b24fe8a09acc759be60371",
            "0813c031de05466ea725fb86255545eb",
            "115263bed1f04ddb83805686a4d16ddc",
            "e4d3dc8af3194cea80b6f92b1e7f9f84",
            "57ac01ce99d144a18a6855058f0a7c37",
            "7f6affa5820845e3a088cc46ac303cb9",
            "7f343fcc290842b2ac8ee3d20f8dede2",
            "97008deaa0d94889bdc151af416e5efb",
            "8db5e7f846354895a5cae93b4dea267b",
            "b81d7d990cbb4fa7bf366f203b55518f",
            "7347aa82de65477084c05463558d5814",
            "121d96d6537c4c43b54e4406feadf4b5"
          ]
        },
        "outputId": "5a11fa83-38f2-45f1-a5cd-353f93338baf"
      },
      "outputs": [
        {
          "output_type": "display_data",
          "data": {
            "text/plain": [
              "Downloading:   0%|          | 0.00/1.18k [00:00<?, ?B/s]"
            ],
            "application/vnd.jupyter.widget-view+json": {
              "version_major": 2,
              "version_minor": 0,
              "model_id": "c9d81566f5744f4cb86b516363c1b42d"
            }
          },
          "metadata": {}
        },
        {
          "output_type": "display_data",
          "data": {
            "text/plain": [
              "Downloading:   0%|          | 0.00/1.33k [00:00<?, ?B/s]"
            ],
            "application/vnd.jupyter.widget-view+json": {
              "version_major": 2,
              "version_minor": 0,
              "model_id": "8e4a08214e2443e7b6ef2522275d03e2"
            }
          },
          "metadata": {}
        },
        {
          "output_type": "display_data",
          "data": {
            "text/plain": [
              "Downloading:   0%|          | 0.00/685 [00:00<?, ?B/s]"
            ],
            "application/vnd.jupyter.widget-view+json": {
              "version_major": 2,
              "version_minor": 0,
              "model_id": "d211f4fb570541dabffed3ab2ae522ff"
            }
          },
          "metadata": {}
        },
        {
          "output_type": "display_data",
          "data": {
            "text/plain": [
              "Downloading:   0%|          | 0.00/747 [00:00<?, ?B/s]"
            ],
            "application/vnd.jupyter.widget-view+json": {
              "version_major": 2,
              "version_minor": 0,
              "model_id": "51274999131042c3a23b3c830724cc4d"
            }
          },
          "metadata": {}
        },
        {
          "output_type": "display_data",
          "data": {
            "text/plain": [
              "Downloading:   0%|          | 0.00/9.44M [00:00<?, ?B/s]"
            ],
            "application/vnd.jupyter.widget-view+json": {
              "version_major": 2,
              "version_minor": 0,
              "model_id": "e18d9631432f4fce9477488e0d6a7124"
            }
          },
          "metadata": {}
        },
        {
          "output_type": "display_data",
          "data": {
            "text/plain": [
              "Downloading:   0%|          | 0.00/443M [00:00<?, ?B/s]"
            ],
            "application/vnd.jupyter.widget-view+json": {
              "version_major": 2,
              "version_minor": 0,
              "model_id": "8378d6b491c9430e9bc7d47a0eb7cdb6"
            }
          },
          "metadata": {}
        },
        {
          "output_type": "display_data",
          "data": {
            "text/plain": [
              "Downloading:   0%|          | 0.00/112 [00:00<?, ?B/s]"
            ],
            "application/vnd.jupyter.widget-view+json": {
              "version_major": 2,
              "version_minor": 0,
              "model_id": "70055e7168ec487a96d0e2fb4307922e"
            }
          },
          "metadata": {}
        },
        {
          "output_type": "display_data",
          "data": {
            "text/plain": [
              "Downloading:   0%|          | 0.00/500 [00:00<?, ?B/s]"
            ],
            "application/vnd.jupyter.widget-view+json": {
              "version_major": 2,
              "version_minor": 0,
              "model_id": "8169193f9caf4eb69b5fbb0214da784d"
            }
          },
          "metadata": {}
        },
        {
          "output_type": "display_data",
          "data": {
            "text/plain": [
              "Downloading:   0%|          | 0.00/751 [00:00<?, ?B/s]"
            ],
            "application/vnd.jupyter.widget-view+json": {
              "version_major": 2,
              "version_minor": 0,
              "model_id": "b19e0ecc202144669cc032aa54a349cd"
            }
          },
          "metadata": {}
        },
        {
          "output_type": "display_data",
          "data": {
            "text/plain": [
              "Downloading:   0%|          | 0.00/713 [00:00<?, ?B/s]"
            ],
            "application/vnd.jupyter.widget-view+json": {
              "version_major": 2,
              "version_minor": 0,
              "model_id": "9211d66465cd40828e25393d9551ba46"
            }
          },
          "metadata": {}
        },
        {
          "output_type": "display_data",
          "data": {
            "text/plain": [
              "Downloading:   0%|          | 0.00/4.46k [00:00<?, ?B/s]"
            ],
            "application/vnd.jupyter.widget-view+json": {
              "version_major": 2,
              "version_minor": 0,
              "model_id": "cff7e8f96f6949b38c3b192e4cc7ff99"
            }
          },
          "metadata": {}
        },
        {
          "output_type": "display_data",
          "data": {
            "text/plain": [
              "Downloading:   0%|          | 0.00/316 [00:00<?, ?B/s]"
            ],
            "application/vnd.jupyter.widget-view+json": {
              "version_major": 2,
              "version_minor": 0,
              "model_id": "b6727b28ae934ec89ec616bb12f96d97"
            }
          },
          "metadata": {}
        },
        {
          "output_type": "display_data",
          "data": {
            "text/plain": [
              "Downloading:   0%|          | 0.00/350M [00:00<?, ?B/s]"
            ],
            "application/vnd.jupyter.widget-view+json": {
              "version_major": 2,
              "version_minor": 0,
              "model_id": "42fc519fefc14fe4b8178972157a265f"
            }
          },
          "metadata": {}
        },
        {
          "output_type": "display_data",
          "data": {
            "text/plain": [
              "Downloading:   0%|          | 0.00/1.57M [00:00<?, ?B/s]"
            ],
            "application/vnd.jupyter.widget-view+json": {
              "version_major": 2,
              "version_minor": 0,
              "model_id": "69c9fd03454a46ac9e18521611134b0e"
            }
          },
          "metadata": {}
        },
        {
          "output_type": "display_data",
          "data": {
            "text/plain": [
              "Downloading:   0%|          | 0.00/258k [00:00<?, ?B/s]"
            ],
            "application/vnd.jupyter.widget-view+json": {
              "version_major": 2,
              "version_minor": 0,
              "model_id": "0813c031de05466ea725fb86255545eb"
            }
          },
          "metadata": {}
        }
      ],
      "source": [
        "import torch\n",
        "\n",
        "device = \"cuda\" if torch.cuda.is_available() else \"cpu\"\n",
        "model = ClipModel(\"sonoisa/clip-vit-b-32-japanese-v1\", device=device)"
      ]
    },
    {
      "cell_type": "markdown",
      "metadata": {
        "id": "2zt44QMsBsms"
      },
      "source": [
        "# ゼロショット用のデータセットを作る"
      ]
    },
    {
      "cell_type": "markdown",
      "source": [
        "文の正規化処理の定義"
      ],
      "metadata": {
        "id": "nkOiv9NJoI65"
      }
    },
    {
      "cell_type": "code",
      "execution_count": null,
      "metadata": {
        "id": "gAuNeNpECPZ0"
      },
      "outputs": [],
      "source": [
        "# https://github.com/neologd/mecab-ipadic-neologd/wiki/Regexp.ja から引用・一部改変\n",
        "from __future__ import unicode_literals\n",
        "import re\n",
        "import unicodedata\n",
        "\n",
        "def unicode_normalize(cls, s):\n",
        "    pt = re.compile('([{}]+)'.format(cls))\n",
        "\n",
        "    def norm(c):\n",
        "        return unicodedata.normalize('NFKC', c) if pt.match(c) else c\n",
        "\n",
        "    s = ''.join(norm(x) for x in re.split(pt, s))\n",
        "    s = re.sub('－', '-', s)\n",
        "    return s\n",
        "\n",
        "def remove_extra_spaces(s):\n",
        "    s = re.sub('[ 　]+', ' ', s)\n",
        "    blocks = ''.join(('\\u4E00-\\u9FFF',  # CJK UNIFIED IDEOGRAPHS\n",
        "                      '\\u3040-\\u309F',  # HIRAGANA\n",
        "                      '\\u30A0-\\u30FF',  # KATAKANA\n",
        "                      '\\u3000-\\u303F',  # CJK SYMBOLS AND PUNCTUATION\n",
        "                      '\\uFF00-\\uFFEF'   # HALFWIDTH AND FULLWIDTH FORMS\n",
        "                      ))\n",
        "    basic_latin = '\\u0000-\\u007F'\n",
        "\n",
        "    def remove_space_between(cls1, cls2, s):\n",
        "        p = re.compile('([{}]) ([{}])'.format(cls1, cls2))\n",
        "        while p.search(s):\n",
        "            s = p.sub(r'\\1\\2', s)\n",
        "        return s\n",
        "\n",
        "    s = remove_space_between(blocks, blocks, s)\n",
        "    s = remove_space_between(blocks, basic_latin, s)\n",
        "    s = remove_space_between(basic_latin, blocks, s)\n",
        "    return s\n",
        "\n",
        "def normalize_neologd(s):\n",
        "    s = s.strip()\n",
        "    s = unicode_normalize('０-９Ａ-Ｚａ-ｚ｡-ﾟ', s)\n",
        "\n",
        "    def maketrans(f, t):\n",
        "        return {ord(x): ord(y) for x, y in zip(f, t)}\n",
        "\n",
        "    s = re.sub('[˗֊‐‑‒–⁃⁻₋−]+', '-', s)  # normalize hyphens\n",
        "    s = re.sub('[﹣－ｰ—―─━ー]+', 'ー', s)  # normalize choonpus\n",
        "    s = re.sub('[~∼∾〜〰～]+', '〜', s)  # normalize tildes (modified by Isao Sonobe)\n",
        "    s = s.translate(\n",
        "        maketrans('!\"#$%&\\'()*+,-./:;<=>?@[¥]^_`{|}~｡､･｢｣',\n",
        "              '！”＃＄％＆’（）＊＋，－．／：；＜＝＞？＠［￥］＾＿｀｛｜｝〜。、・「」'))\n",
        "\n",
        "    s = remove_extra_spaces(s)\n",
        "    s = unicode_normalize('！”＃＄％＆’（）＊＋，－．／：；＜＞？＠［￥］＾＿｀｛｜｝〜', s)  # keep ＝,・,「,」\n",
        "    s = re.sub('[’]', '\\'', s)\n",
        "    s = re.sub('[”]', '\"', s)\n",
        "    s = s.lower()\n",
        "    return s\n",
        "\n",
        "def normalize_text(text):\n",
        "    return normalize_neologd(text)"
      ]
    },
    {
      "cell_type": "markdown",
      "source": [
        "文分割処理の定義"
      ],
      "metadata": {
        "id": "_y4B_I2moL9B"
      }
    },
    {
      "cell_type": "code",
      "execution_count": null,
      "metadata": {
        "id": "3sFDOSuXEM1w"
      },
      "outputs": [],
      "source": [
        "import functools\n",
        "from ja_sentence_segmenter.common.pipeline import make_pipeline\n",
        "from ja_sentence_segmenter.concatenate.simple_concatenator import concatenate_matching\n",
        "from ja_sentence_segmenter.split.simple_splitter import split_newline, split_punctuation\n",
        "\n",
        "split_punc2 = functools.partial(split_punctuation, punctuations=r\"。!?\")\n",
        "concat_tail_no = functools.partial(concatenate_matching, former_matching_rule=r\"^(?P<result>.+)(の)$\", \n",
        "                                   remove_former_matched=False)\n",
        "segmenter = make_pipeline(split_newline, concat_tail_no, split_punc2)"
      ]
    },
    {
      "cell_type": "markdown",
      "source": [
        "画像のURLをローカルに存在する画像ファイルへのパスに読み替える処理の定義"
      ],
      "metadata": {
        "id": "iw_IfP7woQBL"
      }
    },
    {
      "cell_type": "code",
      "execution_count": null,
      "metadata": {
        "id": "3tnREgdmTuj4"
      },
      "outputs": [],
      "source": [
        "import os\n",
        "import urllib\n",
        "\n",
        "def get_image_files(item_index, image_urls):\n",
        "    image_files = []\n",
        "    new_image_urls = []\n",
        "    for image_url in image_urls:\n",
        "        image_filename = urllib.parse.urlparse(image_url).path.rsplit(\"/\", 1)[-1]\n",
        "        image_filepath = f\"/content/images_224x224/{item_index}/{image_filename}\"\n",
        "        if os.path.isfile(image_filepath):\n",
        "            image_files.append(image_filepath)\n",
        "            new_image_urls.append(image_url)\n",
        "    return image_files, new_image_urls"
      ]
    },
    {
      "cell_type": "markdown",
      "source": [
        "いらすとやデータの読み込み"
      ],
      "metadata": {
        "id": "Po0Q8Ncoolg9"
      }
    },
    {
      "cell_type": "code",
      "execution_count": null,
      "metadata": {
        "id": "vJoxu9o9CJTL"
      },
      "outputs": [],
      "source": [
        "import json\n",
        "\n",
        "with open(\"/content/irasuto_items_20210224.json\", \"r\", encoding=\"utf-8\") as f_in:\n",
        "    items = json.load(f_in)"
      ]
    },
    {
      "cell_type": "markdown",
      "source": [
        "タイトルと説明文を正規化する"
      ],
      "metadata": {
        "id": "AE54fgrFoswx"
      }
    },
    {
      "cell_type": "code",
      "execution_count": null,
      "metadata": {
        "id": "OT8iHLqUCwSZ"
      },
      "outputs": [],
      "source": [
        "for item in items:\n",
        "    if \"LINEスタンプ\" in item[\"title\"] or \"LINEのスタンプ\" in item[\"title\"]:\n",
        "        continue\n",
        "\n",
        "    try:\n",
        "        title = item[\"title\"]\n",
        "        normalized_title = normalize_text(title)\n",
        "        item[\"normalized_title\"] = normalized_title\n",
        "\n",
        "        desc = item[\"desc\"]\n",
        "        if desc.strip() == \"\":\n",
        "            # 説明文がない場合は、タイトルを説明文にする\n",
        "            item[\"normalized_desc\"] = normalized_title\n",
        "            item[\"desc\"] = title\n",
        "        else:\n",
        "            normalized_desc = normalize_text(desc)\n",
        "            normalized_desc = list(segmenter(normalized_desc))[0]  # 最初の一文を説明文として採用する。\n",
        "            item[\"normalized_desc\"] = normalized_desc\n",
        "    except Exception as e:\n",
        "        print(e, item)\n",
        "        continue"
      ]
    },
    {
      "cell_type": "markdown",
      "source": [
        "いらすとやの全データについて、説明文と画像の埋め込みを計算する"
      ],
      "metadata": {
        "id": "epuyYuyvo0z3"
      }
    },
    {
      "cell_type": "code",
      "execution_count": null,
      "metadata": {
        "id": "5v98wpxtE8gL",
        "colab": {
          "base_uri": "https://localhost:8080/"
        },
        "outputId": "bfc7176d-a043-444b-c5d6-b4fe9e43928c"
      },
      "outputs": [
        {
          "output_type": "stream",
          "name": "stderr",
          "text": [
            "100%|██████████| 25007/25007 [12:26<00:00, 33.52it/s]\n"
          ]
        }
      ],
      "source": [
        "from tqdm import tqdm\n",
        "\n",
        "import pandas as pd\n",
        "from PIL import Image\n",
        "\n",
        "data = []\n",
        "for item_index, item in tqdm(enumerate(items), total=len(items)):\n",
        "    if \"normalized_title\" not in item or \"normalized_desc\" not in item:\n",
        "        continue\n",
        "    \n",
        "    page = item[\"page\"]\n",
        "    title = item[\"title\"]\n",
        "    desc = item[\"desc\"]\n",
        "    normalized_title = item[\"normalized_title\"]\n",
        "    normalized_desc = item[\"normalized_desc\"]\n",
        "    image_urls = item[\"imgs\"]\n",
        "    \n",
        "    image_files, image_urls = get_image_files(item_index, image_urls)\n",
        "    if len(image_files) == 0:\n",
        "        continue\n",
        "\n",
        "    try:\n",
        "        sentence_vector = model.text_model.encode_text([normalized_desc])[0].numpy()\n",
        "    except Exception as e:\n",
        "        print(e, item_index)\n",
        "        continue\n",
        "\n",
        "    try:\n",
        "        # アルファチャネルがある画像は入力できないため、アルファチャネルを削除する（白背景にする）。\n",
        "        images = [ClipVisionModel.remove_alpha_channel(Image.open(image_file)) for image_file in image_files]\n",
        "        image_vectors = model.vision_model.encode_image(images)\n",
        "\n",
        "        for image_vector, image_url, in zip(image_vectors, image_urls):\n",
        "            image_vector = image_vector.numpy()\n",
        "            data.append([item_index, page, title, normalized_title, desc, normalized_desc, \n",
        "                        image_urls, image_url, sentence_vector, image_vector])\n",
        "    except Exception as e:\n",
        "        print(e, item_index)\n",
        "        raise e\n",
        "\n",
        "columns = [\"item_index\", \"page\", \"title\", \"normalized_title\", \"description\", \"normalized_description\", \n",
        "           \"images\", \"image_url\", \"sentence_vector\", \"image_vector\"]\n",
        "df = pd.DataFrame(data, columns=columns)"
      ]
    },
    {
      "cell_type": "markdown",
      "metadata": {
        "id": "kEv-WK78h4Zh"
      },
      "source": [
        "# 検索実験"
      ]
    },
    {
      "cell_type": "code",
      "execution_count": null,
      "metadata": {
        "id": "Z9B6gjiWhMDo"
      },
      "outputs": [],
      "source": [
        "import numpy as np\n",
        "\n",
        "# 検索対象となる全イラストの文の埋め込みベクトル\n",
        "target_sentence_vectors = np.stack(df[\"sentence_vector\"])\n",
        "\n",
        "# 検索対象となる全イラストの画像の埋め込みベクトル\n",
        "target_image_vectors = np.stack(df[\"image_vector\"])"
      ]
    },
    {
      "cell_type": "code",
      "execution_count": null,
      "metadata": {
        "id": "dcvBW6tc3_bP"
      },
      "outputs": [],
      "source": [
        "from scipy.spatial.distance import cdist\n",
        "from html import escape\n",
        "from PIL import Image\n",
        "from IPython.display import display, HTML, clear_output\n",
        "\n",
        "# テキストの埋め込み\n",
        "def encode_text(text, model):\n",
        "    text = normalize_text(text)\n",
        "    text_embedding = model.text_model.encode_text([text]).numpy()\n",
        "    return text_embedding\n",
        "\n",
        "# 画像の埋め込み\n",
        "def encode_image(image_filename, model):\n",
        "    image = Image.open(image_filename)\n",
        "    image_embedding = model.vision_model.encode_image([image]).numpy()\n",
        "    return image_embedding\n",
        "\n",
        "# 検索の実行\n",
        "def search_irasuto(query_embedding, target_vectors, closest_n=10):\n",
        "    distances = cdist(\n",
        "        query_embedding, target_vectors, metric=\"cosine\"\n",
        "    )[0]\n",
        "\n",
        "    results = zip(range(len(distances)), distances)\n",
        "    results = sorted(results, key=lambda x: x[1])\n",
        "\n",
        "    for i, (idx, distance) in enumerate(results[0:closest_n]):\n",
        "        page_url = df.iloc[idx][\"page\"]\n",
        "        desc = df.iloc[idx][\"description\"]\n",
        "        img_url = df.iloc[idx][\"image_url\"]\n",
        "        display(HTML(f\"<div><a href='{page_url}' target='_blank' rel='noopener noreferrer'>\" + \\\n",
        "                     \"<img src='{img_url}' width='100'>{distance / 2:.4f}: {desc}</a><div>\"))\n",
        "    "
      ]
    },
    {
      "cell_type": "code",
      "execution_count": null,
      "metadata": {
        "id": "fA4Ykc-MdQSR",
        "colab": {
          "base_uri": "https://localhost:8080/",
          "height": 519
        },
        "outputId": "1a054c72-c642-442b-9d98-b164ab32d3d3"
      },
      "outputs": [
        {
          "output_type": "display_data",
          "data": {
            "text/plain": [
              "<IPython.core.display.HTML object>"
            ],
            "text/html": [
              "<div><a href='https://www.irasutoya.com/2019/12/blog-post_27.html' target='_blank' rel='noopener noreferrer'><img src='https://1.bp.blogspot.com/-gRz4258lYSs/XdttfpRzyEI/AAAAAAABWIw/V0TopHXLoEwCm4NzhCZAk0BatyZJ6SmIACNcBGAsYHQ/s450/jitensya_dekochari.png' width='100'>0.3491: デコトラのような装飾が施された自転車のイラストです。</a><div>"
            ]
          },
          "metadata": {}
        },
        {
          "output_type": "display_data",
          "data": {
            "text/plain": [
              "<IPython.core.display.HTML object>"
            ],
            "text/html": [
              "<div><a href='https://www.irasutoya.com/2018/05/vr6dof.html' target='_blank' rel='noopener noreferrer'><img src='https://2.bp.blogspot.com/-54PaAjuNmgE/WwUdT-7717I/AAAAAAABMVc/zzgxyc9F7A8ZfAruS9tWcEUg8QJ3RcFEACLcBGAs/s410/vr_motion_tracking_6dof.png' width='100'>0.3497: 頭の回転や傾きに加え、上下左右前後の動きにも連動して仮想空間を映し出すVRゴーグルをかぶった人のイラストです。</a><div>"
            ]
          },
          "metadata": {}
        },
        {
          "output_type": "display_data",
          "data": {
            "text/plain": [
              "<IPython.core.display.HTML object>"
            ],
            "text/html": [
              "<div><a href='https://www.irasutoya.com/2015/05/blog-post_100.html' target='_blank' rel='noopener noreferrer'><img src='https://2.bp.blogspot.com/-a9CjAhlwBNw/VUIJllGXeBI/AAAAAAAAtWY/7lLrm5ts5nA/s400/space_kasei_tansa.png' width='100'>0.3527: 遠隔で火星など遠くの惑星を探査をするために使われる、宇宙探査機（マーズ・ローバー）のイラストです。</a><div>"
            ]
          },
          "metadata": {}
        },
        {
          "output_type": "display_data",
          "data": {
            "text/plain": [
              "<IPython.core.display.HTML object>"
            ],
            "text/html": [
              "<div><a href='https://www.irasutoya.com/2015/07/blog-post_933.html' target='_blank' rel='noopener noreferrer'><img src='https://3.bp.blogspot.com/-wwsqJJCnmng/VahRlfxhrnI/AAAAAAAAvs8/MWAj_IbBc_Q/s400/junk_kikai.png' width='100'>0.3528: ボロボロに壊れた機械（ジャンク）のイラストです。</a><div>"
            ]
          },
          "metadata": {}
        },
        {
          "output_type": "display_data",
          "data": {
            "text/plain": [
              "<IPython.core.display.HTML object>"
            ],
            "text/html": [
              "<div><a href='https://www.irasutoya.com/2020/08/blog-post_5.html' target='_blank' rel='noopener noreferrer'><img src='https://1.bp.blogspot.com/-94A2XmrRku8/XyI9d-GelTI/AAAAAAABaYs/-UxgVocGn5gl58yshiU_drRaNNnWIRh7ACNcBGAsYHQ/s400/syoudoku_machine.png' width='100'>0.3536: 自動運転で消毒剤を散布するロボットのイラストです。</a><div>"
            ]
          },
          "metadata": {}
        }
      ],
      "source": [
        "query_input = \"暴走したAIのイラスト\"\n",
        "\n",
        "query_embedding = encode_text(query_input, model)\n",
        "search_irasuto(query_embedding, target_image_vectors, closest_n=5)"
      ]
    },
    {
      "cell_type": "code",
      "execution_count": null,
      "metadata": {
        "id": "MASCzVIX4KBs",
        "colab": {
          "base_uri": "https://localhost:8080/",
          "height": 561
        },
        "outputId": "3433e249-ef78-4551-a919-d11ff30556e4"
      },
      "outputs": [
        {
          "output_type": "display_data",
          "data": {
            "text/plain": [
              "<IPython.core.display.HTML object>"
            ],
            "text/html": [
              "<div><a href='https://www.irasutoya.com/2018/01/ai_56.html' target='_blank' rel='noopener noreferrer'><img src='https://3.bp.blogspot.com/-4ZXrEpcG74A/WlGpFb87TQI/AAAAAAABJkU/22NohgkRDOIQeh_V4QeDE0yVtBvUheRLACLcBGAs/s400/ai_image_gazou_ninshiki.png' width='100'>0.0230: AI（人工知能）のキャラクターが画像を認識しているイラストです。</a><div>"
            ]
          },
          "metadata": {}
        },
        {
          "output_type": "display_data",
          "data": {
            "text/plain": [
              "<IPython.core.display.HTML object>"
            ],
            "text/html": [
              "<div><a href='https://www.irasutoya.com/2018/01/ai_67.html' target='_blank' rel='noopener noreferrer'><img src='https://3.bp.blogspot.com/-C2s0Odthnhs/WlGpE022cNI/AAAAAAABJkQ/O3rwM1BtFtYUkf83QIarn9eiHA7jLgHSwCLcBGAs/s400/ai_heart_kokoro.png' width='100'>0.0239: 感情を持ってしまったAI（人工知能）のイラストです。</a><div>"
            ]
          },
          "metadata": {}
        },
        {
          "output_type": "display_data",
          "data": {
            "text/plain": [
              "<IPython.core.display.HTML object>"
            ],
            "text/html": [
              "<div><a href='https://www.irasutoya.com/2015/05/ai.html' target='_blank' rel='noopener noreferrer'><img src='https://4.bp.blogspot.com/-Anllqq6pDXw/VRUSesbvyAI/AAAAAAAAsrc/CIHz6vLsuTU/s400/computer_jinkou_chinou.png' width='100'>0.0272: コンピュータなどを使って人工的に人間の脳と同じような働きをする、人工知能（AI）のイラストです。</a><div>"
            ]
          },
          "metadata": {}
        },
        {
          "output_type": "display_data",
          "data": {
            "text/plain": [
              "<IPython.core.display.HTML object>"
            ],
            "text/html": [
              "<div><a href='https://www.irasutoya.com/2016/12/blog-post_169.html' target='_blank' rel='noopener noreferrer'><img src='https://3.bp.blogspot.com/-T9MXxX4htpQ/WEztOQr0AmI/AAAAAAABAUo/uIb2k0nOI4UZqFLQ-KYJ0NakfMF885aIACLcB/s400/ai_write.png' width='100'>0.0284: 人工知能（AI）のキャラクターが長い文章をスラスラと書いているイラストです。</a><div>"
            ]
          },
          "metadata": {}
        },
        {
          "output_type": "display_data",
          "data": {
            "text/plain": [
              "<IPython.core.display.HTML object>"
            ],
            "text/html": [
              "<div><a href='https://www.irasutoya.com/2018/01/ai_24.html' target='_blank' rel='noopener noreferrer'><img src='https://1.bp.blogspot.com/-_8SYZZElKrs/WlGpFpPYlHI/AAAAAAABJkY/f2nT1BHBhUMzI_iztmoUPpLZdbl5TDENwCLcBGAs/s400/ai_vs_ai_fight.png' width='100'>0.0330: AI（人工知能）のキャラクター同士で戦っているイラストです。</a><div>"
            ]
          },
          "metadata": {}
        }
      ],
      "source": [
        "query_input = \"暴走した人工知能のイラスト\"\n",
        "\n",
        "query_embedding = encode_text(query_input, model)\n",
        "search_irasuto(query_embedding, target_sentence_vectors, closest_n=5)"
      ]
    },
    {
      "cell_type": "code",
      "execution_count": null,
      "metadata": {
        "id": "eJYyOOtOjhnj",
        "colab": {
          "base_uri": "https://localhost:8080/",
          "height": 556
        },
        "outputId": "db65f3c8-6fd3-4a49-9748-b21503e45293"
      },
      "outputs": [
        {
          "output_type": "display_data",
          "data": {
            "text/plain": [
              "<IPython.core.display.HTML object>"
            ],
            "text/html": [
              "<div><a href='https://www.irasutoya.com/2018/01/ai_24.html' target='_blank' rel='noopener noreferrer'><img src='https://1.bp.blogspot.com/-_8SYZZElKrs/WlGpFpPYlHI/AAAAAAABJkY/f2nT1BHBhUMzI_iztmoUPpLZdbl5TDENwCLcBGAs/s400/ai_vs_ai_fight.png' width='100'>0.3510: AI（人工知能）のキャラクター同士で戦っているイラストです。</a><div>"
            ]
          },
          "metadata": {}
        },
        {
          "output_type": "display_data",
          "data": {
            "text/plain": [
              "<IPython.core.display.HTML object>"
            ],
            "text/html": [
              "<div><a href='https://www.irasutoya.com/2018/05/vr6dof.html' target='_blank' rel='noopener noreferrer'><img src='https://2.bp.blogspot.com/-54PaAjuNmgE/WwUdT-7717I/AAAAAAABMVc/zzgxyc9F7A8ZfAruS9tWcEUg8QJ3RcFEACLcBGAs/s410/vr_motion_tracking_6dof.png' width='100'>0.3529: 頭の回転や傾きに加え、上下左右前後の動きにも連動して仮想空間を映し出すVRゴーグルをかぶった人のイラストです。</a><div>"
            ]
          },
          "metadata": {}
        },
        {
          "output_type": "display_data",
          "data": {
            "text/plain": [
              "<IPython.core.display.HTML object>"
            ],
            "text/html": [
              "<div><a href='https://www.irasutoya.com/2018/08/blog-post_828.html' target='_blank' rel='noopener noreferrer'><img src='https://2.bp.blogspot.com/-PHW69E8l4DE/W2aRKUoipoI/AAAAAAABN2k/zRj1nHf71DgPbFtA7IiI8UVPrCSqpS69ACLcBGAs/s550/ai_oinukareru_singularity.png' width='100'>0.3553: 人工知能（AI）が人類の知性を超え、さらに予測のできない無限の進化をし始めるといわれる段階を表す、シンギュラリティ（技術的特異点）のイラストです。</a><div>"
            ]
          },
          "metadata": {}
        },
        {
          "output_type": "display_data",
          "data": {
            "text/plain": [
              "<IPython.core.display.HTML object>"
            ],
            "text/html": [
              "<div><a href='https://www.irasutoya.com/2018/03/ai_23.html' target='_blank' rel='noopener noreferrer'><img src='https://1.bp.blogspot.com/-fyYoL91_tQo/Wp0Nn-VLocI/AAAAAAABKiI/3J2ywEvlbwIhjFNsmF8qpluPOg2it_HAQCLcBGAs/s450/ai_kanabou_buki.png' width='100'>0.3557: 人類に反乱を起こそうと企てているAI（人工知能）のキャラクターです。</a><div>"
            ]
          },
          "metadata": {}
        },
        {
          "output_type": "display_data",
          "data": {
            "text/plain": [
              "<IPython.core.display.HTML object>"
            ],
            "text/html": [
              "<div><a href='https://www.irasutoya.com/2015/06/3d.html' target='_blank' rel='noopener noreferrer'><img src='https://1.bp.blogspot.com/-nSI4XJ72UfE/VXOT6erAFNI/AAAAAAAAuFE/XWD6GUtsi44/s400/machine_3d_scanner.png' width='100'>0.3561: レーザーを使って立体物の形状をスキャンする、3Dスキャナ（レーザースキャナー・3次元スキャナー）のイラストです。</a><div>"
            ]
          },
          "metadata": {}
        }
      ],
      "source": [
        "query_input = \"暴走した人工知能のイラスト\"\n",
        "\n",
        "query_embedding = encode_text(query_input, model)\n",
        "search_irasuto(query_embedding, target_image_vectors, closest_n=5)"
      ]
    },
    {
      "cell_type": "code",
      "execution_count": null,
      "metadata": {
        "id": "ti0ECuaVdtMh",
        "colab": {
          "base_uri": "https://localhost:8080/",
          "height": 715
        },
        "outputId": "d4b8f1ed-d0ff-491a-ce7d-0b5d7c137fc3"
      },
      "outputs": [
        {
          "output_type": "display_data",
          "data": {
            "text/plain": [
              "<IPython.core.display.HTML object>"
            ],
            "text/html": [
              "<div><a href='https://www.irasutoya.com/2013/04/blog-post_9.html' target='_blank' rel='noopener noreferrer'><img src='https://3.bp.blogspot.com/-Td5AqfPep0E/UP06MpzpO_I/AAAAAAAAK5U/dLbBbUdMYCM/s400/hamaguri.png' width='100'>0.0263: 大きなはまぐりのイラストです。</a><div>"
            ]
          },
          "metadata": {}
        },
        {
          "output_type": "display_data",
          "data": {
            "text/plain": [
              "<IPython.core.display.HTML object>"
            ],
            "text/html": [
              "<div><a href='https://www.irasutoya.com/2019/09/blog-post_6.html' target='_blank' rel='noopener noreferrer'><img src='https://1.bp.blogspot.com/-8cHykghTraI/XXXOfJoqDXI/AAAAAAABUug/KU6_AOa9NPMBTZzipP7eNtjSM0kz2W7-QCLcBGAs/s550/figure_scrap_build.png' width='100'>0.0285: 古くなったものを壊し新しいものを一から作り上げているイラストです。</a><div>"
            ]
          },
          "metadata": {}
        },
        {
          "output_type": "display_data",
          "data": {
            "text/plain": [
              "<IPython.core.display.HTML object>"
            ],
            "text/html": [
              "<div><a href='https://www.irasutoya.com/2012/04/blog-post_5459.html' target='_blank' rel='noopener noreferrer'><img src='https://3.bp.blogspot.com/-vQSPQf-ytsc/T3K7QM3qaQI/AAAAAAAAE-s/6SB2q7ltxwg/s400/omikuji_daikichi.png' width='100'>0.0297: おみくじ（大吉）のイラストです。だるまが描かれています。</a><div>"
            ]
          },
          "metadata": {}
        },
        {
          "output_type": "display_data",
          "data": {
            "text/plain": [
              "<IPython.core.display.HTML object>"
            ],
            "text/html": [
              "<div><a href='https://www.irasutoya.com/2012/04/blog-post_07.html' target='_blank' rel='noopener noreferrer'><img src='https://3.bp.blogspot.com/-JLNa8mwZRnU/T3K7StR-bEI/AAAAAAAAE-8/rQrDomz5MSw/s400/omikuji_suekichi.png' width='100'>0.0315: おみくじ（末吉）のイラストです。打出の小槌が描かれています。</a><div>"
            ]
          },
          "metadata": {}
        },
        {
          "output_type": "display_data",
          "data": {
            "text/plain": [
              "<IPython.core.display.HTML object>"
            ],
            "text/html": [
              "<div><a href='https://www.irasutoya.com/2020/01/blog-post_177.html' target='_blank' rel='noopener noreferrer'><img src='https://1.bp.blogspot.com/-4q-nZ4pImTQ/XhaJvc87icI/AAAAAAABW38/wJYmSP-Nv6coHWgyFGzNHmmDHd0G30wEACNcBGAsYHQ/s450/taiiku_maehe_narae_chiisaku.png' width='100'>0.0330: 小さく前へならえのイラスト</a><div>"
            ]
          },
          "metadata": {}
        }
      ],
      "source": [
        "query_input = \"想像以上に大きかったイラスト\"\n",
        "\n",
        "query_embedding = encode_text(query_input, model)\n",
        "search_irasuto(query_embedding, target_sentence_vectors, closest_n=5)"
      ]
    },
    {
      "cell_type": "code",
      "execution_count": null,
      "metadata": {
        "id": "C1sfAfypjn2E",
        "colab": {
          "base_uri": "https://localhost:8080/",
          "height": 610
        },
        "outputId": "8b40bd1e-207d-47cf-9fb1-dc0b7e6eddd3"
      },
      "outputs": [
        {
          "output_type": "display_data",
          "data": {
            "text/plain": [
              "<IPython.core.display.HTML object>"
            ],
            "text/html": [
              "<div><a href='https://www.irasutoya.com/2018/05/blog-post_84.html' target='_blank' rel='noopener noreferrer'><img src='https://3.bp.blogspot.com/-uzr3ZP_vL_s/Ws2wLzKSiRI/AAAAAAABLbE/ztjDmAMb1Mou0NVYqgmq4vGkNglSpU20gCLcBGAs/s400/syakai_kyukutsu_woman.png' width='100'>0.3552: 女性が余裕のない環境の中で生活をしているイラストです。</a><div>"
            ]
          },
          "metadata": {}
        },
        {
          "output_type": "display_data",
          "data": {
            "text/plain": [
              "<IPython.core.display.HTML object>"
            ],
            "text/html": [
              "<div><a href='https://www.irasutoya.com/2016/08/blog-post_175.html' target='_blank' rel='noopener noreferrer'><img src='https://2.bp.blogspot.com/-mlB3OCfVu5Q/V5Xczy66fDI/AAAAAAAA8uU/yeFcuAMgP7Yq0OWQ6yY0pA4yd1e2GUbAACLcB/s450/hyouzan_ikkaku.png' width='100'>0.3593: 海面上に少しだけ現れた巨大な氷山のイラストです。</a><div>"
            ]
          },
          "metadata": {}
        },
        {
          "output_type": "display_data",
          "data": {
            "text/plain": [
              "<IPython.core.display.HTML object>"
            ],
            "text/html": [
              "<div><a href='https://www.irasutoya.com/2013/08/blog-post_4142.html' target='_blank' rel='noopener noreferrer'><img src='https://2.bp.blogspot.com/-3fMlXKUxIGc/Ufj1K0qAlAI/AAAAAAAAWnk/ajcq8PuAKuM/s400/taisyu_woman.png' width='100'>0.3601: 自分の体臭が臭くて気にしている女性のイラストです。</a><div>"
            ]
          },
          "metadata": {}
        },
        {
          "output_type": "display_data",
          "data": {
            "text/plain": [
              "<IPython.core.display.HTML object>"
            ],
            "text/html": [
              "<div><a href='https://www.irasutoya.com/2016/01/blog-post_710.html' target='_blank' rel='noopener noreferrer'><img src='https://2.bp.blogspot.com/-_j6Tp0wiZPs/VpjBuBCOXpI/AAAAAAAA278/cU3vl2a3yXE/s400/nozokimi_man.png' width='100'>0.3601: 電柱の影から、そっと何かを覗き見ている（ちら見している）男性のイラストです。</a><div>"
            ]
          },
          "metadata": {}
        },
        {
          "output_type": "display_data",
          "data": {
            "text/plain": [
              "<IPython.core.display.HTML object>"
            ],
            "text/html": [
              "<div><a href='https://www.irasutoya.com/2016/01/blog-post_792.html' target='_blank' rel='noopener noreferrer'><img src='https://2.bp.blogspot.com/-5qC4LUAIPpk/VpjBuvhstDI/AAAAAAAA28I/_7VuuZ_polg/s400/nozokimi_woman.png' width='100'>0.3602: 女性が物陰から何かを覗き見ている（ちら見している）イラストです。</a><div>"
            ]
          },
          "metadata": {}
        }
      ],
      "source": [
        "query_input = \"想像以上に大きかったという気持ちのイラスト\"\n",
        "\n",
        "query_embedding = encode_text(query_input, model)\n",
        "search_irasuto(query_embedding, target_image_vectors, closest_n=5)"
      ]
    },
    {
      "cell_type": "code",
      "execution_count": null,
      "metadata": {
        "id": "wP3LX2YkkYkh",
        "colab": {
          "base_uri": "https://localhost:8080/",
          "height": 438
        },
        "outputId": "e0036acc-2f8b-4fa0-be41-7c96e3623c31"
      },
      "outputs": [
        {
          "output_type": "display_data",
          "data": {
            "text/plain": [
              "<IPython.core.display.HTML object>"
            ],
            "text/html": [
              "<div><a href='https://www.irasutoya.com/2016/07/blog-post_28.html' target='_blank' rel='noopener noreferrer'><img src='https://4.bp.blogspot.com/-qRlUwhtNUjw/V2vXdJ7fQzI/AAAAAAAA72c/9st3fd4mAD4X2q6SLYpHmoAq8GtUvIHMACLcB/s600/bg_train.jpg' width='100'>0.3661: 椅子とドアと手すりと窓が描かれた電車の中の風景のイラストです。</a><div>"
            ]
          },
          "metadata": {}
        },
        {
          "output_type": "display_data",
          "data": {
            "text/plain": [
              "<IPython.core.display.HTML object>"
            ],
            "text/html": [
              "<div><a href='https://www.irasutoya.com/2020/03/blog-post_69.html' target='_blank' rel='noopener noreferrer'><img src='https://1.bp.blogspot.com/-Z9RP2vJ3eAo/Xlyfh0hKvsI/AAAAAAABXmI/jJRdSgsIpY4vpE72lXV_a5v0co400p1IACNcBGAsYHQ/s600/bg_room_syosai_book.jpg' width='100'>0.3667: 本が並べられた本棚と電気スタンドの置かれた大きな机が置かれた書斎のイラストです。</a><div>"
            ]
          },
          "metadata": {}
        },
        {
          "output_type": "display_data",
          "data": {
            "text/plain": [
              "<IPython.core.display.HTML object>"
            ],
            "text/html": [
              "<div><a href='https://www.irasutoya.com/2014/11/blog-post_9.html' target='_blank' rel='noopener noreferrer'><img src='https://4.bp.blogspot.com/-owAlmdp9WT4/VEETiEeNoDI/AAAAAAAAohA/FckLtE3nBq8/s400/osoushiki_sankotsu.png' width='100'>0.3676: 火葬した遺骨を海に撒いている、散骨のイラストです。</a><div>"
            ]
          },
          "metadata": {}
        },
        {
          "output_type": "display_data",
          "data": {
            "text/plain": [
              "<IPython.core.display.HTML object>"
            ],
            "text/html": [
              "<div><a href='https://www.irasutoya.com/2015/06/blog-post_30.html' target='_blank' rel='noopener noreferrer'><img src='https://3.bp.blogspot.com/-ySg3xYBM7TI/VXOTlsC8QQI/AAAAAAAAuBY/_2EwmSKgRPA/s400/family_gyakutai_hogo.png' width='100'>0.3677: 虐待（DV）を行っている親や保護者から、子供を守っている保護施設の職員のイラストです。</a><div>"
            ]
          },
          "metadata": {}
        },
        {
          "output_type": "display_data",
          "data": {
            "text/plain": [
              "<IPython.core.display.HTML object>"
            ],
            "text/html": [
              "<div><a href='https://www.irasutoya.com/2015/11/blog-post_999.html' target='_blank' rel='noopener noreferrer'><img src='https://3.bp.blogspot.com/-3TY06y7xlRg/VkxLxQigQZI/AAAAAAAA0qE/vFCg6B8lN70/s400/lady_ladies_first.png' width='100'>0.3678: 女性のためにドアを開けて先に通している、レディーファーストをする男性のイラストです。</a><div>"
            ]
          },
          "metadata": {}
        }
      ],
      "source": [
        "query_input = \"なんて素敵なんだと感動しているイラスト\"\n",
        "\n",
        "query_embedding = encode_text(query_input, model)\n",
        "search_irasuto(query_embedding, target_image_vectors, closest_n=5)"
      ]
    },
    {
      "cell_type": "code",
      "execution_count": null,
      "metadata": {
        "id": "whOJchvQlJXO",
        "colab": {
          "base_uri": "https://localhost:8080/",
          "height": 762
        },
        "outputId": "add3b018-bb6a-4ce5-e27f-99b6e93653e2"
      },
      "outputs": [
        {
          "output_type": "display_data",
          "data": {
            "text/plain": [
              "<IPython.core.display.HTML object>"
            ],
            "text/html": [
              "<div><a href='https://www.irasutoya.com/2013/10/blog-post_2564.html' target='_blank' rel='noopener noreferrer'><img src='https://2.bp.blogspot.com/-YXAKgmQ0EI0/Udy6UyCougI/AAAAAAAAWDE/pnCoKtq7A68/s400/animal_habu.png' width='100'>0.3644: 沖縄などに住んでいる毒蛇、ハブのイラストです。</a><div>"
            ]
          },
          "metadata": {}
        },
        {
          "output_type": "display_data",
          "data": {
            "text/plain": [
              "<IPython.core.display.HTML object>"
            ],
            "text/html": [
              "<div><a href='https://www.irasutoya.com/2014/01/blog-post_816.html' target='_blank' rel='noopener noreferrer'><img src='https://3.bp.blogspot.com/-lIEl45JgPpA/UrlmsiRsk3I/AAAAAAAAcKI/5l-FewjdJJU/s400/petbottle_juice.png' width='100'>0.3648: 「Juice」と書かれた、ペットボトルに入ったジュースのイラストです。</a><div>"
            ]
          },
          "metadata": {}
        },
        {
          "output_type": "display_data",
          "data": {
            "text/plain": [
              "<IPython.core.display.HTML object>"
            ],
            "text/html": [
              "<div><a href='https://www.irasutoya.com/2017/11/blog-post_143.html' target='_blank' rel='noopener noreferrer'><img src='https://2.bp.blogspot.com/-ROy9SVYM3Jk/Wge7wBc5cfI/AAAAAAABIDE/nPPIIu0Kai0po86fKzkGOCbYWj_s5oeawCLcBGAs/s400/drink_rum.png' width='100'>0.3656: 瓶に入った、サトウキビから作られたお酒のラム酒のイラストです。</a><div>"
            ]
          },
          "metadata": {}
        },
        {
          "output_type": "display_data",
          "data": {
            "text/plain": [
              "<IPython.core.display.HTML object>"
            ],
            "text/html": [
              "<div><a href='https://www.irasutoya.com/2014/08/16.html' target='_blank' rel='noopener noreferrer'><img src='https://2.bp.blogspot.com/-_9JGFIJMRJY/U8XkS_C8uLI/AAAAAAAAiuw/EpYebri_K2c/s220/softcream13.png' width='100'>0.3657: バニラ、チョコ、チョコとバニラのミックス、ストロベリー、ストロベリーとバニラのミックス、ラベンダー、抹茶など、色々な色のソフトクリームのイラストです。</a><div>"
            ]
          },
          "metadata": {}
        },
        {
          "output_type": "display_data",
          "data": {
            "text/plain": [
              "<IPython.core.display.HTML object>"
            ],
            "text/html": [
              "<div><a href='https://www.irasutoya.com/2014/08/16.html' target='_blank' rel='noopener noreferrer'><img src='https://4.bp.blogspot.com/-qx6gEUV-0Ss/U8XkRCqj0yI/AAAAAAAAiuM/Ny2im7QLo40/s220/softcream10.png' width='100'>0.3657: バニラ、チョコ、チョコとバニラのミックス、ストロベリー、ストロベリーとバニラのミックス、ラベンダー、抹茶など、色々な色のソフトクリームのイラストです。</a><div>"
            ]
          },
          "metadata": {}
        }
      ],
      "source": [
        "query_input = \"これが欲しかったというイラスト\"\n",
        "\n",
        "query_embedding = encode_text(query_input, model)\n",
        "search_irasuto(query_embedding, target_image_vectors, closest_n=5)"
      ]
    },
    {
      "cell_type": "code",
      "execution_count": null,
      "metadata": {
        "id": "vqCmoansliBN",
        "colab": {
          "base_uri": "https://localhost:8080/",
          "height": 667
        },
        "outputId": "9d922ac5-5187-4e76-8f41-1d79724a13f7"
      },
      "outputs": [
        {
          "output_type": "display_data",
          "data": {
            "text/plain": [
              "<IPython.core.display.HTML object>"
            ],
            "text/html": [
              "<div><a href='https://www.irasutoya.com/2012/04/blog-post_6341.html' target='_blank' rel='noopener noreferrer'><img src='https://2.bp.blogspot.com/-h61ngruj0tE/T3K7RDUWmPI/AAAAAAAAE-0/KXtPY8fDwco/s400/omikuji_daikyou.png' width='100'>0.0272: おみくじ（大凶）のイラストです。梅の花が 描かれています。当たりたくはないですね・・・。</a><div>"
            ]
          },
          "metadata": {}
        },
        {
          "output_type": "display_data",
          "data": {
            "text/plain": [
              "<IPython.core.display.HTML object>"
            ],
            "text/html": [
              "<div><a href='https://www.irasutoya.com/2013/04/blog-post_9.html' target='_blank' rel='noopener noreferrer'><img src='https://3.bp.blogspot.com/-Td5AqfPep0E/UP06MpzpO_I/AAAAAAAAK5U/dLbBbUdMYCM/s400/hamaguri.png' width='100'>0.0298: 大きなはまぐりのイラストです。</a><div>"
            ]
          },
          "metadata": {}
        },
        {
          "output_type": "display_data",
          "data": {
            "text/plain": [
              "<IPython.core.display.HTML object>"
            ],
            "text/html": [
              "<div><a href='https://www.irasutoya.com/2018/10/blog-post_296.html' target='_blank' rel='noopener noreferrer'><img src='https://1.bp.blogspot.com/-Q9jOqnVqGuo/W64DqXTxwfI/AAAAAAABPIk/mn0XoaVlL2s_Sphqb-5WielV75A6JIEowCLcBGAs/s400/job_yarigai_sausyu.png' width='100'>0.0301: やりがいという言葉に騙されて都合のいいように労働させられている人のイラストです。</a><div>"
            ]
          },
          "metadata": {}
        },
        {
          "output_type": "display_data",
          "data": {
            "text/plain": [
              "<IPython.core.display.HTML object>"
            ],
            "text/html": [
              "<div><a href='https://www.irasutoya.com/2015/11/blog-post_578.html' target='_blank' rel='noopener noreferrer'><img src='https://2.bp.blogspot.com/-SX0XtPRZEM4/VixB8BhFbjI/AAAAAAAA0G0/t-zsMEricDM/s400/job_hihyouka_commentator.png' width='100'>0.0306: 世間の物事について個人的な見解で分析や批判をする、偉そうな批評家（評論家）のイラストです。</a><div>"
            ]
          },
          "metadata": {}
        },
        {
          "output_type": "display_data",
          "data": {
            "text/plain": [
              "<IPython.core.display.HTML object>"
            ],
            "text/html": [
              "<div><a href='https://www.irasutoya.com/2012/12/blog-post_516.html' target='_blank' rel='noopener noreferrer'><img src='https://4.bp.blogspot.com/-toaP1vMGZAM/UNbkIddJNqI/AAAAAAAAJTk/MeuaawYOaLw/s200/mark_question.png' width='100'>0.0307: はてなマーク（クエスチョンマーク）のイラストです。</a><div>"
            ]
          },
          "metadata": {}
        }
      ],
      "source": [
        "query_input = \"的確な言葉を選ぶのが大変だというイラスト\"\n",
        "\n",
        "query_embedding = encode_text(query_input, model)\n",
        "search_irasuto(query_embedding, target_sentence_vectors, closest_n=5)"
      ]
    },
    {
      "cell_type": "code",
      "execution_count": null,
      "metadata": {
        "id": "ykukyT4ngCHg",
        "colab": {
          "base_uri": "https://localhost:8080/",
          "height": 466
        },
        "outputId": "40f3e56a-c60c-43fe-cb03-69625fdedbcd"
      },
      "outputs": [
        {
          "output_type": "display_data",
          "data": {
            "text/plain": [
              "<IPython.core.display.HTML object>"
            ],
            "text/html": [
              "<div><a href='https://www.irasutoya.com/2017/06/blog-post_65.html' target='_blank' rel='noopener noreferrer'><img src='https://2.bp.blogspot.com/-2RFQGjJC5I0/WRaTZtq0ivI/AAAAAAABEQk/rdVNjAPW6Y8p2oAAJwkDoLkeu1Pg2h8aACLcB/s400/life_wakaremichi_woman.png' width='100'>0.3588: 女性が人生の岐路にたち進むべき道を考えているイラストです。</a><div>"
            ]
          },
          "metadata": {}
        },
        {
          "output_type": "display_data",
          "data": {
            "text/plain": [
              "<IPython.core.display.HTML object>"
            ],
            "text/html": [
              "<div><a href='https://www.irasutoya.com/2019/05/ooda_4.html' target='_blank' rel='noopener noreferrer'><img src='https://2.bp.blogspot.com/-UmMfDsHwpZE/XLQr5A2IoJI/AAAAAAABSdY/OECSmZBqcXczSUXSgwQ6R2Yr63j1CHvSwCLcBGAs/s500/ooda_loop_long.png' width='100'>0.3591: ビジネスなどの戦略を考えるときに使われる、観察（Observe）、状況判断（Orient）、意思決定（Decide）、実行（Act）の繰り返し、OODA Loopを表したイラストです。</a><div>"
            ]
          },
          "metadata": {}
        },
        {
          "output_type": "display_data",
          "data": {
            "text/plain": [
              "<IPython.core.display.HTML object>"
            ],
            "text/html": [
              "<div><a href='https://www.irasutoya.com/2017/06/blog-post_80.html' target='_blank' rel='noopener noreferrer'><img src='https://4.bp.blogspot.com/-YeK4VpesZU8/WRaTYsdu1hI/AAAAAAABEQg/3Fr_ig8Ez-AUL_3JKHYjyMQ3O-R5MN9YgCLcB/s400/life_wakaremichi_man.png' width='100'>0.3595: 男性が人生の岐路で自分の行く末を考えているイラストです。</a><div>"
            ]
          },
          "metadata": {}
        },
        {
          "output_type": "display_data",
          "data": {
            "text/plain": [
              "<IPython.core.display.HTML object>"
            ],
            "text/html": [
              "<div><a href='https://www.irasutoya.com/2019/05/ooda.html' target='_blank' rel='noopener noreferrer'><img src='https://2.bp.blogspot.com/-YhMhDNplM2w/XLQvjC0LhOI/AAAAAAABSeI/bW-l75Yw_qkx22Bf3t6jHIun4947dgT7wCLcBGAs/s540/ooda_loop_icon_long.png' width='100'>0.3597: ビジネスなどの戦略を考えるときに使われる、観察（Observe）、状況判断（Orient）、意思決定（Decide）、実行（Act）の繰り返し、OODA Loopをアイコン付きで表したイラストです。</a><div>"
            ]
          },
          "metadata": {}
        },
        {
          "output_type": "display_data",
          "data": {
            "text/plain": [
              "<IPython.core.display.HTML object>"
            ],
            "text/html": [
              "<div><a href='https://www.irasutoya.com/2014/07/blog-post_4.html' target='_blank' rel='noopener noreferrer'><img src='https://1.bp.blogspot.com/-jcT-lNwcMdg/U5l6DGgn88I/AAAAAAAAhXk/fA0IfqbidUc/s450/rikon_jukunen.png' width='100'>0.3597: 喧嘩をした年配の夫婦が、引き裂かれているイラストです。</a><div>"
            ]
          },
          "metadata": {}
        }
      ],
      "source": [
        "query_input = \"的確な言葉を選ぶのが大変だというイラスト\"\n",
        "\n",
        "query_embedding = encode_text(query_input, model)\n",
        "search_irasuto(query_embedding, target_image_vectors, closest_n=5)"
      ]
    },
    {
      "cell_type": "code",
      "execution_count": null,
      "metadata": {
        "id": "As0Iu0vZlnni",
        "colab": {
          "base_uri": "https://localhost:8080/",
          "height": 752
        },
        "outputId": "6db734a0-7b50-40d3-d594-e2114b8b27e5"
      },
      "outputs": [
        {
          "output_type": "display_data",
          "data": {
            "text/plain": [
              "<IPython.core.display.HTML object>"
            ],
            "text/html": [
              "<div><a href='https://www.irasutoya.com/2016/05/blog-post_88.html' target='_blank' rel='noopener noreferrer'><img src='https://2.bp.blogspot.com/-ZZeWGmd8jZA/VycdwhP3nYI/AAAAAAAA6So/N-0j6N7SP6IK81xq3oSiJUQ9v-4dmkDTwCLcB/s350/hakusyu_girl1.png' width='100'>0.0312: 女の子が拍手をして手をつけたり離したりしている様子を描いたイラストです。</a><div>"
            ]
          },
          "metadata": {}
        },
        {
          "output_type": "display_data",
          "data": {
            "text/plain": [
              "<IPython.core.display.HTML object>"
            ],
            "text/html": [
              "<div><a href='https://www.irasutoya.com/2016/05/blog-post_88.html' target='_blank' rel='noopener noreferrer'><img src='https://4.bp.blogspot.com/-te7nVoIexFE/Vycdxf0aR3I/AAAAAAAA6Ss/hqpTkrnkS5ANisStp3Zhi13m3KI0DX0EACLcB/s350/hakusyu_girl2.png' width='100'>0.0312: 女の子が拍手をして手をつけたり離したりしている様子を描いたイラストです。</a><div>"
            ]
          },
          "metadata": {}
        },
        {
          "output_type": "display_data",
          "data": {
            "text/plain": [
              "<IPython.core.display.HTML object>"
            ],
            "text/html": [
              "<div><a href='https://www.irasutoya.com/2016/05/blog-post_51.html' target='_blank' rel='noopener noreferrer'><img src='https://1.bp.blogspot.com/-yZWRaUcN7Os/VycdqEBDMZI/AAAAAAAA6Sc/vakco09cS9YY_gnsTjs58ocmvvWOE79RwCLcB/s350/hakusyu_boy1.png' width='100'>0.0335: 男の子が拍手をしている様子を描いたイラストです。</a><div>"
            ]
          },
          "metadata": {}
        },
        {
          "output_type": "display_data",
          "data": {
            "text/plain": [
              "<IPython.core.display.HTML object>"
            ],
            "text/html": [
              "<div><a href='https://www.irasutoya.com/2016/05/blog-post_51.html' target='_blank' rel='noopener noreferrer'><img src='https://3.bp.blogspot.com/-t0HtWlnYIFI/VycdrA-mMpI/AAAAAAAA6Sg/qmOWkkY7gRYYSxIQVnpTfpBA6G6_0mhawCLcB/s350/hakusyu_boy2.png' width='100'>0.0335: 男の子が拍手をしている様子を描いたイラストです。</a><div>"
            ]
          },
          "metadata": {}
        },
        {
          "output_type": "display_data",
          "data": {
            "text/plain": [
              "<IPython.core.display.HTML object>"
            ],
            "text/html": [
              "<div><a href='https://www.irasutoya.com/2015/01/blog-post_883.html' target='_blank' rel='noopener noreferrer'><img src='https://4.bp.blogspot.com/-PSd2xMIqM5M/VJ6Xcu17JhI/AAAAAAAAqLE/wSlWHEFvLIg/s400/hakusyu.png' width='100'>0.0393: 笑顔で拍手を送っている男性のイラストです。</a><div>"
            ]
          },
          "metadata": {}
        }
      ],
      "source": [
        "query_input = \"拍手をしている人のイラスト\"\n",
        "\n",
        "query_embedding = encode_text(query_input, model)\n",
        "search_irasuto(query_embedding, target_sentence_vectors, closest_n=5)"
      ]
    },
    {
      "cell_type": "code",
      "execution_count": null,
      "metadata": {
        "id": "WABOXa-Jv4Fg",
        "colab": {
          "base_uri": "https://localhost:8080/",
          "height": 654
        },
        "outputId": "d64b1dc9-1472-4aa2-fbd4-f9c28f23590d"
      },
      "outputs": [
        {
          "output_type": "display_data",
          "data": {
            "text/plain": [
              "<IPython.core.display.HTML object>"
            ],
            "text/html": [
              "<div><a href='https://www.irasutoya.com/2020/03/blog-post_50.html' target='_blank' rel='noopener noreferrer'><img src='https://1.bp.blogspot.com/-ZGRgzcHS0Ok/XhwqfshZbGI/AAAAAAABXAU/cNG8ddnBw1oPa3t9Nq4wxqZMl_DmAd7JACNcBGAsYHQ/s250/nail_art_manicure7_white.png' width='100'>0.3278: いろいろな色のマニキュアが塗られた手の爪（ネイルアート）のイラストです。</a><div>"
            ]
          },
          "metadata": {}
        },
        {
          "output_type": "display_data",
          "data": {
            "text/plain": [
              "<IPython.core.display.HTML object>"
            ],
            "text/html": [
              "<div><a href='https://www.irasutoya.com/2019/04/blog-post_16.html' target='_blank' rel='noopener noreferrer'><img src='https://2.bp.blogspot.com/-oefSYL94Ni8/XGjzRwSLSxI/AAAAAAABRnk/QJU0onQ8r7kZyc0jKEgg_HGzK-J6jsAdQCLcBGAs/s200/syushieisei1_alcohol.png' width='100'>0.3281: 手洗いの後にアルコール製剤を使って消毒や除菌を行う手指衛生のイラストです。</a><div>"
            ]
          },
          "metadata": {}
        },
        {
          "output_type": "display_data",
          "data": {
            "text/plain": [
              "<IPython.core.display.HTML object>"
            ],
            "text/html": [
              "<div><a href='https://www.irasutoya.com/2016/01/blog-post_3.html' target='_blank' rel='noopener noreferrer'><img src='https://1.bp.blogspot.com/-J9JyyWLmAoE/VnE4HOgE7CI/AAAAAAAA19E/TmQZOmL0cDE/s400/pose_kyosyu_hand.png' width='100'>0.3291: 挙手をした人の手だけを描いたイラストです。</a><div>"
            ]
          },
          "metadata": {}
        },
        {
          "output_type": "display_data",
          "data": {
            "text/plain": [
              "<IPython.core.display.HTML object>"
            ],
            "text/html": [
              "<div><a href='https://www.irasutoya.com/2016/05/blog-post_77.html' target='_blank' rel='noopener noreferrer'><img src='https://2.bp.blogspot.com/-_A7lm7Ek374/Vy2vuqOs3XI/AAAAAAAA6bE/Wa8QX_c-tlY-J9PxMIl9Rwkj36Z5y4dNACLcB/s400/body_hand_tenokou.png' width='100'>0.3298: 開いた手の手の甲を見せているイラストです。</a><div>"
            ]
          },
          "metadata": {}
        },
        {
          "output_type": "display_data",
          "data": {
            "text/plain": [
              "<IPython.core.display.HTML object>"
            ],
            "text/html": [
              "<div><a href='https://www.irasutoya.com/2014/11/blog-post_552.html' target='_blank' rel='noopener noreferrer'><img src='https://2.bp.blogspot.com/-W5vCTbHK2QI/VHPf-sXs3RI/AAAAAAAApNk/rq3eXso62Tc/s400/figure_tousenbo.png' width='100'>0.3299: 両手を大きく広げて、通せんぼをしている棒人間のイラストです。</a><div>"
            ]
          },
          "metadata": {}
        }
      ],
      "source": [
        "query_input = \"拍手をしている人のイラスト\"\n",
        "\n",
        "query_embedding = encode_text(query_input, model)\n",
        "search_irasuto(query_embedding, target_image_vectors, closest_n=5)"
      ]
    },
    {
      "cell_type": "code",
      "execution_count": null,
      "metadata": {
        "id": "ss0P6NdWdV4f",
        "colab": {
          "base_uri": "https://localhost:8080/",
          "height": 528
        },
        "outputId": "cd5b7ee6-e733-4930-e110-cd3b5e6247ed"
      },
      "outputs": [
        {
          "output_type": "display_data",
          "data": {
            "text/plain": [
              "<IPython.core.display.HTML object>"
            ],
            "text/html": [
              "<div><a href='https://www.irasutoya.com/2015/05/ai.html' target='_blank' rel='noopener noreferrer'><img src='https://4.bp.blogspot.com/-Anllqq6pDXw/VRUSesbvyAI/AAAAAAAAsrc/CIHz6vLsuTU/s400/computer_jinkou_chinou.png' width='100'>0.0290: コンピュータなどを使って人工的に人間の脳と同じような働きをする、人工知能（AI）のイラストです。</a><div>"
            ]
          },
          "metadata": {}
        },
        {
          "output_type": "display_data",
          "data": {
            "text/plain": [
              "<IPython.core.display.HTML object>"
            ],
            "text/html": [
              "<div><a href='https://www.irasutoya.com/2018/01/ai_56.html' target='_blank' rel='noopener noreferrer'><img src='https://3.bp.blogspot.com/-4ZXrEpcG74A/WlGpFb87TQI/AAAAAAABJkU/22NohgkRDOIQeh_V4QeDE0yVtBvUheRLACLcBGAs/s400/ai_image_gazou_ninshiki.png' width='100'>0.0301: AI（人工知能）のキャラクターが画像を認識しているイラストです。</a><div>"
            ]
          },
          "metadata": {}
        },
        {
          "output_type": "display_data",
          "data": {
            "text/plain": [
              "<IPython.core.display.HTML object>"
            ],
            "text/html": [
              "<div><a href='https://www.irasutoya.com/2016/12/blog-post_169.html' target='_blank' rel='noopener noreferrer'><img src='https://3.bp.blogspot.com/-T9MXxX4htpQ/WEztOQr0AmI/AAAAAAABAUo/uIb2k0nOI4UZqFLQ-KYJ0NakfMF885aIACLcB/s400/ai_write.png' width='100'>0.0307: 人工知能（AI）のキャラクターが長い文章をスラスラと書いているイラストです。</a><div>"
            ]
          },
          "metadata": {}
        },
        {
          "output_type": "display_data",
          "data": {
            "text/plain": [
              "<IPython.core.display.HTML object>"
            ],
            "text/html": [
              "<div><a href='https://www.irasutoya.com/2016/12/blog-post_651.html' target='_blank' rel='noopener noreferrer'><img src='https://4.bp.blogspot.com/-R4T0JYXCErc/WEztMTqHTeI/AAAAAAABAUc/Rklo_MYSLlIjHHi0HHk-HQ3BSD1TWLvngCLcB/s400/ai_paint.png' width='100'>0.0338: 人工知能（AI）のキャラクターが大きなキャンバスに向かって油絵を描いているイラストです。</a><div>"
            ]
          },
          "metadata": {}
        },
        {
          "output_type": "display_data",
          "data": {
            "text/plain": [
              "<IPython.core.display.HTML object>"
            ],
            "text/html": [
              "<div><a href='https://www.irasutoya.com/2017/10/blog-post_695.html' target='_blank' rel='noopener noreferrer'><img src='https://2.bp.blogspot.com/-AR-24fVM-DU/Wc8fxXl0S6I/AAAAAAABHIE/n9pAxeJcoiAKQC530kI0N30V_fSQBlDzQCLcBGAs/s400/media_digital.png' width='100'>0.0344: パソコン、ディスク、スマートフォンなどのデジタル化された媒体のイラストです。</a><div>"
            ]
          },
          "metadata": {}
        }
      ],
      "source": [
        "query_input = \"絵を描いている人工知能のイラスト\"\n",
        "\n",
        "query_embedding = encode_text(query_input, model)\n",
        "search_irasuto(query_embedding, target_sentence_vectors, closest_n=5)"
      ]
    },
    {
      "cell_type": "code",
      "execution_count": null,
      "metadata": {
        "id": "N9E5L4XMjshH",
        "colab": {
          "base_uri": "https://localhost:8080/",
          "height": 510
        },
        "outputId": "99a9601c-7a49-40f0-d32a-0c584b2b7cb5"
      },
      "outputs": [
        {
          "output_type": "display_data",
          "data": {
            "text/plain": [
              "<IPython.core.display.HTML object>"
            ],
            "text/html": [
              "<div><a href='https://www.irasutoya.com/2016/12/blog-post_651.html' target='_blank' rel='noopener noreferrer'><img src='https://4.bp.blogspot.com/-R4T0JYXCErc/WEztMTqHTeI/AAAAAAABAUc/Rklo_MYSLlIjHHi0HHk-HQ3BSD1TWLvngCLcB/s400/ai_paint.png' width='100'>0.3479: 人工知能（AI）のキャラクターが大きなキャンバスに向かって油絵を描いているイラストです。</a><div>"
            ]
          },
          "metadata": {}
        },
        {
          "output_type": "display_data",
          "data": {
            "text/plain": [
              "<IPython.core.display.HTML object>"
            ],
            "text/html": [
              "<div><a href='https://www.irasutoya.com/2019/11/blog-post_317.html' target='_blank' rel='noopener noreferrer'><img src='https://1.bp.blogspot.com/--dcwmHpV7OY/Xbo7iA1vqvI/AAAAAAABV30/r2IQzbEuhQEw9bEe8x-x5M1meGQVy2c3wCNcBGAsYHQ/s400/sketch_gaban_man.png' width='100'>0.3509: イーゼルに乗せた画用紙に果物やパンなどの静物画を描いている男性のイラストです。</a><div>"
            ]
          },
          "metadata": {}
        },
        {
          "output_type": "display_data",
          "data": {
            "text/plain": [
              "<IPython.core.display.HTML object>"
            ],
            "text/html": [
              "<div><a href='https://www.irasutoya.com/2019/04/blog-post_36.html' target='_blank' rel='noopener noreferrer'><img src='https://2.bp.blogspot.com/-axC5lvtULtY/XJB4neUS5rI/AAAAAAABR4Y/F63fhyctXyYwYUAwcZf9M3oRZaRJBufUACLcBGAs/s400/car_jiko_nairinsa_gairinsa.png' width='100'>0.3511: 内輪差外輪差内輪差と外輪差自動車が曲がるときの前輪と後輪の軌道の差から生まれる、内輪差と外輪差を描いたイラストです。</a><div>"
            ]
          },
          "metadata": {}
        },
        {
          "output_type": "display_data",
          "data": {
            "text/plain": [
              "<IPython.core.display.HTML object>"
            ],
            "text/html": [
              "<div><a href='https://www.irasutoya.com/2019/11/blog-post_540.html' target='_blank' rel='noopener noreferrer'><img src='https://1.bp.blogspot.com/-Nxjc78gN9Bw/Xbo7iihFTCI/AAAAAAABV34/X5vzQscAhiI0e-H1OZMG2J4ODASdnpu8wCNcBGAsYHQ/s400/sketch_gaban_woman.png' width='100'>0.3513: 女性がイーゼルに画用紙を乗せて果物やパンなどの静物画を描いているイラストです。</a><div>"
            ]
          },
          "metadata": {}
        },
        {
          "output_type": "display_data",
          "data": {
            "text/plain": [
              "<IPython.core.display.HTML object>"
            ],
            "text/html": [
              "<div><a href='https://www.irasutoya.com/2018/08/blog-post_411.html' target='_blank' rel='noopener noreferrer'><img src='https://3.bp.blogspot.com/-gmL846JWvwY/W2gd0jBR0HI/AAAAAAABN44/eT0KmqV1rrIDMOPpYVFZCaWl9LZSgCPnwCLcBGAs/s400/picture_trickart.png' width='100'>0.3516: 紙を折りたたんだ状態で一定の角度から見ると立体的に見えるイラストを描いている様子を描いたイラストです。</a><div>"
            ]
          },
          "metadata": {}
        }
      ],
      "source": [
        "query_input = \"絵を描いている人工知能のイラスト\"\n",
        "\n",
        "query_embedding = encode_text(query_input, model)\n",
        "search_irasuto(query_embedding, target_image_vectors, closest_n=5)"
      ]
    },
    {
      "cell_type": "code",
      "execution_count": null,
      "metadata": {
        "id": "5OpyFV6Dwkel",
        "colab": {
          "base_uri": "https://localhost:8080/",
          "height": 456
        },
        "outputId": "c8cdc0c3-83e5-47ff-a33f-ca37fca55ff1"
      },
      "outputs": [
        {
          "output_type": "display_data",
          "data": {
            "text/plain": [
              "<IPython.core.display.HTML object>"
            ],
            "text/html": [
              "<div><a href='https://www.irasutoya.com/2020/12/blog-post_21.html' target='_blank' rel='noopener noreferrer'><img src='https://1.bp.blogspot.com/-Skbz-I6EANA/X8s3UakhODI/AAAAAAABcmA/Z9wGKYQbYE8pYgVYVYra2eII80zdRPIaACNcBGAsYHQ/s400/body_virus_juyoutai.png' width='100'>0.0180: コロナウイルスのスパイクと受容体が結合して細胞内に侵入している様子を描いたイラストです。</a><div>"
            ]
          },
          "metadata": {}
        },
        {
          "output_type": "display_data",
          "data": {
            "text/plain": [
              "<IPython.core.display.HTML object>"
            ],
            "text/html": [
              "<div><a href='https://www.irasutoya.com/2020/12/blog-post_45.html' target='_blank' rel='noopener noreferrer'><img src='https://1.bp.blogspot.com/-AVwB0trVKJM/X8s2fFFtpOI/AAAAAAABclM/N5X0_0Ri05c3rdSIAH8SI0KenNlJWCVXQCNcBGAsYHQ/s400/body_virus_koutai.png' width='100'>0.0259: コロナウイルスと抗体が結合して中和されているイラストです。</a><div>"
            ]
          },
          "metadata": {}
        },
        {
          "output_type": "display_data",
          "data": {
            "text/plain": [
              "<IPython.core.display.HTML object>"
            ],
            "text/html": [
              "<div><a href='https://www.irasutoya.com/2015/06/mers.html' target='_blank' rel='noopener noreferrer'><img src='https://3.bp.blogspot.com/-zzkE1AWK8VI/VW2qLBNerlI/AAAAAAAAt-Q/5b-R5zm_TNg/s400/virus_mers.png' width='100'>0.0424: 2015年に感染が広がったMERS（マーズ）コロナウイルスのイラストです。中東呼吸器症候群の病原体です。</a><div>"
            ]
          },
          "metadata": {}
        },
        {
          "output_type": "display_data",
          "data": {
            "text/plain": [
              "<IPython.core.display.HTML object>"
            ],
            "text/html": [
              "<div><a href='https://www.irasutoya.com/2020/12/blog-post_467.html' target='_blank' rel='noopener noreferrer'><img src='https://1.bp.blogspot.com/-BjJtEASKqEU/X-Pf4hos0gI/AAAAAAABdH0/x7A1JbsxuHE-r18Sfb_JII3BOJvPhs41ACNcBGAsYHQ/s550/virus_corona_mutant.png' width='100'>0.0441: ウイルス単体別の形に変異した新型の新型コロナウイルスのイラストです。</a><div>"
            ]
          },
          "metadata": {}
        },
        {
          "output_type": "display_data",
          "data": {
            "text/plain": [
              "<IPython.core.display.HTML object>"
            ],
            "text/html": [
              "<div><a href='https://www.irasutoya.com/2020/12/blog-post_467.html' target='_blank' rel='noopener noreferrer'><img src='https://1.bp.blogspot.com/-VuqY5p1ube4/X-QBC1LCyFI/AAAAAAABdIY/VkgOljBs3qAPGG5DNdnKIsRwNIm3Zg0NwCNcBGAsYHQ/s350/virus_corona_mutant_virus.png' width='100'>0.0441: ウイルス単体別の形に変異した新型の新型コロナウイルスのイラストです。</a><div>"
            ]
          },
          "metadata": {}
        }
      ],
      "source": [
        "query_input = \"コロナウイルスと戦う細胞のイラスト\"\n",
        "\n",
        "query_embedding = encode_text(query_input, model)\n",
        "search_irasuto(query_embedding, target_sentence_vectors, closest_n=5)"
      ]
    },
    {
      "cell_type": "code",
      "execution_count": null,
      "metadata": {
        "id": "Kwtqm5zWjz1J",
        "colab": {
          "base_uri": "https://localhost:8080/",
          "height": 427
        },
        "outputId": "9759229e-7aa0-48f0-bf13-6c9a4208e2ba"
      },
      "outputs": [
        {
          "output_type": "display_data",
          "data": {
            "text/plain": [
              "<IPython.core.display.HTML object>"
            ],
            "text/html": [
              "<div><a href='https://www.irasutoya.com/2013/10/blog-post_8404.html' target='_blank' rel='noopener noreferrer'><img src='https://4.bp.blogspot.com/-9G4me27FBZM/Udy6o-zI_RI/AAAAAAAAWKA/L8_U_x8iNPc/s400/fish_uni.png' width='100'>0.3252: とげとげの殻と、黄色い中身が綺麗なウニのイラストです。</a><div>"
            ]
          },
          "metadata": {}
        },
        {
          "output_type": "display_data",
          "data": {
            "text/plain": [
              "<IPython.core.display.HTML object>"
            ],
            "text/html": [
              "<div><a href='https://www.irasutoya.com/2020/07/blog-post_82.html' target='_blank' rel='noopener noreferrer'><img src='https://1.bp.blogspot.com/-uGTPV4xoAT0/XwHRTH6C4kI/AAAAAAABZ2w/9whCLjVZMLA5g0oZPq8L7ucPJDkdxx5PwCNcBGAsYHQ/s400/body_immune_cells_cytokine_storm.png' width='100'>0.3270: ウイルスが感染した細胞を攻撃する免疫細胞暴走して正常な細胞も攻撃する免疫細胞ウイルスが感染した細胞を攻撃する免疫細胞のイラストと、サイトカインの過剰分泌により暴走した免疫細胞が正常な細胞も攻撃している（サイトカインストーム）イラストです。</a><div>"
            ]
          },
          "metadata": {}
        },
        {
          "output_type": "display_data",
          "data": {
            "text/plain": [
              "<IPython.core.display.HTML object>"
            ],
            "text/html": [
              "<div><a href='https://www.irasutoya.com/2020/12/blog-post_467.html' target='_blank' rel='noopener noreferrer'><img src='https://1.bp.blogspot.com/-BjJtEASKqEU/X-Pf4hos0gI/AAAAAAABdH0/x7A1JbsxuHE-r18Sfb_JII3BOJvPhs41ACNcBGAsYHQ/s550/virus_corona_mutant.png' width='100'>0.3278: ウイルス単体別の形に変異した新型の新型コロナウイルスのイラストです。</a><div>"
            ]
          },
          "metadata": {}
        },
        {
          "output_type": "display_data",
          "data": {
            "text/plain": [
              "<IPython.core.display.HTML object>"
            ],
            "text/html": [
              "<div><a href='https://www.irasutoya.com/2017/11/blog-post_213.html' target='_blank' rel='noopener noreferrer'><img src='https://3.bp.blogspot.com/-dEoD2KTXY7Y/Wfg1Fe7lrkI/AAAAAAABH28/65kcePDsNaYjis1hgNd7GStTEgjh3SJIQCLcBGAs/s450/medical_virus_saibou.png' width='100'>0.3301: 悪い顔をした細菌に負けている体の組織のイラストです。</a><div>"
            ]
          },
          "metadata": {}
        },
        {
          "output_type": "display_data",
          "data": {
            "text/plain": [
              "<IPython.core.display.HTML object>"
            ],
            "text/html": [
              "<div><a href='https://www.irasutoya.com/2020/07/blog-post_82.html' target='_blank' rel='noopener noreferrer'><img src='https://1.bp.blogspot.com/-GSQPVlBOXAs/XwHRSnT1ztI/AAAAAAABZ2o/SPOQUS2wxm08AfmbxRUHooTzYdST-4RWQCNcBGAsYHQ/s400/body_immune_cells_attack.png' width='100'>0.3312: ウイルスが感染した細胞を攻撃する免疫細胞暴走して正常な細胞も攻撃する免疫細胞ウイルスが感染した細胞を攻撃する免疫細胞のイラストと、サイトカインの過剰分泌により暴走した免疫細胞が正常な細胞も攻撃している（サイトカインストーム）イラストです。</a><div>"
            ]
          },
          "metadata": {}
        }
      ],
      "source": [
        "query_input = \"コロナウイルスと戦う細胞のイラスト\"\n",
        "\n",
        "query_embedding = encode_text(query_input, model)\n",
        "search_irasuto(query_embedding, target_image_vectors, closest_n=5)"
      ]
    },
    {
      "cell_type": "code",
      "execution_count": null,
      "metadata": {
        "id": "lciGTurvwl9f",
        "colab": {
          "base_uri": "https://localhost:8080/",
          "height": 796
        },
        "outputId": "5db464c6-cd73-4862-d895-1efe109c5949"
      },
      "outputs": [
        {
          "output_type": "display_data",
          "data": {
            "text/plain": [
              "<IPython.core.display.HTML object>"
            ],
            "text/html": [
              "<div><a href='https://www.irasutoya.com/2012/12/blog-post_3418.html' target='_blank' rel='noopener noreferrer'><img src='https://4.bp.blogspot.com/-MYVXXnh_Uyw/WeAFdQ2x0oI/AAAAAAABHjg/KMETVYm0CgMZsoEdDCkpDCJE_OQbBHgjwCLcBGAs/s400/doctor_monshin2.png' width='100'>0.0429: 医師が患者さんに病状を説明しているイラストです。</a><div>"
            ]
          },
          "metadata": {}
        },
        {
          "output_type": "display_data",
          "data": {
            "text/plain": [
              "<IPython.core.display.HTML object>"
            ],
            "text/html": [
              "<div><a href='https://www.irasutoya.com/2013/01/blog-post_4487.html' target='_blank' rel='noopener noreferrer'><img src='https://3.bp.blogspot.com/-gWT5iyb78xM/UOJk5LAk7ZI/AAAAAAAAKJ0/f5ErVjLGEO4/s400/kenkoushindan_man.png' width='100'>0.0441: 健康診断の検査着を着た、男性のイラストです。</a><div>"
            ]
          },
          "metadata": {}
        },
        {
          "output_type": "display_data",
          "data": {
            "text/plain": [
              "<IPython.core.display.HTML object>"
            ],
            "text/html": [
              "<div><a href='https://www.irasutoya.com/2013/02/blog-post_2311.html' target='_blank' rel='noopener noreferrer'><img src='https://4.bp.blogspot.com/-UAisQnXwMe8/UOJ4BDo7TmI/AAAAAAAAKLA/LymV17pLXiw/s400/kenkoushindan_saiketsu.png' width='100'>0.0456: 注射をして採血しているイラストです。</a><div>"
            ]
          },
          "metadata": {}
        },
        {
          "output_type": "display_data",
          "data": {
            "text/plain": [
              "<IPython.core.display.HTML object>"
            ],
            "text/html": [
              "<div><a href='https://www.irasutoya.com/2015/10/blog-post_53.html' target='_blank' rel='noopener noreferrer'><img src='https://4.bp.blogspot.com/-4fgXTj5B4bg/VhHgLgIlpLI/AAAAAAAAy3k/8chaCMc-Hjg/s400/medical_pirori_kokikensa.png' width='100'>0.0475: 検査薬を服用後に息を採取して、ピロリ菌に感染していないかを調べているイラストです。</a><div>"
            ]
          },
          "metadata": {}
        },
        {
          "output_type": "display_data",
          "data": {
            "text/plain": [
              "<IPython.core.display.HTML object>"
            ],
            "text/html": [
              "<div><a href='https://www.irasutoya.com/2013/02/blog-post_5803.html' target='_blank' rel='noopener noreferrer'><img src='https://4.bp.blogspot.com/-Oj-Y4fuiKUA/UOJlBTcimAI/AAAAAAAAKKo/Vjh47QGBJMs/s400/kenkoushindan_woman.png' width='100'>0.0489: 検査着を着た、健康診断を受ける女性のイラストです。</a><div>"
            ]
          },
          "metadata": {}
        }
      ],
      "source": [
        "query_input = \"感染検査をしているイラスト\"\n",
        "\n",
        "query_embedding = encode_text(query_input, model)\n",
        "search_irasuto(query_embedding, target_sentence_vectors, closest_n=5)"
      ]
    },
    {
      "cell_type": "code",
      "execution_count": null,
      "metadata": {
        "id": "S9UG0YTPj860",
        "colab": {
          "base_uri": "https://localhost:8080/",
          "height": 511
        },
        "outputId": "4f5ab7e6-4751-411b-b08a-9b1fa68cfa73"
      },
      "outputs": [
        {
          "output_type": "display_data",
          "data": {
            "text/plain": [
              "<IPython.core.display.HTML object>"
            ],
            "text/html": [
              "<div><a href='https://www.irasutoya.com/2020/06/blog-post_78.html' target='_blank' rel='noopener noreferrer'><img src='https://1.bp.blogspot.com/-fVNjZ9kozeg/YCHmE_ueG2I/AAAAAAABdYs/zijD4HnAcHYFZfDJlT7iFJY7L8XWIoLtgCNcBGAsYHQ/s400/medical_yobou_chuusya_mask_woman.png' width='100'>0.3361: マスクありマスクなし女性の二の腕に予防接種（ワクチン接種）のための注射をしている看護師のイラストです。</a><div>"
            ]
          },
          "metadata": {}
        },
        {
          "output_type": "display_data",
          "data": {
            "text/plain": [
              "<IPython.core.display.HTML object>"
            ],
            "text/html": [
              "<div><a href='https://www.irasutoya.com/2016/02/blog-post_117.html' target='_blank' rel='noopener noreferrer'><img src='https://1.bp.blogspot.com/-DWPlkXZ0YqA/YCHmExR57sI/AAAAAAABdYw/bvXiCeEQjrgAD6W9L1Ykemn_xYGijCkGACNcBGAsYHQ/s400/medical_yobou_chuusya_mask_man.png' width='100'>0.3366: マスクありマスクなし二の腕に予防注射（予防接種・ワクチン接種）を受けている男性のイラストです。</a><div>"
            ]
          },
          "metadata": {}
        },
        {
          "output_type": "display_data",
          "data": {
            "text/plain": [
              "<IPython.core.display.HTML object>"
            ],
            "text/html": [
              "<div><a href='https://www.irasutoya.com/2015/06/blog-post_246.html' target='_blank' rel='noopener noreferrer'><img src='https://3.bp.blogspot.com/-uDbbmVh8-4E/VYJca1wow7I/AAAAAAAAuYk/cL226VdZRag/s450/medical_tan_kyuuin.png' width='100'>0.3372: 女性の看護師さんがカテーテルを使って、患者さんの痰（たん）を吸引しているイラストです。</a><div>"
            ]
          },
          "metadata": {}
        },
        {
          "output_type": "display_data",
          "data": {
            "text/plain": [
              "<IPython.core.display.HTML object>"
            ],
            "text/html": [
              "<div><a href='https://www.irasutoya.com/2016/02/blog-post_89.html' target='_blank' rel='noopener noreferrer'><img src='https://2.bp.blogspot.com/-Jd_IMCuf2Mw/WVny1kxhpdI/AAAAAAABFOk/FNtCEX02Zfok--qHT0UsKDAUf7Xi9AdngCLcBGAs/s400/medical_daichou_naishikyou2.png' width='100'>0.3383: 患者の大腸に内視鏡を入れて癌の検査などをしている医師のイラストです。</a><div>"
            ]
          },
          "metadata": {}
        },
        {
          "output_type": "display_data",
          "data": {
            "text/plain": [
              "<IPython.core.display.HTML object>"
            ],
            "text/html": [
              "<div><a href='https://www.irasutoya.com/2015/10/blog-post_88.html' target='_blank' rel='noopener noreferrer'><img src='https://3.bp.blogspot.com/-CYrRn22k7nI/VhHgh8Gn9WI/AAAAAAAAy-w/V9Tim_nU2Yc/s400/kyuukyuusya_hansou.png' width='100'>0.3391: 担架（タンカ・ストレッチャー）に乗せられて救急車で病院まで運ばれる患者さんのイラストです。</a><div>"
            ]
          },
          "metadata": {}
        }
      ],
      "source": [
        "query_input = \"感染検査をしているイラスト\"\n",
        "\n",
        "query_embedding = encode_text(query_input, model)\n",
        "search_irasuto(query_embedding, target_image_vectors, closest_n=5)"
      ]
    },
    {
      "cell_type": "code",
      "execution_count": null,
      "metadata": {
        "id": "USOT3RN9wuto",
        "colab": {
          "base_uri": "https://localhost:8080/",
          "height": 583
        },
        "outputId": "1678387c-cbeb-4c32-f677-dc126dfe2065"
      },
      "outputs": [
        {
          "output_type": "display_data",
          "data": {
            "text/plain": [
              "<IPython.core.display.HTML object>"
            ],
            "text/html": [
              "<div><a href='https://www.irasutoya.com/2013/12/blog-post_9831.html' target='_blank' rel='noopener noreferrer'><img src='https://4.bp.blogspot.com/-ELOlxJvTPyk/UnyGMigv7gI/AAAAAAAAadE/lb40d_loGxY/s400/neko_sabatora.png' width='100'>0.3590: チョコンと後ろ足でおすわりをしている、灰色いサバトラ猫のイラストです。5</a><div>"
            ]
          },
          "metadata": {}
        },
        {
          "output_type": "display_data",
          "data": {
            "text/plain": [
              "<IPython.core.display.HTML object>"
            ],
            "text/html": [
              "<div><a href='https://www.irasutoya.com/2018/11/blog-post_64.html' target='_blank' rel='noopener noreferrer'><img src='https://4.bp.blogspot.com/-_XsuxM7-ql4/W8hDiCFTFGI/AAAAAAABPdU/PIspyn4_N6M2g2YWwJhMscKQPiPbjVYfACLcBGAs/s400/animal_cat_kowai.png' width='100'>0.3629: すごい形相でジャンプして飛びかかってくる怒った猫のイラストです。</a><div>"
            ]
          },
          "metadata": {}
        },
        {
          "output_type": "display_data",
          "data": {
            "text/plain": [
              "<IPython.core.display.HTML object>"
            ],
            "text/html": [
              "<div><a href='https://www.irasutoya.com/2013/08/blog-post_645.html' target='_blank' rel='noopener noreferrer'><img src='https://3.bp.blogspot.com/-X6ruoCYjbMQ/WSa8zi2McUI/AAAAAAABEhc/OtxhrQP4PYIusK-uT61_NHbxUmlEbLWgACLcB/s400/cat_mikeneko2.png' width='100'>0.3634: 可愛く前脚を立てて座っている三毛猫のイラストです。</a><div>"
            ]
          },
          "metadata": {}
        },
        {
          "output_type": "display_data",
          "data": {
            "text/plain": [
              "<IPython.core.display.HTML object>"
            ],
            "text/html": [
              "<div><a href='https://www.irasutoya.com/2017/09/blog-post_763.html' target='_blank' rel='noopener noreferrer'><img src='https://3.bp.blogspot.com/-TasV1gzw4t8/Wat2ISXqZDI/AAAAAAABGVI/YDgIIwLqbpQgC4g10EWWQ9LLr1JbPbMugCLcBGAs/s400/animal_stand_neko.png' width='100'>0.3635: ネコ（三毛猫）のキャラクターが二本足で立っているイラストです。</a><div>"
            ]
          },
          "metadata": {}
        },
        {
          "output_type": "display_data",
          "data": {
            "text/plain": [
              "<IPython.core.display.HTML object>"
            ],
            "text/html": [
              "<div><a href='https://www.irasutoya.com/2018/08/blog-post_164.html' target='_blank' rel='noopener noreferrer'><img src='https://1.bp.blogspot.com/-uAmcMsmEmuQ/W1a4-oVa5KI/AAAAAAABNjI/5Jclbz9Gqb0lKTkjWHF7U9ZrV5AQRzvuwCLcBGAs/s400/nekoyoke_mat_togetoge.png' width='100'>0.3637: 棘のあるマットで猫（野良猫）を追い払っているイラストです。</a><div>"
            ]
          },
          "metadata": {}
        }
      ],
      "source": [
        "image_file = \"/content/clip-japanese/sample_images/1.jpeg\"\n",
        "\n",
        "query_embedding = encode_image(image_file, model)\n",
        "search_irasuto(query_embedding, target_sentence_vectors, closest_n=5)"
      ]
    },
    {
      "cell_type": "code",
      "execution_count": null,
      "metadata": {
        "id": "VN6qVovSkCGr",
        "colab": {
          "base_uri": "https://localhost:8080/",
          "height": 522
        },
        "outputId": "a19b87e6-7d81-40e4-d25c-014c97149584"
      },
      "outputs": [
        {
          "output_type": "display_data",
          "data": {
            "text/plain": [
              "<IPython.core.display.HTML object>"
            ],
            "text/html": [
              "<div><a href='https://www.irasutoya.com/2019/09/blog-post_188.html' target='_blank' rel='noopener noreferrer'><img src='https://1.bp.blogspot.com/-mjkfErtfCTU/XXXObIPmwBI/AAAAAAABUto/0dQq-cQ5v64RR0IWbDgdlc10CgK2Or0jACLcBGAs/s300/cat_wink_gray.png' width='100'>0.1439: 茶色とグレーの猫がウインクをしているイラストです。</a><div>"
            ]
          },
          "metadata": {}
        },
        {
          "output_type": "display_data",
          "data": {
            "text/plain": [
              "<IPython.core.display.HTML object>"
            ],
            "text/html": [
              "<div><a href='https://www.irasutoya.com/2013/12/blog-post_9831.html' target='_blank' rel='noopener noreferrer'><img src='https://4.bp.blogspot.com/-ELOlxJvTPyk/UnyGMigv7gI/AAAAAAAAadE/lb40d_loGxY/s400/neko_sabatora.png' width='100'>0.1446: チョコンと後ろ足でおすわりをしている、灰色いサバトラ猫のイラストです。5</a><div>"
            ]
          },
          "metadata": {}
        },
        {
          "output_type": "display_data",
          "data": {
            "text/plain": [
              "<IPython.core.display.HTML object>"
            ],
            "text/html": [
              "<div><a href='https://www.irasutoya.com/2014/02/blog-post_2665.html' target='_blank' rel='noopener noreferrer'><img src='https://3.bp.blogspot.com/-jq0sl7TfF7U/Uvy5rrIk4hI/AAAAAAAAdoA/bXKJ5Eka-8A/s400/cat_american_shorthair.png' width='100'>0.1453: 大きな尻尾と、引き締まった縞模様の体が特徴的な猫、アメリカンショートヘアのイラストです。</a><div>"
            ]
          },
          "metadata": {}
        },
        {
          "output_type": "display_data",
          "data": {
            "text/plain": [
              "<IPython.core.display.HTML object>"
            ],
            "text/html": [
              "<div><a href='https://www.irasutoya.com/2019/03/blog-post_538.html' target='_blank' rel='noopener noreferrer'><img src='https://4.bp.blogspot.com/-fvuhFuMVka0/XIJBRrtEoXI/AAAAAAABRzQ/OJJb7t6t8mcgVOo5A4CACHOGFmVy4NeTwCLcBGAs/s400/cat_koubakozuwari_gray.png' width='100'>0.1457: グレーの猫が足を折りたたんで箱座りをしているイラストです。</a><div>"
            ]
          },
          "metadata": {}
        },
        {
          "output_type": "display_data",
          "data": {
            "text/plain": [
              "<IPython.core.display.HTML object>"
            ],
            "text/html": [
              "<div><a href='https://www.irasutoya.com/2017/07/blog-post_225.html' target='_blank' rel='noopener noreferrer'><img src='https://2.bp.blogspot.com/-4cDI5-IdyKs/WUdY336_nbI/AAAAAAABFAg/xxpZDJEt6ncUrMQwU7Ug-HQA8-eRI36eACLcBGAs/s400/pet_cat_sit.png' width='100'>0.1464: 床に手をついて座っている可愛い猫のイラストです。</a><div>"
            ]
          },
          "metadata": {}
        }
      ],
      "source": [
        "image_file = \"/content/clip-japanese/sample_images/1.jpeg\"\n",
        "\n",
        "query_embedding = encode_image(image_file, model)\n",
        "search_irasuto(query_embedding, target_image_vectors, closest_n=5)"
      ]
    },
    {
      "cell_type": "code",
      "execution_count": null,
      "metadata": {
        "id": "keKxhFTZ4Pe1",
        "colab": {
          "base_uri": "https://localhost:8080/",
          "height": 537
        },
        "outputId": "ee3f45a0-8b22-442b-b98c-ed59af44adbf"
      },
      "outputs": [
        {
          "output_type": "display_data",
          "data": {
            "text/plain": [
              "<IPython.core.display.HTML object>"
            ],
            "text/html": [
              "<div><a href='https://www.irasutoya.com/2016/03/blog-post_508.html' target='_blank' rel='noopener noreferrer'><img src='https://1.bp.blogspot.com/-0DWg2xJ9tNY/VvencI8pl_I/AAAAAAAA5P4/vZu2rN5sL68UOavPJG-4XRnMaaQOCOL2w/s400/dinosaur_pachycephalosaurus.png' width='100'>0.3628: 硬い頭を使って頭突きで戦っていたのではないかと言われている白亜紀の恐竜、パキケファロサウルスのイラストです。</a><div>"
            ]
          },
          "metadata": {}
        },
        {
          "output_type": "display_data",
          "data": {
            "text/plain": [
              "<IPython.core.display.HTML object>"
            ],
            "text/html": [
              "<div><a href='https://www.irasutoya.com/2013/03/blog-post_4848.html' target='_blank' rel='noopener noreferrer'><img src='https://1.bp.blogspot.com/-0O4wfTj0iSo/URec-xSADjI/AAAAAAAAMWI/rVDbTz7bJbM/s400/kyoryu_kigurumi.png' width='100'>0.3629: 恐竜の気ぐるみを着た、かわいい女の子のイラストです。おちびちゃんさんからのリクエストです。</a><div>"
            ]
          },
          "metadata": {}
        },
        {
          "output_type": "display_data",
          "data": {
            "text/plain": [
              "<IPython.core.display.HTML object>"
            ],
            "text/html": [
              "<div><a href='https://www.irasutoya.com/2013/04/blog-post_3876.html' target='_blank' rel='noopener noreferrer'><img src='https://3.bp.blogspot.com/-h1WdT1D_PfU/UUQ0nInZ8tI/AAAAAAAAO20/HkcRSqNaMvk/s400/Brachiosaurus.png' width='100'>0.3638: 頭の膨らんだ巨大な草食恐竜、ブラキオサウルスのイラストです。</a><div>"
            ]
          },
          "metadata": {}
        },
        {
          "output_type": "display_data",
          "data": {
            "text/plain": [
              "<IPython.core.display.HTML object>"
            ],
            "text/html": [
              "<div><a href='https://www.irasutoya.com/2014/05/blog-post_8677.html' target='_blank' rel='noopener noreferrer'><img src='https://2.bp.blogspot.com/-Mgj0KQw_ttk/U0pTUrtJd8I/AAAAAAAAfIg/9_XBt7x_ljI/s400/nendo_boy.png' width='100'>0.3645: 楽しそうに粘土で怪獣を作っている男の子のイラストです。</a><div>"
            ]
          },
          "metadata": {}
        },
        {
          "output_type": "display_data",
          "data": {
            "text/plain": [
              "<IPython.core.display.HTML object>"
            ],
            "text/html": [
              "<div><a href='https://www.irasutoya.com/2015/01/blog-post_544.html' target='_blank' rel='noopener noreferrer'><img src='https://1.bp.blogspot.com/-HCV3Twow1Fk/VMItZ9o1gJI/AAAAAAAAqtQ/wW-VHv-CKkE/s500/boys_kenka_omocha.png' width='100'>0.3648: 友達とおもちゃを取り合って喧嘩している男の子のイラストです。</a><div>"
            ]
          },
          "metadata": {}
        }
      ],
      "source": [
        "image_file = \"/content/clip-japanese/sample_images/3.jpeg\"\n",
        "\n",
        "query_embedding = encode_image(image_file, model)\n",
        "search_irasuto(query_embedding, target_sentence_vectors, closest_n=5)"
      ]
    },
    {
      "cell_type": "code",
      "execution_count": null,
      "metadata": {
        "id": "hzjrC8E6kF_A",
        "colab": {
          "base_uri": "https://localhost:8080/",
          "height": 506
        },
        "outputId": "b145c7d4-df9f-4a46-83ce-731693354103"
      },
      "outputs": [
        {
          "output_type": "display_data",
          "data": {
            "text/plain": [
              "<IPython.core.display.HTML object>"
            ],
            "text/html": [
              "<div><a href='https://www.irasutoya.com/2013/08/blog-post_1460.html' target='_blank' rel='noopener noreferrer'><img src='https://3.bp.blogspot.com/-YeGBCSYlNL0/UaVU9lWWAjI/AAAAAAAAT88/bymwp6CsKCY/s400/animal_kirin_kid.png' width='100'>0.1637: キリンに乗って喜んでいるかわいい子供のイラストです。</a><div>"
            ]
          },
          "metadata": {}
        },
        {
          "output_type": "display_data",
          "data": {
            "text/plain": [
              "<IPython.core.display.HTML object>"
            ],
            "text/html": [
              "<div><a href='https://www.irasutoya.com/2012/02/blog-post_4419.html' target='_blank' rel='noopener noreferrer'><img src='https://1.bp.blogspot.com/-gfZzYb3ha_Q/UZNyCdiCCkI/AAAAAAAASfM/LrC0Hc4HLIY/s400/dragon_fukidashi.png' width='100'>0.1695: 龍のイラストとメッセージ欄がついた素材です。年賀状の挨拶にどうぞ。</a><div>"
            ]
          },
          "metadata": {}
        },
        {
          "output_type": "display_data",
          "data": {
            "text/plain": [
              "<IPython.core.display.HTML object>"
            ],
            "text/html": [
              "<div><a href='https://www.irasutoya.com/2020/11/blog-post_94.html' target='_blank' rel='noopener noreferrer'><img src='https://1.bp.blogspot.com/-ANekJelpErs/X5OcQy_1NkI/AAAAAAABb7c/mGR0zq0E7VYIjhC7vL886AC7HwxeHEQHwCNcBGAsYHQ/s400/dinosaur_allosaurus.png' width='100'>0.1750: 目の上に角を持つジュラ紀に生息していた恐竜、アロサウルスのイラストです。</a><div>"
            ]
          },
          "metadata": {}
        },
        {
          "output_type": "display_data",
          "data": {
            "text/plain": [
              "<IPython.core.display.HTML object>"
            ],
            "text/html": [
              "<div><a href='https://www.irasutoya.com/2015/11/blog-post_959.html' target='_blank' rel='noopener noreferrer'><img src='https://3.bp.blogspot.com/-nK2kKWnV46Q/VkxLwCRzVVI/AAAAAAAA0p0/_5pDt5fbNk0/s400/kyouryuu_troodon.png' width='100'>0.1760: とても知能が高かったといわれている中生代（白亜紀）の恐竜、トロオドンのイラストです。</a><div>"
            ]
          },
          "metadata": {}
        },
        {
          "output_type": "display_data",
          "data": {
            "text/plain": [
              "<IPython.core.display.HTML object>"
            ],
            "text/html": [
              "<div><a href='https://www.irasutoya.com/2012/02/blog-post_5764.html' target='_blank' rel='noopener noreferrer'><img src='https://3.bp.blogspot.com/-09M-YOL84M0/UZNyDBrRXII/AAAAAAAASfk/_YNyy1lKmXU/s400/dragon_hane.png' width='100'>0.1773: キューピッドのような羽の生えた龍のイラストです。</a><div>"
            ]
          },
          "metadata": {}
        }
      ],
      "source": [
        "image_file = \"/content/clip-japanese/sample_images/3.jpeg\"\n",
        "\n",
        "query_embedding = encode_image(image_file, model)\n",
        "search_irasuto(query_embedding, target_image_vectors, closest_n=5)"
      ]
    },
    {
      "cell_type": "code",
      "execution_count": null,
      "metadata": {
        "id": "meUFFHuC4Vkj",
        "colab": {
          "base_uri": "https://localhost:8080/",
          "height": 557
        },
        "outputId": "bfd5a8a0-7780-4b9a-9313-f55f2feb07d5"
      },
      "outputs": [
        {
          "output_type": "display_data",
          "data": {
            "text/plain": [
              "<IPython.core.display.HTML object>"
            ],
            "text/html": [
              "<div><a href='https://www.irasutoya.com/2014/09/blog-post_298.html' target='_blank' rel='noopener noreferrer'><img src='https://1.bp.blogspot.com/-vIgnCe41mww/VA7mUEWZvcI/AAAAAAAAmOM/zJ-zN49wbbw/s400/mensetsu_taido.png' width='100'>0.3508: 就職活動の面接で、だらしないスーツ姿で椅子に足を組んで腰掛けている、態度の悪い受験者のイラストです。</a><div>"
            ]
          },
          "metadata": {}
        },
        {
          "output_type": "display_data",
          "data": {
            "text/plain": [
              "<IPython.core.display.HTML object>"
            ],
            "text/html": [
              "<div><a href='https://www.irasutoya.com/2016/12/blog-post_146.html' target='_blank' rel='noopener noreferrer'><img src='https://4.bp.blogspot.com/-d_h8UwEDyfc/WAhyyPS07fI/AAAAAAAA_GQ/uv4gut8QZjI3cjfpss52hiVoZdpuh7O1ACLcB/s550/ai_shigoto_makaseru.png' width='100'>0.3508: 人工知能（AI）のキャラクターに仕事をさせている間にゆったりとくつろいでいる男性のイラストです。</a><div>"
            ]
          },
          "metadata": {}
        },
        {
          "output_type": "display_data",
          "data": {
            "text/plain": [
              "<IPython.core.display.HTML object>"
            ],
            "text/html": [
              "<div><a href='https://www.irasutoya.com/2018/02/blog-post_956.html' target='_blank' rel='noopener noreferrer'><img src='https://2.bp.blogspot.com/-kMbdxwET8Go/Wn1VcZ9oGBI/AAAAAAABKCY/7dL-doSO7EgkxvT97_5W7VPiy0_lsPRAgCLcBGAs/s400/agura_kutsurogu3_ojisan.png' width='100'>0.3524: 休憩中のあぐらをかいた中年男性のイラストです。</a><div>"
            ]
          },
          "metadata": {}
        },
        {
          "output_type": "display_data",
          "data": {
            "text/plain": [
              "<IPython.core.display.HTML object>"
            ],
            "text/html": [
              "<div><a href='https://www.irasutoya.com/2019/03/blog-post_80.html' target='_blank' rel='noopener noreferrer'><img src='https://4.bp.blogspot.com/-w1V92x32DV4/XGjyRSSGo9I/AAAAAAABRfU/Lh49NofCahk7bZNXVxOpdnCjLns5J6gWACLcBGAs/s400/kaisya_desk_ashimoto_heater.png' width='100'>0.3526: デスクの下にヒーター置いて足元を温めている冷え性の人のイラストです。</a><div>"
            ]
          },
          "metadata": {}
        },
        {
          "output_type": "display_data",
          "data": {
            "text/plain": [
              "<IPython.core.display.HTML object>"
            ],
            "text/html": [
              "<div><a href='https://www.irasutoya.com/2014/12/blog-post_555.html' target='_blank' rel='noopener noreferrer'><img src='https://1.bp.blogspot.com/-Hke6uvZRFJc/VIhO_y0nMVI/AAAAAAAApks/TzJAnv82lKI/s450/game_kakin.png' width='100'>0.3530: スマートフォンのゲーム（ソーシャルゲーム・ソシャゲ）に熱中しすぎて、アイテム課金などの課金システムにたくさんのお金をつぎ込んでいる男性のイラストです。</a><div>"
            ]
          },
          "metadata": {}
        }
      ],
      "source": [
        "image_file = \"/content/clip-japanese/sample_images/4.jpeg\"\n",
        "\n",
        "query_embedding = encode_image(image_file, model)\n",
        "search_irasuto(query_embedding, target_sentence_vectors, closest_n=5)"
      ]
    },
    {
      "cell_type": "code",
      "execution_count": null,
      "metadata": {
        "id": "b8rUqDqkxyiw",
        "colab": {
          "base_uri": "https://localhost:8080/",
          "height": 582
        },
        "outputId": "360e0e07-2b53-4331-8f2c-55936f27c069"
      },
      "outputs": [
        {
          "output_type": "display_data",
          "data": {
            "text/plain": [
              "<IPython.core.display.HTML object>"
            ],
            "text/html": [
              "<div><a href='https://www.irasutoya.com/2013/11/blog-post_3184.html' target='_blank' rel='noopener noreferrer'><img src='https://4.bp.blogspot.com/-fXAE1ikRfiY/UnIDKUet2yI/AAAAAAAAZ28/rfvKS_vidV0/s400/massage_chair.png' width='100'>0.1997: マッサージチェアに座って、気持よさそうに眠っている中年男性のイラストです。</a><div>"
            ]
          },
          "metadata": {}
        },
        {
          "output_type": "display_data",
          "data": {
            "text/plain": [
              "<IPython.core.display.HTML object>"
            ],
            "text/html": [
              "<div><a href='https://www.irasutoya.com/2019/06/blog-post_92.html' target='_blank' rel='noopener noreferrer'><img src='https://1.bp.blogspot.com/-uAkJ4ehhFCg/XPymAIaJjSI/AAAAAAABTEs/Ubz2hOuxoKsGko03KjU_Z9HHj64xtRFygCLcBGAs/s400/toilet_study_man.png' width='100'>0.2041: トイレの便座に座って真剣な顔で読書をしている男性のイラストです。</a><div>"
            ]
          },
          "metadata": {}
        },
        {
          "output_type": "display_data",
          "data": {
            "text/plain": [
              "<IPython.core.display.HTML object>"
            ],
            "text/html": [
              "<div><a href='https://www.irasutoya.com/2018/02/blog-post_349.html' target='_blank' rel='noopener noreferrer'><img src='https://4.bp.blogspot.com/-LD4-hJtm6fQ/Wm1yiKS2vrI/AAAAAAABJ5o/zzkjeP8hYQUH4H_-_6ib8zlDuUkUKZj7gCLcBGAs/s400/figure_reclining_seat.png' width='100'>0.2056: バスや新幹線や飛行機のリクライニングシートを通常の戻した状態で座っている棒人間のイラストです。</a><div>"
            ]
          },
          "metadata": {}
        },
        {
          "output_type": "display_data",
          "data": {
            "text/plain": [
              "<IPython.core.display.HTML object>"
            ],
            "text/html": [
              "<div><a href='https://www.irasutoya.com/2013/11/blog-post_4196.html' target='_blank' rel='noopener noreferrer'><img src='https://2.bp.blogspot.com/-lRJwrg9YSow/W_UF6yWjVXI/AAAAAAABQTw/C2_xu42bfDE9fiEU8-u2wdsJhEqvTPcCACLcBGAs/s400/biyou_hige_shaving.png' width='100'>0.2061: 電気シェーバー（電動ひげ剃り）を使って髭をそっている中年男性のイラストです。</a><div>"
            ]
          },
          "metadata": {}
        },
        {
          "output_type": "display_data",
          "data": {
            "text/plain": [
              "<IPython.core.display.HTML object>"
            ],
            "text/html": [
              "<div><a href='https://www.irasutoya.com/2019/10/blog-post_90.html' target='_blank' rel='noopener noreferrer'><img src='https://1.bp.blogspot.com/-eldRAXSDsLQ/XWS5zsA5X7I/AAAAAAABUXY/mfQYQhn9W3ggDWzgbtJpYl35Z2HfXyfawCLcBGAs/s400/sleep_inemuri_reclining_chair_man.png' width='100'>0.2088: ネットカフェや会社などのリクライニングチェアで仮眠（居眠り）をしている男性のイラストです。</a><div>"
            ]
          },
          "metadata": {}
        }
      ],
      "source": [
        "image_file = \"/content/clip-japanese/sample_images/4.jpeg\"\n",
        "\n",
        "query_embedding = encode_image(image_file, model)\n",
        "search_irasuto(query_embedding, target_image_vectors, closest_n=5)"
      ]
    },
    {
      "cell_type": "code",
      "execution_count": null,
      "metadata": {
        "id": "sE2jJU19kKzS",
        "colab": {
          "base_uri": "https://localhost:8080/",
          "height": 542
        },
        "outputId": "f3859923-0764-4929-9ce2-7dc975fb0da8"
      },
      "outputs": [
        {
          "output_type": "display_data",
          "data": {
            "text/plain": [
              "<IPython.core.display.HTML object>"
            ],
            "text/html": [
              "<div><a href='https://www.irasutoya.com/2013/11/blog-post_7639.html' target='_blank' rel='noopener noreferrer'><img src='https://1.bp.blogspot.com/-d_FUfYntK0c/Uf8zrEFRBLI/AAAAAAAAWvM/XGWzLFJlnrw/s400/lego_block.png' width='100'>0.3513: レゴブロックやダイヤブロックのような、組み合わせて遊ぶブロック玩具のイラストです。</a><div>"
            ]
          },
          "metadata": {}
        },
        {
          "output_type": "display_data",
          "data": {
            "text/plain": [
              "<IPython.core.display.HTML object>"
            ],
            "text/html": [
              "<div><a href='https://www.irasutoya.com/2017/09/blog-post_839.html' target='_blank' rel='noopener noreferrer'><img src='https://4.bp.blogspot.com/-D-zuN4ApP6Q/Wat2JJ2QIEI/AAAAAAABGVQ/-nsdtH_SbBA2pVbS1C3AaCBiIFYRrSCFwCLcBGAs/s400/animal_stand_niwatori.png' width='100'>0.3570: デフォルメされた鶏（鳥・にわとり）のキャラクターです。</a><div>"
            ]
          },
          "metadata": {}
        },
        {
          "output_type": "display_data",
          "data": {
            "text/plain": [
              "<IPython.core.display.HTML object>"
            ],
            "text/html": [
              "<div><a href='https://www.irasutoya.com/2017/08/blog-post_483.html' target='_blank' rel='noopener noreferrer'><img src='https://3.bp.blogspot.com/-XGgrMdLYlw4/WZVg09MiqqI/AAAAAAABGFI/CoTV4nF8OpIHg7KdWeG33lhfQLnXZ5Q2QCLcBGAs/s400/chicken_race_niwatori.png' width='100'>0.3571: 二匹で競り合いながら徒競走（チキンレース・チキンゲーム）をしている鶏のキャラクターのイラストです。</a><div>"
            ]
          },
          "metadata": {}
        },
        {
          "output_type": "display_data",
          "data": {
            "text/plain": [
              "<IPython.core.display.HTML object>"
            ],
            "text/html": [
              "<div><a href='https://www.irasutoya.com/2016/11/blog-post_38.html' target='_blank' rel='noopener noreferrer'><img src='https://4.bp.blogspot.com/-4PkaEhqbGD4/WAXedJnxCyI/AAAAAAAA_E8/EmQ6D_Ps3PMxPWKO3r-nDlS29iDvuF2IgCLcB/s400/eto_tori_kagamimochi.png' width='100'>0.3598: 鏡餅を持ってウィンクをしている鶏のキャラクターです。</a><div>"
            ]
          },
          "metadata": {}
        },
        {
          "output_type": "display_data",
          "data": {
            "text/plain": [
              "<IPython.core.display.HTML object>"
            ],
            "text/html": [
              "<div><a href='https://www.irasutoya.com/2016/11/blog-post_58.html' target='_blank' rel='noopener noreferrer'><img src='https://1.bp.blogspot.com/-9rwO5NW3ZT4/WAXechUe2ZI/AAAAAAAA_Ew/WWPOuHGUL-E6LIK8aPgbelNk3sxoAlqIwCLcB/s400/eto_tori_egg.png' width='100'>0.3613: 卵を持ってバンザイをしている鶏のキャラクターです。</a><div>"
            ]
          },
          "metadata": {}
        }
      ],
      "source": [
        "image_file = \"/content/clip-japanese/sample_images/10.jpeg\"\n",
        "\n",
        "query_embedding = encode_image(image_file, model)\n",
        "search_irasuto(query_embedding, target_sentence_vectors, closest_n=5)"
      ]
    },
    {
      "cell_type": "code",
      "source": [
        "image_file = \"/content/clip-japanese/sample_images/10.jpeg\"\n",
        "\n",
        "query_embedding = encode_image(image_file, model)\n",
        "search_irasuto(query_embedding, target_image_vectors, closest_n=5)"
      ],
      "metadata": {
        "colab": {
          "base_uri": "https://localhost:8080/",
          "height": 481
        },
        "id": "XgTd9ZSXzKD2",
        "outputId": "74741920-2a29-4ab7-f156-28f3882cfa59"
      },
      "execution_count": null,
      "outputs": [
        {
          "output_type": "display_data",
          "data": {
            "text/plain": [
              "<IPython.core.display.HTML object>"
            ],
            "text/html": [
              "<div><a href='https://www.irasutoya.com/2013/12/blog-post_5390.html' target='_blank' rel='noopener noreferrer'><img src='https://3.bp.blogspot.com/-sqSQnwMKiwI/UqA6NKHlWoI/AAAAAAAAbPk/Fb1GDgDJCoo/s600/line_christmas_character.png' width='100'>0.1437: クリスマスのキャラクターのラインクリスマスグッズのラインクリスマスオーナメントのラインクリスマススイーツのラインクリスマスの飾りのラインデザインの区切りなどに使える、クリスマスをイメージしたいろいろなイラストのラインです。</a><div>"
            ]
          },
          "metadata": {}
        },
        {
          "output_type": "display_data",
          "data": {
            "text/plain": [
              "<IPython.core.display.HTML object>"
            ],
            "text/html": [
              "<div><a href='https://www.irasutoya.com/2016/11/blog-post_61.html' target='_blank' rel='noopener noreferrer'><img src='https://4.bp.blogspot.com/-BVDBoW42JZk/WAXecgd689I/AAAAAAAA_FQ/xQO8rrBkXA8MRYYt1Px8OrllDkUvU9_0wCPcB/s400/eto_tori_family.png' width='100'>0.1557: リボンを付けたヒヨコと鶏の夫婦のキャラクターが歩いているイラストです。</a><div>"
            ]
          },
          "metadata": {}
        },
        {
          "output_type": "display_data",
          "data": {
            "text/plain": [
              "<IPython.core.display.HTML object>"
            ],
            "text/html": [
              "<div><a href='https://www.irasutoya.com/2015/11/blog-post_607.html' target='_blank' rel='noopener noreferrer'><img src='https://1.bp.blogspot.com/-bxDf9jv9q4I/VkqPK6xGmYI/AAAAAAAA0gM/jaAa1_O9neM/s200/christmas_ornament03_snowman.png' width='100'>0.1585: サンタ、リース、雪だるま、プレゼント、ミニツリー、靴下、ベル、星、杖のキャンディ、ろうそく、ヒイラギ、松ぼっくり、トナカイ、てっぺんにつけるトップスターなど、クリスマスツリーに飾り付けをするためのいろいろなオーナメントのイラストです。こちらの素材もあわせてご利用ください。「いろいろなクリスマスの飾りのイラスト（クーゲル）」「飾りのないクリスマスツリーのイラスト」</a><div>"
            ]
          },
          "metadata": {}
        },
        {
          "output_type": "display_data",
          "data": {
            "text/plain": [
              "<IPython.core.display.HTML object>"
            ],
            "text/html": [
              "<div><a href='https://www.irasutoya.com/2017/11/blog-post_494.html' target='_blank' rel='noopener noreferrer'><img src='https://3.bp.blogspot.com/-kZjyL73Vx-E/Wfg1I29cbKI/AAAAAAABH3k/3UaeH7iNhywxIfN_pABzYBj46H2vApUhwCLcBGAs/s600/niku_tori_line.png' width='100'>0.1586: フレーム素材ライン素材白、茶色、黒の鳥（ニワトリ）が並んだフレーム素材とライン素材です。</a><div>"
            ]
          },
          "metadata": {}
        },
        {
          "output_type": "display_data",
          "data": {
            "text/plain": [
              "<IPython.core.display.HTML object>"
            ],
            "text/html": [
              "<div><a href='https://www.irasutoya.com/2013/03/blog-post_4434.html' target='_blank' rel='noopener noreferrer'><img src='https://2.bp.blogspot.com/-7oo5-d5xr-E/USSksI7xyHI/AAAAAAAANWc/K5-9ywOTppU/s550/niwatori_hiyoko_koushin.png' width='100'>0.1605: かわいいニワトリとひよこが並んで歩いているイラストです。きぃさんからのリクエストです。</a><div>"
            ]
          },
          "metadata": {}
        }
      ]
    },
    {
      "cell_type": "code",
      "source": [
        "image_file = \"/content/clip-japanese/sample_images/14.jpeg\"\n",
        "\n",
        "query_embedding = encode_image(image_file, model)\n",
        "search_irasuto(query_embedding, target_sentence_vectors, closest_n=5)"
      ],
      "metadata": {
        "colab": {
          "base_uri": "https://localhost:8080/",
          "height": 500
        },
        "id": "9gSP4d_OzMmB",
        "outputId": "ff2d0701-01f8-4066-d2d8-c0befee66beb"
      },
      "execution_count": null,
      "outputs": [
        {
          "output_type": "display_data",
          "data": {
            "text/plain": [
              "<IPython.core.display.HTML object>"
            ],
            "text/html": [
              "<div><a href='https://www.irasutoya.com/2013/07/blog-post_2595.html' target='_blank' rel='noopener noreferrer'><img src='https://4.bp.blogspot.com/-Hg4ZOi3InMg/UX-OQ0TNDOI/AAAAAAAAQ2c/ddxi8iDGNqA/s450/animal_arikui.png' width='100'>0.3424: くちが長細い、かわいいコアリクイのイラストです。</a><div>"
            ]
          },
          "metadata": {}
        },
        {
          "output_type": "display_data",
          "data": {
            "text/plain": [
              "<IPython.core.display.HTML object>"
            ],
            "text/html": [
              "<div><a href='https://www.irasutoya.com/2016/06/blog-post_501.html' target='_blank' rel='noopener noreferrer'><img src='https://1.bp.blogspot.com/-tJtVmH9kmSs/V0QnozEV5uI/AAAAAAAA6-A/m8vk_e8azWEcrO6um92JX5e_8tZsqAg9wCLcB/s400/study_animal_koala.png' width='100'>0.3437: コアラのキャラクターがハチマキを巻いて勉強をしているイラストです。</a><div>"
            ]
          },
          "metadata": {}
        },
        {
          "output_type": "display_data",
          "data": {
            "text/plain": [
              "<IPython.core.display.HTML object>"
            ],
            "text/html": [
              "<div><a href='https://www.irasutoya.com/2017/09/blog-post_512.html' target='_blank' rel='noopener noreferrer'><img src='https://2.bp.blogspot.com/-7KOvROdZybE/Wat2HeMg0hI/AAAAAAABGU8/eJ4bD53oW9YntWTgClY9rKcWYtpB1GL2wCLcBGAs/s400/animal_stand_koala.png' width='100'>0.3444: 二本足で立つデフォルメされたコアラのキャラクターです。</a><div>"
            ]
          },
          "metadata": {}
        },
        {
          "output_type": "display_data",
          "data": {
            "text/plain": [
              "<IPython.core.display.HTML object>"
            ],
            "text/html": [
              "<div><a href='https://www.irasutoya.com/2014/09/blog-post_64.html' target='_blank' rel='noopener noreferrer'><img src='https://1.bp.blogspot.com/-Jqn54kWSzGs/U-8FlOG4zzI/AAAAAAAAkuQ/LquBWMZtZAo/s400/animal_chinchira.png' width='100'>0.3506: 長い尾を持った少し大きめの鼠の仲間、可愛いチンチラのイラストです。</a><div>"
            ]
          },
          "metadata": {}
        },
        {
          "output_type": "display_data",
          "data": {
            "text/plain": [
              "<IPython.core.display.HTML object>"
            ],
            "text/html": [
              "<div><a href='https://www.irasutoya.com/2016/07/blog-post_2.html' target='_blank' rel='noopener noreferrer'><img src='https://1.bp.blogspot.com/-Wo-OGWZhye8/V2ubLtM_nRI/AAAAAAAA7mU/vlydmJ2v-V4JbQV9ZnTpH0HHFXFj1g3tQCLcB/s400/animal_degu.png' width='100'>0.3506: ペットとしても人気のチンチラに似たげっ歯類、デグーのイラストです。</a><div>"
            ]
          },
          "metadata": {}
        }
      ]
    },
    {
      "cell_type": "code",
      "source": [
        "image_file = \"/content/clip-japanese/sample_images/14.jpeg\"\n",
        "\n",
        "query_embedding = encode_image(image_file, model)\n",
        "search_irasuto(query_embedding, target_image_vectors, closest_n=5)"
      ],
      "metadata": {
        "colab": {
          "base_uri": "https://localhost:8080/",
          "height": 572
        },
        "id": "5o1QKusLzpIV",
        "outputId": "446993e5-dbeb-4e6d-c332-b8fa09d6c7de"
      },
      "execution_count": null,
      "outputs": [
        {
          "output_type": "display_data",
          "data": {
            "text/plain": [
              "<IPython.core.display.HTML object>"
            ],
            "text/html": [
              "<div><a href='https://www.irasutoya.com/2014/03/blog-post_7676.html' target='_blank' rel='noopener noreferrer'><img src='https://3.bp.blogspot.com/-6Fb9TXyg5PA/UxbJPxFDESI/AAAAAAAAd3M/EiSXpN6H30Q/s200/maruitori_gray.png' width='100'>0.1460: 青、黒、緑、オレンジ、薄ピンク、ピンク、紫、赤、水色、グレー、黄色、黄緑色の、いろいろな色のかわいい丸い形の鳥のイラストです。</a><div>"
            ]
          },
          "metadata": {}
        },
        {
          "output_type": "display_data",
          "data": {
            "text/plain": [
              "<IPython.core.display.HTML object>"
            ],
            "text/html": [
              "<div><a href='https://www.irasutoya.com/2018/06/blog-post_73.html' target='_blank' rel='noopener noreferrer'><img src='https://1.bp.blogspot.com/-aHdvqR4O9RQ/WvQG_A4kqZI/AAAAAAABL3Y/XDzFX_lUDY86lSaHtPRCHOq9Ky5dDox4wCLcBGAs/s400/bird_inko_rurikongou.png' width='100'>0.1472: 青と黄色の鮮やかな羽を持つインコの仲間、ルリコンゴウインコのイラストです。</a><div>"
            ]
          },
          "metadata": {}
        },
        {
          "output_type": "display_data",
          "data": {
            "text/plain": [
              "<IPython.core.display.HTML object>"
            ],
            "text/html": [
              "<div><a href='https://www.irasutoya.com/2016/05/blog-post_623.html' target='_blank' rel='noopener noreferrer'><img src='https://3.bp.blogspot.com/-C3WeSkUqQCg/V0QnVWyhdfI/AAAAAAAA62s/1gkFNVjxZ38m5_XPmd8uQK9fv9XZDn4AQCLcB/s400/animal_slowloris.png' width='100'>0.1481: 東南アジアの森に住む毒を持つ猿、スローロリスのイラストです。</a><div>"
            ]
          },
          "metadata": {}
        },
        {
          "output_type": "display_data",
          "data": {
            "text/plain": [
              "<IPython.core.display.HTML object>"
            ],
            "text/html": [
              "<div><a href='https://www.irasutoya.com/2015/07/blog-post_2.html' target='_blank' rel='noopener noreferrer'><img src='https://4.bp.blogspot.com/-T7h2QorspWw/VY4cYf-yLSI/AAAAAAAAuvA/iP9BlbGKIlM/s400/animal_wao_kitsunezaru.png' width='100'>0.1504: 長いシマシマの尾が特徴的なキツネザルの仲間、ワオキツネザルのイラストです。</a><div>"
            ]
          },
          "metadata": {}
        },
        {
          "output_type": "display_data",
          "data": {
            "text/plain": [
              "<IPython.core.display.HTML object>"
            ],
            "text/html": [
              "<div><a href='https://www.irasutoya.com/2016/11/blog-post_98.html' target='_blank' rel='noopener noreferrer'><img src='https://2.bp.blogspot.com/-tlDVMu6AbUM/V_4cEroRvHI/AAAAAAAA-xU/jkH-rhceFU8aswowx7CXEc9uaqJdC_-ggCLcB/s400/bird_shirofukurou.png' width='100'>0.1510: 真っ白い体をしたフクロウの仲間、シロフクロウのイラストです。</a><div>"
            ]
          },
          "metadata": {}
        }
      ]
    },
    {
      "cell_type": "code",
      "source": [
        ""
      ],
      "metadata": {
        "id": "poUN2cyU0fgf"
      },
      "execution_count": null,
      "outputs": []
    }
  ],
  "metadata": {
    "accelerator": "GPU",
    "colab": {
      "collapsed_sections": [],
      "name": "CLIP_irasutoya-search_zero-shot.ipynb",
      "provenance": []
    },
    "kernelspec": {
      "display_name": "Python 3",
      "name": "python3"
    },
    "language_info": {
      "name": "python"
    },
    "widgets": {
      "application/vnd.jupyter.widget-state+json": {
        "c9d81566f5744f4cb86b516363c1b42d": {
          "model_module": "@jupyter-widgets/controls",
          "model_name": "HBoxModel",
          "model_module_version": "1.5.0",
          "state": {
            "_dom_classes": [],
            "_model_module": "@jupyter-widgets/controls",
            "_model_module_version": "1.5.0",
            "_model_name": "HBoxModel",
            "_view_count": null,
            "_view_module": "@jupyter-widgets/controls",
            "_view_module_version": "1.5.0",
            "_view_name": "HBoxView",
            "box_style": "",
            "children": [
              "IPY_MODEL_5f8d7218bc6044fa9d60248eb8053841",
              "IPY_MODEL_2f0244d74d084db69f45749acac62cfd",
              "IPY_MODEL_c116399c4fa545dab3b04d1d39a83650"
            ],
            "layout": "IPY_MODEL_0158556697fa41eabada92e71236b9b1"
          }
        },
        "5f8d7218bc6044fa9d60248eb8053841": {
          "model_module": "@jupyter-widgets/controls",
          "model_name": "HTMLModel",
          "model_module_version": "1.5.0",
          "state": {
            "_dom_classes": [],
            "_model_module": "@jupyter-widgets/controls",
            "_model_module_version": "1.5.0",
            "_model_name": "HTMLModel",
            "_view_count": null,
            "_view_module": "@jupyter-widgets/controls",
            "_view_module_version": "1.5.0",
            "_view_name": "HTMLView",
            "description": "",
            "description_tooltip": null,
            "layout": "IPY_MODEL_79b0252f152d46279a45d3115de752a3",
            "placeholder": "​",
            "style": "IPY_MODEL_be0845ab78844a2e8d6bbec2dd7a9358",
            "value": "Downloading: 100%"
          }
        },
        "2f0244d74d084db69f45749acac62cfd": {
          "model_module": "@jupyter-widgets/controls",
          "model_name": "FloatProgressModel",
          "model_module_version": "1.5.0",
          "state": {
            "_dom_classes": [],
            "_model_module": "@jupyter-widgets/controls",
            "_model_module_version": "1.5.0",
            "_model_name": "FloatProgressModel",
            "_view_count": null,
            "_view_module": "@jupyter-widgets/controls",
            "_view_module_version": "1.5.0",
            "_view_name": "ProgressView",
            "bar_style": "success",
            "description": "",
            "description_tooltip": null,
            "layout": "IPY_MODEL_024e50156b31460bbd3eb7bdd4dfa30e",
            "max": 1175,
            "min": 0,
            "orientation": "horizontal",
            "style": "IPY_MODEL_eb2bf681805743818b2e78d362d5f444",
            "value": 1175
          }
        },
        "c116399c4fa545dab3b04d1d39a83650": {
          "model_module": "@jupyter-widgets/controls",
          "model_name": "HTMLModel",
          "model_module_version": "1.5.0",
          "state": {
            "_dom_classes": [],
            "_model_module": "@jupyter-widgets/controls",
            "_model_module_version": "1.5.0",
            "_model_name": "HTMLModel",
            "_view_count": null,
            "_view_module": "@jupyter-widgets/controls",
            "_view_module_version": "1.5.0",
            "_view_name": "HTMLView",
            "description": "",
            "description_tooltip": null,
            "layout": "IPY_MODEL_56d404b43cbc4e3ba48434370f720ff4",
            "placeholder": "​",
            "style": "IPY_MODEL_35351bc80f384c0b940da941f519cc42",
            "value": " 1.18k/1.18k [00:00&lt;00:00, 35.0kB/s]"
          }
        },
        "0158556697fa41eabada92e71236b9b1": {
          "model_module": "@jupyter-widgets/base",
          "model_name": "LayoutModel",
          "model_module_version": "1.2.0",
          "state": {
            "_model_module": "@jupyter-widgets/base",
            "_model_module_version": "1.2.0",
            "_model_name": "LayoutModel",
            "_view_count": null,
            "_view_module": "@jupyter-widgets/base",
            "_view_module_version": "1.2.0",
            "_view_name": "LayoutView",
            "align_content": null,
            "align_items": null,
            "align_self": null,
            "border": null,
            "bottom": null,
            "display": null,
            "flex": null,
            "flex_flow": null,
            "grid_area": null,
            "grid_auto_columns": null,
            "grid_auto_flow": null,
            "grid_auto_rows": null,
            "grid_column": null,
            "grid_gap": null,
            "grid_row": null,
            "grid_template_areas": null,
            "grid_template_columns": null,
            "grid_template_rows": null,
            "height": null,
            "justify_content": null,
            "justify_items": null,
            "left": null,
            "margin": null,
            "max_height": null,
            "max_width": null,
            "min_height": null,
            "min_width": null,
            "object_fit": null,
            "object_position": null,
            "order": null,
            "overflow": null,
            "overflow_x": null,
            "overflow_y": null,
            "padding": null,
            "right": null,
            "top": null,
            "visibility": null,
            "width": null
          }
        },
        "79b0252f152d46279a45d3115de752a3": {
          "model_module": "@jupyter-widgets/base",
          "model_name": "LayoutModel",
          "model_module_version": "1.2.0",
          "state": {
            "_model_module": "@jupyter-widgets/base",
            "_model_module_version": "1.2.0",
            "_model_name": "LayoutModel",
            "_view_count": null,
            "_view_module": "@jupyter-widgets/base",
            "_view_module_version": "1.2.0",
            "_view_name": "LayoutView",
            "align_content": null,
            "align_items": null,
            "align_self": null,
            "border": null,
            "bottom": null,
            "display": null,
            "flex": null,
            "flex_flow": null,
            "grid_area": null,
            "grid_auto_columns": null,
            "grid_auto_flow": null,
            "grid_auto_rows": null,
            "grid_column": null,
            "grid_gap": null,
            "grid_row": null,
            "grid_template_areas": null,
            "grid_template_columns": null,
            "grid_template_rows": null,
            "height": null,
            "justify_content": null,
            "justify_items": null,
            "left": null,
            "margin": null,
            "max_height": null,
            "max_width": null,
            "min_height": null,
            "min_width": null,
            "object_fit": null,
            "object_position": null,
            "order": null,
            "overflow": null,
            "overflow_x": null,
            "overflow_y": null,
            "padding": null,
            "right": null,
            "top": null,
            "visibility": null,
            "width": null
          }
        },
        "be0845ab78844a2e8d6bbec2dd7a9358": {
          "model_module": "@jupyter-widgets/controls",
          "model_name": "DescriptionStyleModel",
          "model_module_version": "1.5.0",
          "state": {
            "_model_module": "@jupyter-widgets/controls",
            "_model_module_version": "1.5.0",
            "_model_name": "DescriptionStyleModel",
            "_view_count": null,
            "_view_module": "@jupyter-widgets/base",
            "_view_module_version": "1.2.0",
            "_view_name": "StyleView",
            "description_width": ""
          }
        },
        "024e50156b31460bbd3eb7bdd4dfa30e": {
          "model_module": "@jupyter-widgets/base",
          "model_name": "LayoutModel",
          "model_module_version": "1.2.0",
          "state": {
            "_model_module": "@jupyter-widgets/base",
            "_model_module_version": "1.2.0",
            "_model_name": "LayoutModel",
            "_view_count": null,
            "_view_module": "@jupyter-widgets/base",
            "_view_module_version": "1.2.0",
            "_view_name": "LayoutView",
            "align_content": null,
            "align_items": null,
            "align_self": null,
            "border": null,
            "bottom": null,
            "display": null,
            "flex": null,
            "flex_flow": null,
            "grid_area": null,
            "grid_auto_columns": null,
            "grid_auto_flow": null,
            "grid_auto_rows": null,
            "grid_column": null,
            "grid_gap": null,
            "grid_row": null,
            "grid_template_areas": null,
            "grid_template_columns": null,
            "grid_template_rows": null,
            "height": null,
            "justify_content": null,
            "justify_items": null,
            "left": null,
            "margin": null,
            "max_height": null,
            "max_width": null,
            "min_height": null,
            "min_width": null,
            "object_fit": null,
            "object_position": null,
            "order": null,
            "overflow": null,
            "overflow_x": null,
            "overflow_y": null,
            "padding": null,
            "right": null,
            "top": null,
            "visibility": null,
            "width": null
          }
        },
        "eb2bf681805743818b2e78d362d5f444": {
          "model_module": "@jupyter-widgets/controls",
          "model_name": "ProgressStyleModel",
          "model_module_version": "1.5.0",
          "state": {
            "_model_module": "@jupyter-widgets/controls",
            "_model_module_version": "1.5.0",
            "_model_name": "ProgressStyleModel",
            "_view_count": null,
            "_view_module": "@jupyter-widgets/base",
            "_view_module_version": "1.2.0",
            "_view_name": "StyleView",
            "bar_color": null,
            "description_width": ""
          }
        },
        "56d404b43cbc4e3ba48434370f720ff4": {
          "model_module": "@jupyter-widgets/base",
          "model_name": "LayoutModel",
          "model_module_version": "1.2.0",
          "state": {
            "_model_module": "@jupyter-widgets/base",
            "_model_module_version": "1.2.0",
            "_model_name": "LayoutModel",
            "_view_count": null,
            "_view_module": "@jupyter-widgets/base",
            "_view_module_version": "1.2.0",
            "_view_name": "LayoutView",
            "align_content": null,
            "align_items": null,
            "align_self": null,
            "border": null,
            "bottom": null,
            "display": null,
            "flex": null,
            "flex_flow": null,
            "grid_area": null,
            "grid_auto_columns": null,
            "grid_auto_flow": null,
            "grid_auto_rows": null,
            "grid_column": null,
            "grid_gap": null,
            "grid_row": null,
            "grid_template_areas": null,
            "grid_template_columns": null,
            "grid_template_rows": null,
            "height": null,
            "justify_content": null,
            "justify_items": null,
            "left": null,
            "margin": null,
            "max_height": null,
            "max_width": null,
            "min_height": null,
            "min_width": null,
            "object_fit": null,
            "object_position": null,
            "order": null,
            "overflow": null,
            "overflow_x": null,
            "overflow_y": null,
            "padding": null,
            "right": null,
            "top": null,
            "visibility": null,
            "width": null
          }
        },
        "35351bc80f384c0b940da941f519cc42": {
          "model_module": "@jupyter-widgets/controls",
          "model_name": "DescriptionStyleModel",
          "model_module_version": "1.5.0",
          "state": {
            "_model_module": "@jupyter-widgets/controls",
            "_model_module_version": "1.5.0",
            "_model_name": "DescriptionStyleModel",
            "_view_count": null,
            "_view_module": "@jupyter-widgets/base",
            "_view_module_version": "1.2.0",
            "_view_name": "StyleView",
            "description_width": ""
          }
        },
        "8e4a08214e2443e7b6ef2522275d03e2": {
          "model_module": "@jupyter-widgets/controls",
          "model_name": "HBoxModel",
          "model_module_version": "1.5.0",
          "state": {
            "_dom_classes": [],
            "_model_module": "@jupyter-widgets/controls",
            "_model_module_version": "1.5.0",
            "_model_name": "HBoxModel",
            "_view_count": null,
            "_view_module": "@jupyter-widgets/controls",
            "_view_module_version": "1.5.0",
            "_view_name": "HBoxView",
            "box_style": "",
            "children": [
              "IPY_MODEL_acaab920a0c54d4ab846d23a2dca5cc8",
              "IPY_MODEL_287072d34c294f36be5375cc5996ee5e",
              "IPY_MODEL_c3ab5a7420e94d979461b42838669bb4"
            ],
            "layout": "IPY_MODEL_08f7591b6848492e9c2dea578d7d4aa6"
          }
        },
        "acaab920a0c54d4ab846d23a2dca5cc8": {
          "model_module": "@jupyter-widgets/controls",
          "model_name": "HTMLModel",
          "model_module_version": "1.5.0",
          "state": {
            "_dom_classes": [],
            "_model_module": "@jupyter-widgets/controls",
            "_model_module_version": "1.5.0",
            "_model_name": "HTMLModel",
            "_view_count": null,
            "_view_module": "@jupyter-widgets/controls",
            "_view_module_version": "1.5.0",
            "_view_name": "HTMLView",
            "description": "",
            "description_tooltip": null,
            "layout": "IPY_MODEL_a859ddf86bed49e0abb884596eaf3f54",
            "placeholder": "​",
            "style": "IPY_MODEL_1119031184ee44e999abe3551af82801",
            "value": "Downloading: 100%"
          }
        },
        "287072d34c294f36be5375cc5996ee5e": {
          "model_module": "@jupyter-widgets/controls",
          "model_name": "FloatProgressModel",
          "model_module_version": "1.5.0",
          "state": {
            "_dom_classes": [],
            "_model_module": "@jupyter-widgets/controls",
            "_model_module_version": "1.5.0",
            "_model_name": "FloatProgressModel",
            "_view_count": null,
            "_view_module": "@jupyter-widgets/controls",
            "_view_module_version": "1.5.0",
            "_view_name": "ProgressView",
            "bar_style": "success",
            "description": "",
            "description_tooltip": null,
            "layout": "IPY_MODEL_cc399edc550141009dd8cfb3230c15d7",
            "max": 1331,
            "min": 0,
            "orientation": "horizontal",
            "style": "IPY_MODEL_6a1ac86fe7f941eb87ebc51a0d9bda73",
            "value": 1331
          }
        },
        "c3ab5a7420e94d979461b42838669bb4": {
          "model_module": "@jupyter-widgets/controls",
          "model_name": "HTMLModel",
          "model_module_version": "1.5.0",
          "state": {
            "_dom_classes": [],
            "_model_module": "@jupyter-widgets/controls",
            "_model_module_version": "1.5.0",
            "_model_name": "HTMLModel",
            "_view_count": null,
            "_view_module": "@jupyter-widgets/controls",
            "_view_module_version": "1.5.0",
            "_view_name": "HTMLView",
            "description": "",
            "description_tooltip": null,
            "layout": "IPY_MODEL_0627e0657f3e457e949acfaa938b6260",
            "placeholder": "​",
            "style": "IPY_MODEL_f03fb9436db74ff69767dfea93f47855",
            "value": " 1.33k/1.33k [00:00&lt;00:00, 42.3kB/s]"
          }
        },
        "08f7591b6848492e9c2dea578d7d4aa6": {
          "model_module": "@jupyter-widgets/base",
          "model_name": "LayoutModel",
          "model_module_version": "1.2.0",
          "state": {
            "_model_module": "@jupyter-widgets/base",
            "_model_module_version": "1.2.0",
            "_model_name": "LayoutModel",
            "_view_count": null,
            "_view_module": "@jupyter-widgets/base",
            "_view_module_version": "1.2.0",
            "_view_name": "LayoutView",
            "align_content": null,
            "align_items": null,
            "align_self": null,
            "border": null,
            "bottom": null,
            "display": null,
            "flex": null,
            "flex_flow": null,
            "grid_area": null,
            "grid_auto_columns": null,
            "grid_auto_flow": null,
            "grid_auto_rows": null,
            "grid_column": null,
            "grid_gap": null,
            "grid_row": null,
            "grid_template_areas": null,
            "grid_template_columns": null,
            "grid_template_rows": null,
            "height": null,
            "justify_content": null,
            "justify_items": null,
            "left": null,
            "margin": null,
            "max_height": null,
            "max_width": null,
            "min_height": null,
            "min_width": null,
            "object_fit": null,
            "object_position": null,
            "order": null,
            "overflow": null,
            "overflow_x": null,
            "overflow_y": null,
            "padding": null,
            "right": null,
            "top": null,
            "visibility": null,
            "width": null
          }
        },
        "a859ddf86bed49e0abb884596eaf3f54": {
          "model_module": "@jupyter-widgets/base",
          "model_name": "LayoutModel",
          "model_module_version": "1.2.0",
          "state": {
            "_model_module": "@jupyter-widgets/base",
            "_model_module_version": "1.2.0",
            "_model_name": "LayoutModel",
            "_view_count": null,
            "_view_module": "@jupyter-widgets/base",
            "_view_module_version": "1.2.0",
            "_view_name": "LayoutView",
            "align_content": null,
            "align_items": null,
            "align_self": null,
            "border": null,
            "bottom": null,
            "display": null,
            "flex": null,
            "flex_flow": null,
            "grid_area": null,
            "grid_auto_columns": null,
            "grid_auto_flow": null,
            "grid_auto_rows": null,
            "grid_column": null,
            "grid_gap": null,
            "grid_row": null,
            "grid_template_areas": null,
            "grid_template_columns": null,
            "grid_template_rows": null,
            "height": null,
            "justify_content": null,
            "justify_items": null,
            "left": null,
            "margin": null,
            "max_height": null,
            "max_width": null,
            "min_height": null,
            "min_width": null,
            "object_fit": null,
            "object_position": null,
            "order": null,
            "overflow": null,
            "overflow_x": null,
            "overflow_y": null,
            "padding": null,
            "right": null,
            "top": null,
            "visibility": null,
            "width": null
          }
        },
        "1119031184ee44e999abe3551af82801": {
          "model_module": "@jupyter-widgets/controls",
          "model_name": "DescriptionStyleModel",
          "model_module_version": "1.5.0",
          "state": {
            "_model_module": "@jupyter-widgets/controls",
            "_model_module_version": "1.5.0",
            "_model_name": "DescriptionStyleModel",
            "_view_count": null,
            "_view_module": "@jupyter-widgets/base",
            "_view_module_version": "1.2.0",
            "_view_name": "StyleView",
            "description_width": ""
          }
        },
        "cc399edc550141009dd8cfb3230c15d7": {
          "model_module": "@jupyter-widgets/base",
          "model_name": "LayoutModel",
          "model_module_version": "1.2.0",
          "state": {
            "_model_module": "@jupyter-widgets/base",
            "_model_module_version": "1.2.0",
            "_model_name": "LayoutModel",
            "_view_count": null,
            "_view_module": "@jupyter-widgets/base",
            "_view_module_version": "1.2.0",
            "_view_name": "LayoutView",
            "align_content": null,
            "align_items": null,
            "align_self": null,
            "border": null,
            "bottom": null,
            "display": null,
            "flex": null,
            "flex_flow": null,
            "grid_area": null,
            "grid_auto_columns": null,
            "grid_auto_flow": null,
            "grid_auto_rows": null,
            "grid_column": null,
            "grid_gap": null,
            "grid_row": null,
            "grid_template_areas": null,
            "grid_template_columns": null,
            "grid_template_rows": null,
            "height": null,
            "justify_content": null,
            "justify_items": null,
            "left": null,
            "margin": null,
            "max_height": null,
            "max_width": null,
            "min_height": null,
            "min_width": null,
            "object_fit": null,
            "object_position": null,
            "order": null,
            "overflow": null,
            "overflow_x": null,
            "overflow_y": null,
            "padding": null,
            "right": null,
            "top": null,
            "visibility": null,
            "width": null
          }
        },
        "6a1ac86fe7f941eb87ebc51a0d9bda73": {
          "model_module": "@jupyter-widgets/controls",
          "model_name": "ProgressStyleModel",
          "model_module_version": "1.5.0",
          "state": {
            "_model_module": "@jupyter-widgets/controls",
            "_model_module_version": "1.5.0",
            "_model_name": "ProgressStyleModel",
            "_view_count": null,
            "_view_module": "@jupyter-widgets/base",
            "_view_module_version": "1.2.0",
            "_view_name": "StyleView",
            "bar_color": null,
            "description_width": ""
          }
        },
        "0627e0657f3e457e949acfaa938b6260": {
          "model_module": "@jupyter-widgets/base",
          "model_name": "LayoutModel",
          "model_module_version": "1.2.0",
          "state": {
            "_model_module": "@jupyter-widgets/base",
            "_model_module_version": "1.2.0",
            "_model_name": "LayoutModel",
            "_view_count": null,
            "_view_module": "@jupyter-widgets/base",
            "_view_module_version": "1.2.0",
            "_view_name": "LayoutView",
            "align_content": null,
            "align_items": null,
            "align_self": null,
            "border": null,
            "bottom": null,
            "display": null,
            "flex": null,
            "flex_flow": null,
            "grid_area": null,
            "grid_auto_columns": null,
            "grid_auto_flow": null,
            "grid_auto_rows": null,
            "grid_column": null,
            "grid_gap": null,
            "grid_row": null,
            "grid_template_areas": null,
            "grid_template_columns": null,
            "grid_template_rows": null,
            "height": null,
            "justify_content": null,
            "justify_items": null,
            "left": null,
            "margin": null,
            "max_height": null,
            "max_width": null,
            "min_height": null,
            "min_width": null,
            "object_fit": null,
            "object_position": null,
            "order": null,
            "overflow": null,
            "overflow_x": null,
            "overflow_y": null,
            "padding": null,
            "right": null,
            "top": null,
            "visibility": null,
            "width": null
          }
        },
        "f03fb9436db74ff69767dfea93f47855": {
          "model_module": "@jupyter-widgets/controls",
          "model_name": "DescriptionStyleModel",
          "model_module_version": "1.5.0",
          "state": {
            "_model_module": "@jupyter-widgets/controls",
            "_model_module_version": "1.5.0",
            "_model_name": "DescriptionStyleModel",
            "_view_count": null,
            "_view_module": "@jupyter-widgets/base",
            "_view_module_version": "1.2.0",
            "_view_name": "StyleView",
            "description_width": ""
          }
        },
        "d211f4fb570541dabffed3ab2ae522ff": {
          "model_module": "@jupyter-widgets/controls",
          "model_name": "HBoxModel",
          "model_module_version": "1.5.0",
          "state": {
            "_dom_classes": [],
            "_model_module": "@jupyter-widgets/controls",
            "_model_module_version": "1.5.0",
            "_model_name": "HBoxModel",
            "_view_count": null,
            "_view_module": "@jupyter-widgets/controls",
            "_view_module_version": "1.5.0",
            "_view_name": "HBoxView",
            "box_style": "",
            "children": [
              "IPY_MODEL_7a28547e1480469b95e4ff360e94c033",
              "IPY_MODEL_12d776c03f104dc88d0aa8dcb2ad2147",
              "IPY_MODEL_d0e8fa32051144909d10f6c380f6cdd8"
            ],
            "layout": "IPY_MODEL_7706848576fa4146a2389092535454cb"
          }
        },
        "7a28547e1480469b95e4ff360e94c033": {
          "model_module": "@jupyter-widgets/controls",
          "model_name": "HTMLModel",
          "model_module_version": "1.5.0",
          "state": {
            "_dom_classes": [],
            "_model_module": "@jupyter-widgets/controls",
            "_model_module_version": "1.5.0",
            "_model_name": "HTMLModel",
            "_view_count": null,
            "_view_module": "@jupyter-widgets/controls",
            "_view_module_version": "1.5.0",
            "_view_name": "HTMLView",
            "description": "",
            "description_tooltip": null,
            "layout": "IPY_MODEL_05857dedd41d4d6f901deac5db33ce21",
            "placeholder": "​",
            "style": "IPY_MODEL_f0ccc1797533494bb315d4eb07c20391",
            "value": "Downloading: 100%"
          }
        },
        "12d776c03f104dc88d0aa8dcb2ad2147": {
          "model_module": "@jupyter-widgets/controls",
          "model_name": "FloatProgressModel",
          "model_module_version": "1.5.0",
          "state": {
            "_dom_classes": [],
            "_model_module": "@jupyter-widgets/controls",
            "_model_module_version": "1.5.0",
            "_model_name": "FloatProgressModel",
            "_view_count": null,
            "_view_module": "@jupyter-widgets/controls",
            "_view_module_version": "1.5.0",
            "_view_name": "ProgressView",
            "bar_style": "success",
            "description": "",
            "description_tooltip": null,
            "layout": "IPY_MODEL_95bc0a4aaea242219bafc564577831a3",
            "max": 685,
            "min": 0,
            "orientation": "horizontal",
            "style": "IPY_MODEL_d4a25af4ddb04e128ea330245f5ff055",
            "value": 685
          }
        },
        "d0e8fa32051144909d10f6c380f6cdd8": {
          "model_module": "@jupyter-widgets/controls",
          "model_name": "HTMLModel",
          "model_module_version": "1.5.0",
          "state": {
            "_dom_classes": [],
            "_model_module": "@jupyter-widgets/controls",
            "_model_module_version": "1.5.0",
            "_model_name": "HTMLModel",
            "_view_count": null,
            "_view_module": "@jupyter-widgets/controls",
            "_view_module_version": "1.5.0",
            "_view_name": "HTMLView",
            "description": "",
            "description_tooltip": null,
            "layout": "IPY_MODEL_cf1458354a9f438682dadee5ee3b0e3c",
            "placeholder": "​",
            "style": "IPY_MODEL_5593602c1d344b63b5307cca1be909d1",
            "value": " 685/685 [00:00&lt;00:00, 24.5kB/s]"
          }
        },
        "7706848576fa4146a2389092535454cb": {
          "model_module": "@jupyter-widgets/base",
          "model_name": "LayoutModel",
          "model_module_version": "1.2.0",
          "state": {
            "_model_module": "@jupyter-widgets/base",
            "_model_module_version": "1.2.0",
            "_model_name": "LayoutModel",
            "_view_count": null,
            "_view_module": "@jupyter-widgets/base",
            "_view_module_version": "1.2.0",
            "_view_name": "LayoutView",
            "align_content": null,
            "align_items": null,
            "align_self": null,
            "border": null,
            "bottom": null,
            "display": null,
            "flex": null,
            "flex_flow": null,
            "grid_area": null,
            "grid_auto_columns": null,
            "grid_auto_flow": null,
            "grid_auto_rows": null,
            "grid_column": null,
            "grid_gap": null,
            "grid_row": null,
            "grid_template_areas": null,
            "grid_template_columns": null,
            "grid_template_rows": null,
            "height": null,
            "justify_content": null,
            "justify_items": null,
            "left": null,
            "margin": null,
            "max_height": null,
            "max_width": null,
            "min_height": null,
            "min_width": null,
            "object_fit": null,
            "object_position": null,
            "order": null,
            "overflow": null,
            "overflow_x": null,
            "overflow_y": null,
            "padding": null,
            "right": null,
            "top": null,
            "visibility": null,
            "width": null
          }
        },
        "05857dedd41d4d6f901deac5db33ce21": {
          "model_module": "@jupyter-widgets/base",
          "model_name": "LayoutModel",
          "model_module_version": "1.2.0",
          "state": {
            "_model_module": "@jupyter-widgets/base",
            "_model_module_version": "1.2.0",
            "_model_name": "LayoutModel",
            "_view_count": null,
            "_view_module": "@jupyter-widgets/base",
            "_view_module_version": "1.2.0",
            "_view_name": "LayoutView",
            "align_content": null,
            "align_items": null,
            "align_self": null,
            "border": null,
            "bottom": null,
            "display": null,
            "flex": null,
            "flex_flow": null,
            "grid_area": null,
            "grid_auto_columns": null,
            "grid_auto_flow": null,
            "grid_auto_rows": null,
            "grid_column": null,
            "grid_gap": null,
            "grid_row": null,
            "grid_template_areas": null,
            "grid_template_columns": null,
            "grid_template_rows": null,
            "height": null,
            "justify_content": null,
            "justify_items": null,
            "left": null,
            "margin": null,
            "max_height": null,
            "max_width": null,
            "min_height": null,
            "min_width": null,
            "object_fit": null,
            "object_position": null,
            "order": null,
            "overflow": null,
            "overflow_x": null,
            "overflow_y": null,
            "padding": null,
            "right": null,
            "top": null,
            "visibility": null,
            "width": null
          }
        },
        "f0ccc1797533494bb315d4eb07c20391": {
          "model_module": "@jupyter-widgets/controls",
          "model_name": "DescriptionStyleModel",
          "model_module_version": "1.5.0",
          "state": {
            "_model_module": "@jupyter-widgets/controls",
            "_model_module_version": "1.5.0",
            "_model_name": "DescriptionStyleModel",
            "_view_count": null,
            "_view_module": "@jupyter-widgets/base",
            "_view_module_version": "1.2.0",
            "_view_name": "StyleView",
            "description_width": ""
          }
        },
        "95bc0a4aaea242219bafc564577831a3": {
          "model_module": "@jupyter-widgets/base",
          "model_name": "LayoutModel",
          "model_module_version": "1.2.0",
          "state": {
            "_model_module": "@jupyter-widgets/base",
            "_model_module_version": "1.2.0",
            "_model_name": "LayoutModel",
            "_view_count": null,
            "_view_module": "@jupyter-widgets/base",
            "_view_module_version": "1.2.0",
            "_view_name": "LayoutView",
            "align_content": null,
            "align_items": null,
            "align_self": null,
            "border": null,
            "bottom": null,
            "display": null,
            "flex": null,
            "flex_flow": null,
            "grid_area": null,
            "grid_auto_columns": null,
            "grid_auto_flow": null,
            "grid_auto_rows": null,
            "grid_column": null,
            "grid_gap": null,
            "grid_row": null,
            "grid_template_areas": null,
            "grid_template_columns": null,
            "grid_template_rows": null,
            "height": null,
            "justify_content": null,
            "justify_items": null,
            "left": null,
            "margin": null,
            "max_height": null,
            "max_width": null,
            "min_height": null,
            "min_width": null,
            "object_fit": null,
            "object_position": null,
            "order": null,
            "overflow": null,
            "overflow_x": null,
            "overflow_y": null,
            "padding": null,
            "right": null,
            "top": null,
            "visibility": null,
            "width": null
          }
        },
        "d4a25af4ddb04e128ea330245f5ff055": {
          "model_module": "@jupyter-widgets/controls",
          "model_name": "ProgressStyleModel",
          "model_module_version": "1.5.0",
          "state": {
            "_model_module": "@jupyter-widgets/controls",
            "_model_module_version": "1.5.0",
            "_model_name": "ProgressStyleModel",
            "_view_count": null,
            "_view_module": "@jupyter-widgets/base",
            "_view_module_version": "1.2.0",
            "_view_name": "StyleView",
            "bar_color": null,
            "description_width": ""
          }
        },
        "cf1458354a9f438682dadee5ee3b0e3c": {
          "model_module": "@jupyter-widgets/base",
          "model_name": "LayoutModel",
          "model_module_version": "1.2.0",
          "state": {
            "_model_module": "@jupyter-widgets/base",
            "_model_module_version": "1.2.0",
            "_model_name": "LayoutModel",
            "_view_count": null,
            "_view_module": "@jupyter-widgets/base",
            "_view_module_version": "1.2.0",
            "_view_name": "LayoutView",
            "align_content": null,
            "align_items": null,
            "align_self": null,
            "border": null,
            "bottom": null,
            "display": null,
            "flex": null,
            "flex_flow": null,
            "grid_area": null,
            "grid_auto_columns": null,
            "grid_auto_flow": null,
            "grid_auto_rows": null,
            "grid_column": null,
            "grid_gap": null,
            "grid_row": null,
            "grid_template_areas": null,
            "grid_template_columns": null,
            "grid_template_rows": null,
            "height": null,
            "justify_content": null,
            "justify_items": null,
            "left": null,
            "margin": null,
            "max_height": null,
            "max_width": null,
            "min_height": null,
            "min_width": null,
            "object_fit": null,
            "object_position": null,
            "order": null,
            "overflow": null,
            "overflow_x": null,
            "overflow_y": null,
            "padding": null,
            "right": null,
            "top": null,
            "visibility": null,
            "width": null
          }
        },
        "5593602c1d344b63b5307cca1be909d1": {
          "model_module": "@jupyter-widgets/controls",
          "model_name": "DescriptionStyleModel",
          "model_module_version": "1.5.0",
          "state": {
            "_model_module": "@jupyter-widgets/controls",
            "_model_module_version": "1.5.0",
            "_model_name": "DescriptionStyleModel",
            "_view_count": null,
            "_view_module": "@jupyter-widgets/base",
            "_view_module_version": "1.2.0",
            "_view_name": "StyleView",
            "description_width": ""
          }
        },
        "51274999131042c3a23b3c830724cc4d": {
          "model_module": "@jupyter-widgets/controls",
          "model_name": "HBoxModel",
          "model_module_version": "1.5.0",
          "state": {
            "_dom_classes": [],
            "_model_module": "@jupyter-widgets/controls",
            "_model_module_version": "1.5.0",
            "_model_name": "HBoxModel",
            "_view_count": null,
            "_view_module": "@jupyter-widgets/controls",
            "_view_module_version": "1.5.0",
            "_view_name": "HBoxView",
            "box_style": "",
            "children": [
              "IPY_MODEL_70fff81298444bfb9c89d0d0c952e622",
              "IPY_MODEL_a4d00562c0c34d13b30c4aa4cf9fa1f0",
              "IPY_MODEL_4516e5466b994905a056db9b280c09f9"
            ],
            "layout": "IPY_MODEL_ebcfaf9515f347fbb3c92412cb527b52"
          }
        },
        "70fff81298444bfb9c89d0d0c952e622": {
          "model_module": "@jupyter-widgets/controls",
          "model_name": "HTMLModel",
          "model_module_version": "1.5.0",
          "state": {
            "_dom_classes": [],
            "_model_module": "@jupyter-widgets/controls",
            "_model_module_version": "1.5.0",
            "_model_name": "HTMLModel",
            "_view_count": null,
            "_view_module": "@jupyter-widgets/controls",
            "_view_module_version": "1.5.0",
            "_view_name": "HTMLView",
            "description": "",
            "description_tooltip": null,
            "layout": "IPY_MODEL_0eb9f68f9739444490cc01f2e020a450",
            "placeholder": "​",
            "style": "IPY_MODEL_a3ff9e29eea94c8bae9ca194aaf559e6",
            "value": "Downloading: 100%"
          }
        },
        "a4d00562c0c34d13b30c4aa4cf9fa1f0": {
          "model_module": "@jupyter-widgets/controls",
          "model_name": "FloatProgressModel",
          "model_module_version": "1.5.0",
          "state": {
            "_dom_classes": [],
            "_model_module": "@jupyter-widgets/controls",
            "_model_module_version": "1.5.0",
            "_model_name": "FloatProgressModel",
            "_view_count": null,
            "_view_module": "@jupyter-widgets/controls",
            "_view_module_version": "1.5.0",
            "_view_name": "ProgressView",
            "bar_style": "success",
            "description": "",
            "description_tooltip": null,
            "layout": "IPY_MODEL_11f59bd134854dcebbceafe42e9e6046",
            "max": 747,
            "min": 0,
            "orientation": "horizontal",
            "style": "IPY_MODEL_b426d8a9708d43148837fa8df0123ce6",
            "value": 747
          }
        },
        "4516e5466b994905a056db9b280c09f9": {
          "model_module": "@jupyter-widgets/controls",
          "model_name": "HTMLModel",
          "model_module_version": "1.5.0",
          "state": {
            "_dom_classes": [],
            "_model_module": "@jupyter-widgets/controls",
            "_model_module_version": "1.5.0",
            "_model_name": "HTMLModel",
            "_view_count": null,
            "_view_module": "@jupyter-widgets/controls",
            "_view_module_version": "1.5.0",
            "_view_name": "HTMLView",
            "description": "",
            "description_tooltip": null,
            "layout": "IPY_MODEL_78f3c7636deb435c923284fe037e2739",
            "placeholder": "​",
            "style": "IPY_MODEL_9d2794cf6d64434ca6b7ac0b3438b94c",
            "value": " 747/747 [00:00&lt;00:00, 23.5kB/s]"
          }
        },
        "ebcfaf9515f347fbb3c92412cb527b52": {
          "model_module": "@jupyter-widgets/base",
          "model_name": "LayoutModel",
          "model_module_version": "1.2.0",
          "state": {
            "_model_module": "@jupyter-widgets/base",
            "_model_module_version": "1.2.0",
            "_model_name": "LayoutModel",
            "_view_count": null,
            "_view_module": "@jupyter-widgets/base",
            "_view_module_version": "1.2.0",
            "_view_name": "LayoutView",
            "align_content": null,
            "align_items": null,
            "align_self": null,
            "border": null,
            "bottom": null,
            "display": null,
            "flex": null,
            "flex_flow": null,
            "grid_area": null,
            "grid_auto_columns": null,
            "grid_auto_flow": null,
            "grid_auto_rows": null,
            "grid_column": null,
            "grid_gap": null,
            "grid_row": null,
            "grid_template_areas": null,
            "grid_template_columns": null,
            "grid_template_rows": null,
            "height": null,
            "justify_content": null,
            "justify_items": null,
            "left": null,
            "margin": null,
            "max_height": null,
            "max_width": null,
            "min_height": null,
            "min_width": null,
            "object_fit": null,
            "object_position": null,
            "order": null,
            "overflow": null,
            "overflow_x": null,
            "overflow_y": null,
            "padding": null,
            "right": null,
            "top": null,
            "visibility": null,
            "width": null
          }
        },
        "0eb9f68f9739444490cc01f2e020a450": {
          "model_module": "@jupyter-widgets/base",
          "model_name": "LayoutModel",
          "model_module_version": "1.2.0",
          "state": {
            "_model_module": "@jupyter-widgets/base",
            "_model_module_version": "1.2.0",
            "_model_name": "LayoutModel",
            "_view_count": null,
            "_view_module": "@jupyter-widgets/base",
            "_view_module_version": "1.2.0",
            "_view_name": "LayoutView",
            "align_content": null,
            "align_items": null,
            "align_self": null,
            "border": null,
            "bottom": null,
            "display": null,
            "flex": null,
            "flex_flow": null,
            "grid_area": null,
            "grid_auto_columns": null,
            "grid_auto_flow": null,
            "grid_auto_rows": null,
            "grid_column": null,
            "grid_gap": null,
            "grid_row": null,
            "grid_template_areas": null,
            "grid_template_columns": null,
            "grid_template_rows": null,
            "height": null,
            "justify_content": null,
            "justify_items": null,
            "left": null,
            "margin": null,
            "max_height": null,
            "max_width": null,
            "min_height": null,
            "min_width": null,
            "object_fit": null,
            "object_position": null,
            "order": null,
            "overflow": null,
            "overflow_x": null,
            "overflow_y": null,
            "padding": null,
            "right": null,
            "top": null,
            "visibility": null,
            "width": null
          }
        },
        "a3ff9e29eea94c8bae9ca194aaf559e6": {
          "model_module": "@jupyter-widgets/controls",
          "model_name": "DescriptionStyleModel",
          "model_module_version": "1.5.0",
          "state": {
            "_model_module": "@jupyter-widgets/controls",
            "_model_module_version": "1.5.0",
            "_model_name": "DescriptionStyleModel",
            "_view_count": null,
            "_view_module": "@jupyter-widgets/base",
            "_view_module_version": "1.2.0",
            "_view_name": "StyleView",
            "description_width": ""
          }
        },
        "11f59bd134854dcebbceafe42e9e6046": {
          "model_module": "@jupyter-widgets/base",
          "model_name": "LayoutModel",
          "model_module_version": "1.2.0",
          "state": {
            "_model_module": "@jupyter-widgets/base",
            "_model_module_version": "1.2.0",
            "_model_name": "LayoutModel",
            "_view_count": null,
            "_view_module": "@jupyter-widgets/base",
            "_view_module_version": "1.2.0",
            "_view_name": "LayoutView",
            "align_content": null,
            "align_items": null,
            "align_self": null,
            "border": null,
            "bottom": null,
            "display": null,
            "flex": null,
            "flex_flow": null,
            "grid_area": null,
            "grid_auto_columns": null,
            "grid_auto_flow": null,
            "grid_auto_rows": null,
            "grid_column": null,
            "grid_gap": null,
            "grid_row": null,
            "grid_template_areas": null,
            "grid_template_columns": null,
            "grid_template_rows": null,
            "height": null,
            "justify_content": null,
            "justify_items": null,
            "left": null,
            "margin": null,
            "max_height": null,
            "max_width": null,
            "min_height": null,
            "min_width": null,
            "object_fit": null,
            "object_position": null,
            "order": null,
            "overflow": null,
            "overflow_x": null,
            "overflow_y": null,
            "padding": null,
            "right": null,
            "top": null,
            "visibility": null,
            "width": null
          }
        },
        "b426d8a9708d43148837fa8df0123ce6": {
          "model_module": "@jupyter-widgets/controls",
          "model_name": "ProgressStyleModel",
          "model_module_version": "1.5.0",
          "state": {
            "_model_module": "@jupyter-widgets/controls",
            "_model_module_version": "1.5.0",
            "_model_name": "ProgressStyleModel",
            "_view_count": null,
            "_view_module": "@jupyter-widgets/base",
            "_view_module_version": "1.2.0",
            "_view_name": "StyleView",
            "bar_color": null,
            "description_width": ""
          }
        },
        "78f3c7636deb435c923284fe037e2739": {
          "model_module": "@jupyter-widgets/base",
          "model_name": "LayoutModel",
          "model_module_version": "1.2.0",
          "state": {
            "_model_module": "@jupyter-widgets/base",
            "_model_module_version": "1.2.0",
            "_model_name": "LayoutModel",
            "_view_count": null,
            "_view_module": "@jupyter-widgets/base",
            "_view_module_version": "1.2.0",
            "_view_name": "LayoutView",
            "align_content": null,
            "align_items": null,
            "align_self": null,
            "border": null,
            "bottom": null,
            "display": null,
            "flex": null,
            "flex_flow": null,
            "grid_area": null,
            "grid_auto_columns": null,
            "grid_auto_flow": null,
            "grid_auto_rows": null,
            "grid_column": null,
            "grid_gap": null,
            "grid_row": null,
            "grid_template_areas": null,
            "grid_template_columns": null,
            "grid_template_rows": null,
            "height": null,
            "justify_content": null,
            "justify_items": null,
            "left": null,
            "margin": null,
            "max_height": null,
            "max_width": null,
            "min_height": null,
            "min_width": null,
            "object_fit": null,
            "object_position": null,
            "order": null,
            "overflow": null,
            "overflow_x": null,
            "overflow_y": null,
            "padding": null,
            "right": null,
            "top": null,
            "visibility": null,
            "width": null
          }
        },
        "9d2794cf6d64434ca6b7ac0b3438b94c": {
          "model_module": "@jupyter-widgets/controls",
          "model_name": "DescriptionStyleModel",
          "model_module_version": "1.5.0",
          "state": {
            "_model_module": "@jupyter-widgets/controls",
            "_model_module_version": "1.5.0",
            "_model_name": "DescriptionStyleModel",
            "_view_count": null,
            "_view_module": "@jupyter-widgets/base",
            "_view_module_version": "1.2.0",
            "_view_name": "StyleView",
            "description_width": ""
          }
        },
        "e18d9631432f4fce9477488e0d6a7124": {
          "model_module": "@jupyter-widgets/controls",
          "model_name": "HBoxModel",
          "model_module_version": "1.5.0",
          "state": {
            "_dom_classes": [],
            "_model_module": "@jupyter-widgets/controls",
            "_model_module_version": "1.5.0",
            "_model_name": "HBoxModel",
            "_view_count": null,
            "_view_module": "@jupyter-widgets/controls",
            "_view_module_version": "1.5.0",
            "_view_name": "HBoxView",
            "box_style": "",
            "children": [
              "IPY_MODEL_40a066eb619e468e9dbaf3fbfcedc4c2",
              "IPY_MODEL_e37882912d2543da94de183ce2f27a04",
              "IPY_MODEL_91c1d1eca7824d99b9dbf911bd9e7298"
            ],
            "layout": "IPY_MODEL_1986522157a945dba4bb330273377c4e"
          }
        },
        "40a066eb619e468e9dbaf3fbfcedc4c2": {
          "model_module": "@jupyter-widgets/controls",
          "model_name": "HTMLModel",
          "model_module_version": "1.5.0",
          "state": {
            "_dom_classes": [],
            "_model_module": "@jupyter-widgets/controls",
            "_model_module_version": "1.5.0",
            "_model_name": "HTMLModel",
            "_view_count": null,
            "_view_module": "@jupyter-widgets/controls",
            "_view_module_version": "1.5.0",
            "_view_name": "HTMLView",
            "description": "",
            "description_tooltip": null,
            "layout": "IPY_MODEL_6d0921423fef4c19bfb9130aa79297e2",
            "placeholder": "​",
            "style": "IPY_MODEL_83003a92aed74454ba637ef74a40aea4",
            "value": "Downloading: 100%"
          }
        },
        "e37882912d2543da94de183ce2f27a04": {
          "model_module": "@jupyter-widgets/controls",
          "model_name": "FloatProgressModel",
          "model_module_version": "1.5.0",
          "state": {
            "_dom_classes": [],
            "_model_module": "@jupyter-widgets/controls",
            "_model_module_version": "1.5.0",
            "_model_name": "FloatProgressModel",
            "_view_count": null,
            "_view_module": "@jupyter-widgets/controls",
            "_view_module_version": "1.5.0",
            "_view_name": "ProgressView",
            "bar_style": "success",
            "description": "",
            "description_tooltip": null,
            "layout": "IPY_MODEL_01ed307366664e3abc3821f3ce2b76b3",
            "max": 9440231,
            "min": 0,
            "orientation": "horizontal",
            "style": "IPY_MODEL_0102ecacfe8a4787be66239c39fe9766",
            "value": 9440231
          }
        },
        "91c1d1eca7824d99b9dbf911bd9e7298": {
          "model_module": "@jupyter-widgets/controls",
          "model_name": "HTMLModel",
          "model_module_version": "1.5.0",
          "state": {
            "_dom_classes": [],
            "_model_module": "@jupyter-widgets/controls",
            "_model_module_version": "1.5.0",
            "_model_name": "HTMLModel",
            "_view_count": null,
            "_view_module": "@jupyter-widgets/controls",
            "_view_module_version": "1.5.0",
            "_view_name": "HTMLView",
            "description": "",
            "description_tooltip": null,
            "layout": "IPY_MODEL_efaf44a6f7304b53844336676c48a66a",
            "placeholder": "​",
            "style": "IPY_MODEL_f403319976f64614a2e2e25cc7d783a7",
            "value": " 9.44M/9.44M [00:02&lt;00:00, 7.22MB/s]"
          }
        },
        "1986522157a945dba4bb330273377c4e": {
          "model_module": "@jupyter-widgets/base",
          "model_name": "LayoutModel",
          "model_module_version": "1.2.0",
          "state": {
            "_model_module": "@jupyter-widgets/base",
            "_model_module_version": "1.2.0",
            "_model_name": "LayoutModel",
            "_view_count": null,
            "_view_module": "@jupyter-widgets/base",
            "_view_module_version": "1.2.0",
            "_view_name": "LayoutView",
            "align_content": null,
            "align_items": null,
            "align_self": null,
            "border": null,
            "bottom": null,
            "display": null,
            "flex": null,
            "flex_flow": null,
            "grid_area": null,
            "grid_auto_columns": null,
            "grid_auto_flow": null,
            "grid_auto_rows": null,
            "grid_column": null,
            "grid_gap": null,
            "grid_row": null,
            "grid_template_areas": null,
            "grid_template_columns": null,
            "grid_template_rows": null,
            "height": null,
            "justify_content": null,
            "justify_items": null,
            "left": null,
            "margin": null,
            "max_height": null,
            "max_width": null,
            "min_height": null,
            "min_width": null,
            "object_fit": null,
            "object_position": null,
            "order": null,
            "overflow": null,
            "overflow_x": null,
            "overflow_y": null,
            "padding": null,
            "right": null,
            "top": null,
            "visibility": null,
            "width": null
          }
        },
        "6d0921423fef4c19bfb9130aa79297e2": {
          "model_module": "@jupyter-widgets/base",
          "model_name": "LayoutModel",
          "model_module_version": "1.2.0",
          "state": {
            "_model_module": "@jupyter-widgets/base",
            "_model_module_version": "1.2.0",
            "_model_name": "LayoutModel",
            "_view_count": null,
            "_view_module": "@jupyter-widgets/base",
            "_view_module_version": "1.2.0",
            "_view_name": "LayoutView",
            "align_content": null,
            "align_items": null,
            "align_self": null,
            "border": null,
            "bottom": null,
            "display": null,
            "flex": null,
            "flex_flow": null,
            "grid_area": null,
            "grid_auto_columns": null,
            "grid_auto_flow": null,
            "grid_auto_rows": null,
            "grid_column": null,
            "grid_gap": null,
            "grid_row": null,
            "grid_template_areas": null,
            "grid_template_columns": null,
            "grid_template_rows": null,
            "height": null,
            "justify_content": null,
            "justify_items": null,
            "left": null,
            "margin": null,
            "max_height": null,
            "max_width": null,
            "min_height": null,
            "min_width": null,
            "object_fit": null,
            "object_position": null,
            "order": null,
            "overflow": null,
            "overflow_x": null,
            "overflow_y": null,
            "padding": null,
            "right": null,
            "top": null,
            "visibility": null,
            "width": null
          }
        },
        "83003a92aed74454ba637ef74a40aea4": {
          "model_module": "@jupyter-widgets/controls",
          "model_name": "DescriptionStyleModel",
          "model_module_version": "1.5.0",
          "state": {
            "_model_module": "@jupyter-widgets/controls",
            "_model_module_version": "1.5.0",
            "_model_name": "DescriptionStyleModel",
            "_view_count": null,
            "_view_module": "@jupyter-widgets/base",
            "_view_module_version": "1.2.0",
            "_view_name": "StyleView",
            "description_width": ""
          }
        },
        "01ed307366664e3abc3821f3ce2b76b3": {
          "model_module": "@jupyter-widgets/base",
          "model_name": "LayoutModel",
          "model_module_version": "1.2.0",
          "state": {
            "_model_module": "@jupyter-widgets/base",
            "_model_module_version": "1.2.0",
            "_model_name": "LayoutModel",
            "_view_count": null,
            "_view_module": "@jupyter-widgets/base",
            "_view_module_version": "1.2.0",
            "_view_name": "LayoutView",
            "align_content": null,
            "align_items": null,
            "align_self": null,
            "border": null,
            "bottom": null,
            "display": null,
            "flex": null,
            "flex_flow": null,
            "grid_area": null,
            "grid_auto_columns": null,
            "grid_auto_flow": null,
            "grid_auto_rows": null,
            "grid_column": null,
            "grid_gap": null,
            "grid_row": null,
            "grid_template_areas": null,
            "grid_template_columns": null,
            "grid_template_rows": null,
            "height": null,
            "justify_content": null,
            "justify_items": null,
            "left": null,
            "margin": null,
            "max_height": null,
            "max_width": null,
            "min_height": null,
            "min_width": null,
            "object_fit": null,
            "object_position": null,
            "order": null,
            "overflow": null,
            "overflow_x": null,
            "overflow_y": null,
            "padding": null,
            "right": null,
            "top": null,
            "visibility": null,
            "width": null
          }
        },
        "0102ecacfe8a4787be66239c39fe9766": {
          "model_module": "@jupyter-widgets/controls",
          "model_name": "ProgressStyleModel",
          "model_module_version": "1.5.0",
          "state": {
            "_model_module": "@jupyter-widgets/controls",
            "_model_module_version": "1.5.0",
            "_model_name": "ProgressStyleModel",
            "_view_count": null,
            "_view_module": "@jupyter-widgets/base",
            "_view_module_version": "1.2.0",
            "_view_name": "StyleView",
            "bar_color": null,
            "description_width": ""
          }
        },
        "efaf44a6f7304b53844336676c48a66a": {
          "model_module": "@jupyter-widgets/base",
          "model_name": "LayoutModel",
          "model_module_version": "1.2.0",
          "state": {
            "_model_module": "@jupyter-widgets/base",
            "_model_module_version": "1.2.0",
            "_model_name": "LayoutModel",
            "_view_count": null,
            "_view_module": "@jupyter-widgets/base",
            "_view_module_version": "1.2.0",
            "_view_name": "LayoutView",
            "align_content": null,
            "align_items": null,
            "align_self": null,
            "border": null,
            "bottom": null,
            "display": null,
            "flex": null,
            "flex_flow": null,
            "grid_area": null,
            "grid_auto_columns": null,
            "grid_auto_flow": null,
            "grid_auto_rows": null,
            "grid_column": null,
            "grid_gap": null,
            "grid_row": null,
            "grid_template_areas": null,
            "grid_template_columns": null,
            "grid_template_rows": null,
            "height": null,
            "justify_content": null,
            "justify_items": null,
            "left": null,
            "margin": null,
            "max_height": null,
            "max_width": null,
            "min_height": null,
            "min_width": null,
            "object_fit": null,
            "object_position": null,
            "order": null,
            "overflow": null,
            "overflow_x": null,
            "overflow_y": null,
            "padding": null,
            "right": null,
            "top": null,
            "visibility": null,
            "width": null
          }
        },
        "f403319976f64614a2e2e25cc7d783a7": {
          "model_module": "@jupyter-widgets/controls",
          "model_name": "DescriptionStyleModel",
          "model_module_version": "1.5.0",
          "state": {
            "_model_module": "@jupyter-widgets/controls",
            "_model_module_version": "1.5.0",
            "_model_name": "DescriptionStyleModel",
            "_view_count": null,
            "_view_module": "@jupyter-widgets/base",
            "_view_module_version": "1.2.0",
            "_view_name": "StyleView",
            "description_width": ""
          }
        },
        "8378d6b491c9430e9bc7d47a0eb7cdb6": {
          "model_module": "@jupyter-widgets/controls",
          "model_name": "HBoxModel",
          "model_module_version": "1.5.0",
          "state": {
            "_dom_classes": [],
            "_model_module": "@jupyter-widgets/controls",
            "_model_module_version": "1.5.0",
            "_model_name": "HBoxModel",
            "_view_count": null,
            "_view_module": "@jupyter-widgets/controls",
            "_view_module_version": "1.5.0",
            "_view_name": "HBoxView",
            "box_style": "",
            "children": [
              "IPY_MODEL_74a901aa62934323a7da7439814cd696",
              "IPY_MODEL_a3cca06327bc4e02844a88de2f4275b0",
              "IPY_MODEL_95c724b3816f4b91a10fb0fcde3c0813"
            ],
            "layout": "IPY_MODEL_d7f2d837cf9242d8837d798cee9277eb"
          }
        },
        "74a901aa62934323a7da7439814cd696": {
          "model_module": "@jupyter-widgets/controls",
          "model_name": "HTMLModel",
          "model_module_version": "1.5.0",
          "state": {
            "_dom_classes": [],
            "_model_module": "@jupyter-widgets/controls",
            "_model_module_version": "1.5.0",
            "_model_name": "HTMLModel",
            "_view_count": null,
            "_view_module": "@jupyter-widgets/controls",
            "_view_module_version": "1.5.0",
            "_view_name": "HTMLView",
            "description": "",
            "description_tooltip": null,
            "layout": "IPY_MODEL_6892405ee7e444019b9da5d074dad2df",
            "placeholder": "​",
            "style": "IPY_MODEL_dd9fde8a98f84e03bf460df942f5a023",
            "value": "Downloading: 100%"
          }
        },
        "a3cca06327bc4e02844a88de2f4275b0": {
          "model_module": "@jupyter-widgets/controls",
          "model_name": "FloatProgressModel",
          "model_module_version": "1.5.0",
          "state": {
            "_dom_classes": [],
            "_model_module": "@jupyter-widgets/controls",
            "_model_module_version": "1.5.0",
            "_model_name": "FloatProgressModel",
            "_view_count": null,
            "_view_module": "@jupyter-widgets/controls",
            "_view_module_version": "1.5.0",
            "_view_name": "ProgressView",
            "bar_style": "success",
            "description": "",
            "description_tooltip": null,
            "layout": "IPY_MODEL_006e25fe32254e1da001e6cb29c851f8",
            "max": 442547953,
            "min": 0,
            "orientation": "horizontal",
            "style": "IPY_MODEL_0a06ff477ae54090a2f8e8789e2224e5",
            "value": 442547953
          }
        },
        "95c724b3816f4b91a10fb0fcde3c0813": {
          "model_module": "@jupyter-widgets/controls",
          "model_name": "HTMLModel",
          "model_module_version": "1.5.0",
          "state": {
            "_dom_classes": [],
            "_model_module": "@jupyter-widgets/controls",
            "_model_module_version": "1.5.0",
            "_model_name": "HTMLModel",
            "_view_count": null,
            "_view_module": "@jupyter-widgets/controls",
            "_view_module_version": "1.5.0",
            "_view_name": "HTMLView",
            "description": "",
            "description_tooltip": null,
            "layout": "IPY_MODEL_bf5c77b3fef24de2b1938673fbb906e4",
            "placeholder": "​",
            "style": "IPY_MODEL_857743fa82bd4db295b6f2a9bfba7436",
            "value": " 443M/443M [00:35&lt;00:00, 17.6MB/s]"
          }
        },
        "d7f2d837cf9242d8837d798cee9277eb": {
          "model_module": "@jupyter-widgets/base",
          "model_name": "LayoutModel",
          "model_module_version": "1.2.0",
          "state": {
            "_model_module": "@jupyter-widgets/base",
            "_model_module_version": "1.2.0",
            "_model_name": "LayoutModel",
            "_view_count": null,
            "_view_module": "@jupyter-widgets/base",
            "_view_module_version": "1.2.0",
            "_view_name": "LayoutView",
            "align_content": null,
            "align_items": null,
            "align_self": null,
            "border": null,
            "bottom": null,
            "display": null,
            "flex": null,
            "flex_flow": null,
            "grid_area": null,
            "grid_auto_columns": null,
            "grid_auto_flow": null,
            "grid_auto_rows": null,
            "grid_column": null,
            "grid_gap": null,
            "grid_row": null,
            "grid_template_areas": null,
            "grid_template_columns": null,
            "grid_template_rows": null,
            "height": null,
            "justify_content": null,
            "justify_items": null,
            "left": null,
            "margin": null,
            "max_height": null,
            "max_width": null,
            "min_height": null,
            "min_width": null,
            "object_fit": null,
            "object_position": null,
            "order": null,
            "overflow": null,
            "overflow_x": null,
            "overflow_y": null,
            "padding": null,
            "right": null,
            "top": null,
            "visibility": null,
            "width": null
          }
        },
        "6892405ee7e444019b9da5d074dad2df": {
          "model_module": "@jupyter-widgets/base",
          "model_name": "LayoutModel",
          "model_module_version": "1.2.0",
          "state": {
            "_model_module": "@jupyter-widgets/base",
            "_model_module_version": "1.2.0",
            "_model_name": "LayoutModel",
            "_view_count": null,
            "_view_module": "@jupyter-widgets/base",
            "_view_module_version": "1.2.0",
            "_view_name": "LayoutView",
            "align_content": null,
            "align_items": null,
            "align_self": null,
            "border": null,
            "bottom": null,
            "display": null,
            "flex": null,
            "flex_flow": null,
            "grid_area": null,
            "grid_auto_columns": null,
            "grid_auto_flow": null,
            "grid_auto_rows": null,
            "grid_column": null,
            "grid_gap": null,
            "grid_row": null,
            "grid_template_areas": null,
            "grid_template_columns": null,
            "grid_template_rows": null,
            "height": null,
            "justify_content": null,
            "justify_items": null,
            "left": null,
            "margin": null,
            "max_height": null,
            "max_width": null,
            "min_height": null,
            "min_width": null,
            "object_fit": null,
            "object_position": null,
            "order": null,
            "overflow": null,
            "overflow_x": null,
            "overflow_y": null,
            "padding": null,
            "right": null,
            "top": null,
            "visibility": null,
            "width": null
          }
        },
        "dd9fde8a98f84e03bf460df942f5a023": {
          "model_module": "@jupyter-widgets/controls",
          "model_name": "DescriptionStyleModel",
          "model_module_version": "1.5.0",
          "state": {
            "_model_module": "@jupyter-widgets/controls",
            "_model_module_version": "1.5.0",
            "_model_name": "DescriptionStyleModel",
            "_view_count": null,
            "_view_module": "@jupyter-widgets/base",
            "_view_module_version": "1.2.0",
            "_view_name": "StyleView",
            "description_width": ""
          }
        },
        "006e25fe32254e1da001e6cb29c851f8": {
          "model_module": "@jupyter-widgets/base",
          "model_name": "LayoutModel",
          "model_module_version": "1.2.0",
          "state": {
            "_model_module": "@jupyter-widgets/base",
            "_model_module_version": "1.2.0",
            "_model_name": "LayoutModel",
            "_view_count": null,
            "_view_module": "@jupyter-widgets/base",
            "_view_module_version": "1.2.0",
            "_view_name": "LayoutView",
            "align_content": null,
            "align_items": null,
            "align_self": null,
            "border": null,
            "bottom": null,
            "display": null,
            "flex": null,
            "flex_flow": null,
            "grid_area": null,
            "grid_auto_columns": null,
            "grid_auto_flow": null,
            "grid_auto_rows": null,
            "grid_column": null,
            "grid_gap": null,
            "grid_row": null,
            "grid_template_areas": null,
            "grid_template_columns": null,
            "grid_template_rows": null,
            "height": null,
            "justify_content": null,
            "justify_items": null,
            "left": null,
            "margin": null,
            "max_height": null,
            "max_width": null,
            "min_height": null,
            "min_width": null,
            "object_fit": null,
            "object_position": null,
            "order": null,
            "overflow": null,
            "overflow_x": null,
            "overflow_y": null,
            "padding": null,
            "right": null,
            "top": null,
            "visibility": null,
            "width": null
          }
        },
        "0a06ff477ae54090a2f8e8789e2224e5": {
          "model_module": "@jupyter-widgets/controls",
          "model_name": "ProgressStyleModel",
          "model_module_version": "1.5.0",
          "state": {
            "_model_module": "@jupyter-widgets/controls",
            "_model_module_version": "1.5.0",
            "_model_name": "ProgressStyleModel",
            "_view_count": null,
            "_view_module": "@jupyter-widgets/base",
            "_view_module_version": "1.2.0",
            "_view_name": "StyleView",
            "bar_color": null,
            "description_width": ""
          }
        },
        "bf5c77b3fef24de2b1938673fbb906e4": {
          "model_module": "@jupyter-widgets/base",
          "model_name": "LayoutModel",
          "model_module_version": "1.2.0",
          "state": {
            "_model_module": "@jupyter-widgets/base",
            "_model_module_version": "1.2.0",
            "_model_name": "LayoutModel",
            "_view_count": null,
            "_view_module": "@jupyter-widgets/base",
            "_view_module_version": "1.2.0",
            "_view_name": "LayoutView",
            "align_content": null,
            "align_items": null,
            "align_self": null,
            "border": null,
            "bottom": null,
            "display": null,
            "flex": null,
            "flex_flow": null,
            "grid_area": null,
            "grid_auto_columns": null,
            "grid_auto_flow": null,
            "grid_auto_rows": null,
            "grid_column": null,
            "grid_gap": null,
            "grid_row": null,
            "grid_template_areas": null,
            "grid_template_columns": null,
            "grid_template_rows": null,
            "height": null,
            "justify_content": null,
            "justify_items": null,
            "left": null,
            "margin": null,
            "max_height": null,
            "max_width": null,
            "min_height": null,
            "min_width": null,
            "object_fit": null,
            "object_position": null,
            "order": null,
            "overflow": null,
            "overflow_x": null,
            "overflow_y": null,
            "padding": null,
            "right": null,
            "top": null,
            "visibility": null,
            "width": null
          }
        },
        "857743fa82bd4db295b6f2a9bfba7436": {
          "model_module": "@jupyter-widgets/controls",
          "model_name": "DescriptionStyleModel",
          "model_module_version": "1.5.0",
          "state": {
            "_model_module": "@jupyter-widgets/controls",
            "_model_module_version": "1.5.0",
            "_model_name": "DescriptionStyleModel",
            "_view_count": null,
            "_view_module": "@jupyter-widgets/base",
            "_view_module_version": "1.2.0",
            "_view_name": "StyleView",
            "description_width": ""
          }
        },
        "70055e7168ec487a96d0e2fb4307922e": {
          "model_module": "@jupyter-widgets/controls",
          "model_name": "HBoxModel",
          "model_module_version": "1.5.0",
          "state": {
            "_dom_classes": [],
            "_model_module": "@jupyter-widgets/controls",
            "_model_module_version": "1.5.0",
            "_model_name": "HBoxModel",
            "_view_count": null,
            "_view_module": "@jupyter-widgets/controls",
            "_view_module_version": "1.5.0",
            "_view_name": "HBoxView",
            "box_style": "",
            "children": [
              "IPY_MODEL_e44afa37efc643ddbc8098dfd9351643",
              "IPY_MODEL_313bb065cfda4c99b4c0a62830bf5f8a",
              "IPY_MODEL_3b59214540194f81a71901ea063a7365"
            ],
            "layout": "IPY_MODEL_d55c432b8e3c42b790fd99d21a107d21"
          }
        },
        "e44afa37efc643ddbc8098dfd9351643": {
          "model_module": "@jupyter-widgets/controls",
          "model_name": "HTMLModel",
          "model_module_version": "1.5.0",
          "state": {
            "_dom_classes": [],
            "_model_module": "@jupyter-widgets/controls",
            "_model_module_version": "1.5.0",
            "_model_name": "HTMLModel",
            "_view_count": null,
            "_view_module": "@jupyter-widgets/controls",
            "_view_module_version": "1.5.0",
            "_view_name": "HTMLView",
            "description": "",
            "description_tooltip": null,
            "layout": "IPY_MODEL_e41aca17ac654078bef66307bde85f3c",
            "placeholder": "​",
            "style": "IPY_MODEL_e4df05c33de84d209350a0676d775a90",
            "value": "Downloading: 100%"
          }
        },
        "313bb065cfda4c99b4c0a62830bf5f8a": {
          "model_module": "@jupyter-widgets/controls",
          "model_name": "FloatProgressModel",
          "model_module_version": "1.5.0",
          "state": {
            "_dom_classes": [],
            "_model_module": "@jupyter-widgets/controls",
            "_model_module_version": "1.5.0",
            "_model_name": "FloatProgressModel",
            "_view_count": null,
            "_view_module": "@jupyter-widgets/controls",
            "_view_module_version": "1.5.0",
            "_view_name": "ProgressView",
            "bar_style": "success",
            "description": "",
            "description_tooltip": null,
            "layout": "IPY_MODEL_862ab0acd4664edaa755c81d543be2e1",
            "max": 112,
            "min": 0,
            "orientation": "horizontal",
            "style": "IPY_MODEL_4f5ae66251734f9584f365f0f2a4a446",
            "value": 112
          }
        },
        "3b59214540194f81a71901ea063a7365": {
          "model_module": "@jupyter-widgets/controls",
          "model_name": "HTMLModel",
          "model_module_version": "1.5.0",
          "state": {
            "_dom_classes": [],
            "_model_module": "@jupyter-widgets/controls",
            "_model_module_version": "1.5.0",
            "_model_name": "HTMLModel",
            "_view_count": null,
            "_view_module": "@jupyter-widgets/controls",
            "_view_module_version": "1.5.0",
            "_view_name": "HTMLView",
            "description": "",
            "description_tooltip": null,
            "layout": "IPY_MODEL_3e6da4046853475597705408fdd89dfc",
            "placeholder": "​",
            "style": "IPY_MODEL_8488aa43d9c74e628551642d2e7bd5f7",
            "value": " 112/112 [00:00&lt;00:00, 3.44kB/s]"
          }
        },
        "d55c432b8e3c42b790fd99d21a107d21": {
          "model_module": "@jupyter-widgets/base",
          "model_name": "LayoutModel",
          "model_module_version": "1.2.0",
          "state": {
            "_model_module": "@jupyter-widgets/base",
            "_model_module_version": "1.2.0",
            "_model_name": "LayoutModel",
            "_view_count": null,
            "_view_module": "@jupyter-widgets/base",
            "_view_module_version": "1.2.0",
            "_view_name": "LayoutView",
            "align_content": null,
            "align_items": null,
            "align_self": null,
            "border": null,
            "bottom": null,
            "display": null,
            "flex": null,
            "flex_flow": null,
            "grid_area": null,
            "grid_auto_columns": null,
            "grid_auto_flow": null,
            "grid_auto_rows": null,
            "grid_column": null,
            "grid_gap": null,
            "grid_row": null,
            "grid_template_areas": null,
            "grid_template_columns": null,
            "grid_template_rows": null,
            "height": null,
            "justify_content": null,
            "justify_items": null,
            "left": null,
            "margin": null,
            "max_height": null,
            "max_width": null,
            "min_height": null,
            "min_width": null,
            "object_fit": null,
            "object_position": null,
            "order": null,
            "overflow": null,
            "overflow_x": null,
            "overflow_y": null,
            "padding": null,
            "right": null,
            "top": null,
            "visibility": null,
            "width": null
          }
        },
        "e41aca17ac654078bef66307bde85f3c": {
          "model_module": "@jupyter-widgets/base",
          "model_name": "LayoutModel",
          "model_module_version": "1.2.0",
          "state": {
            "_model_module": "@jupyter-widgets/base",
            "_model_module_version": "1.2.0",
            "_model_name": "LayoutModel",
            "_view_count": null,
            "_view_module": "@jupyter-widgets/base",
            "_view_module_version": "1.2.0",
            "_view_name": "LayoutView",
            "align_content": null,
            "align_items": null,
            "align_self": null,
            "border": null,
            "bottom": null,
            "display": null,
            "flex": null,
            "flex_flow": null,
            "grid_area": null,
            "grid_auto_columns": null,
            "grid_auto_flow": null,
            "grid_auto_rows": null,
            "grid_column": null,
            "grid_gap": null,
            "grid_row": null,
            "grid_template_areas": null,
            "grid_template_columns": null,
            "grid_template_rows": null,
            "height": null,
            "justify_content": null,
            "justify_items": null,
            "left": null,
            "margin": null,
            "max_height": null,
            "max_width": null,
            "min_height": null,
            "min_width": null,
            "object_fit": null,
            "object_position": null,
            "order": null,
            "overflow": null,
            "overflow_x": null,
            "overflow_y": null,
            "padding": null,
            "right": null,
            "top": null,
            "visibility": null,
            "width": null
          }
        },
        "e4df05c33de84d209350a0676d775a90": {
          "model_module": "@jupyter-widgets/controls",
          "model_name": "DescriptionStyleModel",
          "model_module_version": "1.5.0",
          "state": {
            "_model_module": "@jupyter-widgets/controls",
            "_model_module_version": "1.5.0",
            "_model_name": "DescriptionStyleModel",
            "_view_count": null,
            "_view_module": "@jupyter-widgets/base",
            "_view_module_version": "1.2.0",
            "_view_name": "StyleView",
            "description_width": ""
          }
        },
        "862ab0acd4664edaa755c81d543be2e1": {
          "model_module": "@jupyter-widgets/base",
          "model_name": "LayoutModel",
          "model_module_version": "1.2.0",
          "state": {
            "_model_module": "@jupyter-widgets/base",
            "_model_module_version": "1.2.0",
            "_model_name": "LayoutModel",
            "_view_count": null,
            "_view_module": "@jupyter-widgets/base",
            "_view_module_version": "1.2.0",
            "_view_name": "LayoutView",
            "align_content": null,
            "align_items": null,
            "align_self": null,
            "border": null,
            "bottom": null,
            "display": null,
            "flex": null,
            "flex_flow": null,
            "grid_area": null,
            "grid_auto_columns": null,
            "grid_auto_flow": null,
            "grid_auto_rows": null,
            "grid_column": null,
            "grid_gap": null,
            "grid_row": null,
            "grid_template_areas": null,
            "grid_template_columns": null,
            "grid_template_rows": null,
            "height": null,
            "justify_content": null,
            "justify_items": null,
            "left": null,
            "margin": null,
            "max_height": null,
            "max_width": null,
            "min_height": null,
            "min_width": null,
            "object_fit": null,
            "object_position": null,
            "order": null,
            "overflow": null,
            "overflow_x": null,
            "overflow_y": null,
            "padding": null,
            "right": null,
            "top": null,
            "visibility": null,
            "width": null
          }
        },
        "4f5ae66251734f9584f365f0f2a4a446": {
          "model_module": "@jupyter-widgets/controls",
          "model_name": "ProgressStyleModel",
          "model_module_version": "1.5.0",
          "state": {
            "_model_module": "@jupyter-widgets/controls",
            "_model_module_version": "1.5.0",
            "_model_name": "ProgressStyleModel",
            "_view_count": null,
            "_view_module": "@jupyter-widgets/base",
            "_view_module_version": "1.2.0",
            "_view_name": "StyleView",
            "bar_color": null,
            "description_width": ""
          }
        },
        "3e6da4046853475597705408fdd89dfc": {
          "model_module": "@jupyter-widgets/base",
          "model_name": "LayoutModel",
          "model_module_version": "1.2.0",
          "state": {
            "_model_module": "@jupyter-widgets/base",
            "_model_module_version": "1.2.0",
            "_model_name": "LayoutModel",
            "_view_count": null,
            "_view_module": "@jupyter-widgets/base",
            "_view_module_version": "1.2.0",
            "_view_name": "LayoutView",
            "align_content": null,
            "align_items": null,
            "align_self": null,
            "border": null,
            "bottom": null,
            "display": null,
            "flex": null,
            "flex_flow": null,
            "grid_area": null,
            "grid_auto_columns": null,
            "grid_auto_flow": null,
            "grid_auto_rows": null,
            "grid_column": null,
            "grid_gap": null,
            "grid_row": null,
            "grid_template_areas": null,
            "grid_template_columns": null,
            "grid_template_rows": null,
            "height": null,
            "justify_content": null,
            "justify_items": null,
            "left": null,
            "margin": null,
            "max_height": null,
            "max_width": null,
            "min_height": null,
            "min_width": null,
            "object_fit": null,
            "object_position": null,
            "order": null,
            "overflow": null,
            "overflow_x": null,
            "overflow_y": null,
            "padding": null,
            "right": null,
            "top": null,
            "visibility": null,
            "width": null
          }
        },
        "8488aa43d9c74e628551642d2e7bd5f7": {
          "model_module": "@jupyter-widgets/controls",
          "model_name": "DescriptionStyleModel",
          "model_module_version": "1.5.0",
          "state": {
            "_model_module": "@jupyter-widgets/controls",
            "_model_module_version": "1.5.0",
            "_model_name": "DescriptionStyleModel",
            "_view_count": null,
            "_view_module": "@jupyter-widgets/base",
            "_view_module_version": "1.2.0",
            "_view_name": "StyleView",
            "description_width": ""
          }
        },
        "8169193f9caf4eb69b5fbb0214da784d": {
          "model_module": "@jupyter-widgets/controls",
          "model_name": "HBoxModel",
          "model_module_version": "1.5.0",
          "state": {
            "_dom_classes": [],
            "_model_module": "@jupyter-widgets/controls",
            "_model_module_version": "1.5.0",
            "_model_name": "HBoxModel",
            "_view_count": null,
            "_view_module": "@jupyter-widgets/controls",
            "_view_module_version": "1.5.0",
            "_view_name": "HBoxView",
            "box_style": "",
            "children": [
              "IPY_MODEL_3aad5f0ddf5d4139a6ebb27c35b0f1d4",
              "IPY_MODEL_4215a06a98ce4c47a554dd1dcdc4a276",
              "IPY_MODEL_48db6a79c9424ca89a5cf943f6cc15e6"
            ],
            "layout": "IPY_MODEL_70ed57a0c154413bae93cd3b11e736e1"
          }
        },
        "3aad5f0ddf5d4139a6ebb27c35b0f1d4": {
          "model_module": "@jupyter-widgets/controls",
          "model_name": "HTMLModel",
          "model_module_version": "1.5.0",
          "state": {
            "_dom_classes": [],
            "_model_module": "@jupyter-widgets/controls",
            "_model_module_version": "1.5.0",
            "_model_name": "HTMLModel",
            "_view_count": null,
            "_view_module": "@jupyter-widgets/controls",
            "_view_module_version": "1.5.0",
            "_view_name": "HTMLView",
            "description": "",
            "description_tooltip": null,
            "layout": "IPY_MODEL_7e6118703a484c6c80dc78d98d29755c",
            "placeholder": "​",
            "style": "IPY_MODEL_8855772b3368470a92f73c743197a04f",
            "value": "Downloading: 100%"
          }
        },
        "4215a06a98ce4c47a554dd1dcdc4a276": {
          "model_module": "@jupyter-widgets/controls",
          "model_name": "FloatProgressModel",
          "model_module_version": "1.5.0",
          "state": {
            "_dom_classes": [],
            "_model_module": "@jupyter-widgets/controls",
            "_model_module_version": "1.5.0",
            "_model_name": "FloatProgressModel",
            "_view_count": null,
            "_view_module": "@jupyter-widgets/controls",
            "_view_module_version": "1.5.0",
            "_view_name": "ProgressView",
            "bar_style": "success",
            "description": "",
            "description_tooltip": null,
            "layout": "IPY_MODEL_61d58921ed274e3eaba06d2b0885c8a7",
            "max": 500,
            "min": 0,
            "orientation": "horizontal",
            "style": "IPY_MODEL_766b046f520c4293b0467362b7489862",
            "value": 500
          }
        },
        "48db6a79c9424ca89a5cf943f6cc15e6": {
          "model_module": "@jupyter-widgets/controls",
          "model_name": "HTMLModel",
          "model_module_version": "1.5.0",
          "state": {
            "_dom_classes": [],
            "_model_module": "@jupyter-widgets/controls",
            "_model_module_version": "1.5.0",
            "_model_name": "HTMLModel",
            "_view_count": null,
            "_view_module": "@jupyter-widgets/controls",
            "_view_module_version": "1.5.0",
            "_view_name": "HTMLView",
            "description": "",
            "description_tooltip": null,
            "layout": "IPY_MODEL_dce6a4e7d62e42f3a4906f158463361f",
            "placeholder": "​",
            "style": "IPY_MODEL_a451b0c77ff640cbaac16059cc1f78b3",
            "value": " 500/500 [00:00&lt;00:00, 15.7kB/s]"
          }
        },
        "70ed57a0c154413bae93cd3b11e736e1": {
          "model_module": "@jupyter-widgets/base",
          "model_name": "LayoutModel",
          "model_module_version": "1.2.0",
          "state": {
            "_model_module": "@jupyter-widgets/base",
            "_model_module_version": "1.2.0",
            "_model_name": "LayoutModel",
            "_view_count": null,
            "_view_module": "@jupyter-widgets/base",
            "_view_module_version": "1.2.0",
            "_view_name": "LayoutView",
            "align_content": null,
            "align_items": null,
            "align_self": null,
            "border": null,
            "bottom": null,
            "display": null,
            "flex": null,
            "flex_flow": null,
            "grid_area": null,
            "grid_auto_columns": null,
            "grid_auto_flow": null,
            "grid_auto_rows": null,
            "grid_column": null,
            "grid_gap": null,
            "grid_row": null,
            "grid_template_areas": null,
            "grid_template_columns": null,
            "grid_template_rows": null,
            "height": null,
            "justify_content": null,
            "justify_items": null,
            "left": null,
            "margin": null,
            "max_height": null,
            "max_width": null,
            "min_height": null,
            "min_width": null,
            "object_fit": null,
            "object_position": null,
            "order": null,
            "overflow": null,
            "overflow_x": null,
            "overflow_y": null,
            "padding": null,
            "right": null,
            "top": null,
            "visibility": null,
            "width": null
          }
        },
        "7e6118703a484c6c80dc78d98d29755c": {
          "model_module": "@jupyter-widgets/base",
          "model_name": "LayoutModel",
          "model_module_version": "1.2.0",
          "state": {
            "_model_module": "@jupyter-widgets/base",
            "_model_module_version": "1.2.0",
            "_model_name": "LayoutModel",
            "_view_count": null,
            "_view_module": "@jupyter-widgets/base",
            "_view_module_version": "1.2.0",
            "_view_name": "LayoutView",
            "align_content": null,
            "align_items": null,
            "align_self": null,
            "border": null,
            "bottom": null,
            "display": null,
            "flex": null,
            "flex_flow": null,
            "grid_area": null,
            "grid_auto_columns": null,
            "grid_auto_flow": null,
            "grid_auto_rows": null,
            "grid_column": null,
            "grid_gap": null,
            "grid_row": null,
            "grid_template_areas": null,
            "grid_template_columns": null,
            "grid_template_rows": null,
            "height": null,
            "justify_content": null,
            "justify_items": null,
            "left": null,
            "margin": null,
            "max_height": null,
            "max_width": null,
            "min_height": null,
            "min_width": null,
            "object_fit": null,
            "object_position": null,
            "order": null,
            "overflow": null,
            "overflow_x": null,
            "overflow_y": null,
            "padding": null,
            "right": null,
            "top": null,
            "visibility": null,
            "width": null
          }
        },
        "8855772b3368470a92f73c743197a04f": {
          "model_module": "@jupyter-widgets/controls",
          "model_name": "DescriptionStyleModel",
          "model_module_version": "1.5.0",
          "state": {
            "_model_module": "@jupyter-widgets/controls",
            "_model_module_version": "1.5.0",
            "_model_name": "DescriptionStyleModel",
            "_view_count": null,
            "_view_module": "@jupyter-widgets/base",
            "_view_module_version": "1.2.0",
            "_view_name": "StyleView",
            "description_width": ""
          }
        },
        "61d58921ed274e3eaba06d2b0885c8a7": {
          "model_module": "@jupyter-widgets/base",
          "model_name": "LayoutModel",
          "model_module_version": "1.2.0",
          "state": {
            "_model_module": "@jupyter-widgets/base",
            "_model_module_version": "1.2.0",
            "_model_name": "LayoutModel",
            "_view_count": null,
            "_view_module": "@jupyter-widgets/base",
            "_view_module_version": "1.2.0",
            "_view_name": "LayoutView",
            "align_content": null,
            "align_items": null,
            "align_self": null,
            "border": null,
            "bottom": null,
            "display": null,
            "flex": null,
            "flex_flow": null,
            "grid_area": null,
            "grid_auto_columns": null,
            "grid_auto_flow": null,
            "grid_auto_rows": null,
            "grid_column": null,
            "grid_gap": null,
            "grid_row": null,
            "grid_template_areas": null,
            "grid_template_columns": null,
            "grid_template_rows": null,
            "height": null,
            "justify_content": null,
            "justify_items": null,
            "left": null,
            "margin": null,
            "max_height": null,
            "max_width": null,
            "min_height": null,
            "min_width": null,
            "object_fit": null,
            "object_position": null,
            "order": null,
            "overflow": null,
            "overflow_x": null,
            "overflow_y": null,
            "padding": null,
            "right": null,
            "top": null,
            "visibility": null,
            "width": null
          }
        },
        "766b046f520c4293b0467362b7489862": {
          "model_module": "@jupyter-widgets/controls",
          "model_name": "ProgressStyleModel",
          "model_module_version": "1.5.0",
          "state": {
            "_model_module": "@jupyter-widgets/controls",
            "_model_module_version": "1.5.0",
            "_model_name": "ProgressStyleModel",
            "_view_count": null,
            "_view_module": "@jupyter-widgets/base",
            "_view_module_version": "1.2.0",
            "_view_name": "StyleView",
            "bar_color": null,
            "description_width": ""
          }
        },
        "dce6a4e7d62e42f3a4906f158463361f": {
          "model_module": "@jupyter-widgets/base",
          "model_name": "LayoutModel",
          "model_module_version": "1.2.0",
          "state": {
            "_model_module": "@jupyter-widgets/base",
            "_model_module_version": "1.2.0",
            "_model_name": "LayoutModel",
            "_view_count": null,
            "_view_module": "@jupyter-widgets/base",
            "_view_module_version": "1.2.0",
            "_view_name": "LayoutView",
            "align_content": null,
            "align_items": null,
            "align_self": null,
            "border": null,
            "bottom": null,
            "display": null,
            "flex": null,
            "flex_flow": null,
            "grid_area": null,
            "grid_auto_columns": null,
            "grid_auto_flow": null,
            "grid_auto_rows": null,
            "grid_column": null,
            "grid_gap": null,
            "grid_row": null,
            "grid_template_areas": null,
            "grid_template_columns": null,
            "grid_template_rows": null,
            "height": null,
            "justify_content": null,
            "justify_items": null,
            "left": null,
            "margin": null,
            "max_height": null,
            "max_width": null,
            "min_height": null,
            "min_width": null,
            "object_fit": null,
            "object_position": null,
            "order": null,
            "overflow": null,
            "overflow_x": null,
            "overflow_y": null,
            "padding": null,
            "right": null,
            "top": null,
            "visibility": null,
            "width": null
          }
        },
        "a451b0c77ff640cbaac16059cc1f78b3": {
          "model_module": "@jupyter-widgets/controls",
          "model_name": "DescriptionStyleModel",
          "model_module_version": "1.5.0",
          "state": {
            "_model_module": "@jupyter-widgets/controls",
            "_model_module_version": "1.5.0",
            "_model_name": "DescriptionStyleModel",
            "_view_count": null,
            "_view_module": "@jupyter-widgets/base",
            "_view_module_version": "1.2.0",
            "_view_name": "StyleView",
            "description_width": ""
          }
        },
        "b19e0ecc202144669cc032aa54a349cd": {
          "model_module": "@jupyter-widgets/controls",
          "model_name": "HBoxModel",
          "model_module_version": "1.5.0",
          "state": {
            "_dom_classes": [],
            "_model_module": "@jupyter-widgets/controls",
            "_model_module_version": "1.5.0",
            "_model_name": "HBoxModel",
            "_view_count": null,
            "_view_module": "@jupyter-widgets/controls",
            "_view_module_version": "1.5.0",
            "_view_name": "HBoxView",
            "box_style": "",
            "children": [
              "IPY_MODEL_563519e24f6b4e57b8d38d6212071791",
              "IPY_MODEL_773bc9f3b6b246a086ed2a5a5e53cf91",
              "IPY_MODEL_fbc3404ebedc4fea9a7fa4a6bf4e8b02"
            ],
            "layout": "IPY_MODEL_5224f519a9374d5d8928484b0c824f4e"
          }
        },
        "563519e24f6b4e57b8d38d6212071791": {
          "model_module": "@jupyter-widgets/controls",
          "model_name": "HTMLModel",
          "model_module_version": "1.5.0",
          "state": {
            "_dom_classes": [],
            "_model_module": "@jupyter-widgets/controls",
            "_model_module_version": "1.5.0",
            "_model_name": "HTMLModel",
            "_view_count": null,
            "_view_module": "@jupyter-widgets/controls",
            "_view_module_version": "1.5.0",
            "_view_name": "HTMLView",
            "description": "",
            "description_tooltip": null,
            "layout": "IPY_MODEL_c2687ce7b6934ee48a64b5f066ddf37a",
            "placeholder": "​",
            "style": "IPY_MODEL_5c3eb221183649d2aa55e8865afb74b0",
            "value": "Downloading: 100%"
          }
        },
        "773bc9f3b6b246a086ed2a5a5e53cf91": {
          "model_module": "@jupyter-widgets/controls",
          "model_name": "FloatProgressModel",
          "model_module_version": "1.5.0",
          "state": {
            "_dom_classes": [],
            "_model_module": "@jupyter-widgets/controls",
            "_model_module_version": "1.5.0",
            "_model_name": "FloatProgressModel",
            "_view_count": null,
            "_view_module": "@jupyter-widgets/controls",
            "_view_module_version": "1.5.0",
            "_view_name": "ProgressView",
            "bar_style": "success",
            "description": "",
            "description_tooltip": null,
            "layout": "IPY_MODEL_ced12ccb0eff4838b2fc992278d8a0ac",
            "max": 751,
            "min": 0,
            "orientation": "horizontal",
            "style": "IPY_MODEL_67b35af19b204078b567ce305ba466aa",
            "value": 751
          }
        },
        "fbc3404ebedc4fea9a7fa4a6bf4e8b02": {
          "model_module": "@jupyter-widgets/controls",
          "model_name": "HTMLModel",
          "model_module_version": "1.5.0",
          "state": {
            "_dom_classes": [],
            "_model_module": "@jupyter-widgets/controls",
            "_model_module_version": "1.5.0",
            "_model_name": "HTMLModel",
            "_view_count": null,
            "_view_module": "@jupyter-widgets/controls",
            "_view_module_version": "1.5.0",
            "_view_name": "HTMLView",
            "description": "",
            "description_tooltip": null,
            "layout": "IPY_MODEL_1e26438f19d04443a9b94879ad796e26",
            "placeholder": "​",
            "style": "IPY_MODEL_4d7e1e4361f34e559b59b0c909b13e1a",
            "value": " 751/751 [00:00&lt;00:00, 24.2kB/s]"
          }
        },
        "5224f519a9374d5d8928484b0c824f4e": {
          "model_module": "@jupyter-widgets/base",
          "model_name": "LayoutModel",
          "model_module_version": "1.2.0",
          "state": {
            "_model_module": "@jupyter-widgets/base",
            "_model_module_version": "1.2.0",
            "_model_name": "LayoutModel",
            "_view_count": null,
            "_view_module": "@jupyter-widgets/base",
            "_view_module_version": "1.2.0",
            "_view_name": "LayoutView",
            "align_content": null,
            "align_items": null,
            "align_self": null,
            "border": null,
            "bottom": null,
            "display": null,
            "flex": null,
            "flex_flow": null,
            "grid_area": null,
            "grid_auto_columns": null,
            "grid_auto_flow": null,
            "grid_auto_rows": null,
            "grid_column": null,
            "grid_gap": null,
            "grid_row": null,
            "grid_template_areas": null,
            "grid_template_columns": null,
            "grid_template_rows": null,
            "height": null,
            "justify_content": null,
            "justify_items": null,
            "left": null,
            "margin": null,
            "max_height": null,
            "max_width": null,
            "min_height": null,
            "min_width": null,
            "object_fit": null,
            "object_position": null,
            "order": null,
            "overflow": null,
            "overflow_x": null,
            "overflow_y": null,
            "padding": null,
            "right": null,
            "top": null,
            "visibility": null,
            "width": null
          }
        },
        "c2687ce7b6934ee48a64b5f066ddf37a": {
          "model_module": "@jupyter-widgets/base",
          "model_name": "LayoutModel",
          "model_module_version": "1.2.0",
          "state": {
            "_model_module": "@jupyter-widgets/base",
            "_model_module_version": "1.2.0",
            "_model_name": "LayoutModel",
            "_view_count": null,
            "_view_module": "@jupyter-widgets/base",
            "_view_module_version": "1.2.0",
            "_view_name": "LayoutView",
            "align_content": null,
            "align_items": null,
            "align_self": null,
            "border": null,
            "bottom": null,
            "display": null,
            "flex": null,
            "flex_flow": null,
            "grid_area": null,
            "grid_auto_columns": null,
            "grid_auto_flow": null,
            "grid_auto_rows": null,
            "grid_column": null,
            "grid_gap": null,
            "grid_row": null,
            "grid_template_areas": null,
            "grid_template_columns": null,
            "grid_template_rows": null,
            "height": null,
            "justify_content": null,
            "justify_items": null,
            "left": null,
            "margin": null,
            "max_height": null,
            "max_width": null,
            "min_height": null,
            "min_width": null,
            "object_fit": null,
            "object_position": null,
            "order": null,
            "overflow": null,
            "overflow_x": null,
            "overflow_y": null,
            "padding": null,
            "right": null,
            "top": null,
            "visibility": null,
            "width": null
          }
        },
        "5c3eb221183649d2aa55e8865afb74b0": {
          "model_module": "@jupyter-widgets/controls",
          "model_name": "DescriptionStyleModel",
          "model_module_version": "1.5.0",
          "state": {
            "_model_module": "@jupyter-widgets/controls",
            "_model_module_version": "1.5.0",
            "_model_name": "DescriptionStyleModel",
            "_view_count": null,
            "_view_module": "@jupyter-widgets/base",
            "_view_module_version": "1.2.0",
            "_view_name": "StyleView",
            "description_width": ""
          }
        },
        "ced12ccb0eff4838b2fc992278d8a0ac": {
          "model_module": "@jupyter-widgets/base",
          "model_name": "LayoutModel",
          "model_module_version": "1.2.0",
          "state": {
            "_model_module": "@jupyter-widgets/base",
            "_model_module_version": "1.2.0",
            "_model_name": "LayoutModel",
            "_view_count": null,
            "_view_module": "@jupyter-widgets/base",
            "_view_module_version": "1.2.0",
            "_view_name": "LayoutView",
            "align_content": null,
            "align_items": null,
            "align_self": null,
            "border": null,
            "bottom": null,
            "display": null,
            "flex": null,
            "flex_flow": null,
            "grid_area": null,
            "grid_auto_columns": null,
            "grid_auto_flow": null,
            "grid_auto_rows": null,
            "grid_column": null,
            "grid_gap": null,
            "grid_row": null,
            "grid_template_areas": null,
            "grid_template_columns": null,
            "grid_template_rows": null,
            "height": null,
            "justify_content": null,
            "justify_items": null,
            "left": null,
            "margin": null,
            "max_height": null,
            "max_width": null,
            "min_height": null,
            "min_width": null,
            "object_fit": null,
            "object_position": null,
            "order": null,
            "overflow": null,
            "overflow_x": null,
            "overflow_y": null,
            "padding": null,
            "right": null,
            "top": null,
            "visibility": null,
            "width": null
          }
        },
        "67b35af19b204078b567ce305ba466aa": {
          "model_module": "@jupyter-widgets/controls",
          "model_name": "ProgressStyleModel",
          "model_module_version": "1.5.0",
          "state": {
            "_model_module": "@jupyter-widgets/controls",
            "_model_module_version": "1.5.0",
            "_model_name": "ProgressStyleModel",
            "_view_count": null,
            "_view_module": "@jupyter-widgets/base",
            "_view_module_version": "1.2.0",
            "_view_name": "StyleView",
            "bar_color": null,
            "description_width": ""
          }
        },
        "1e26438f19d04443a9b94879ad796e26": {
          "model_module": "@jupyter-widgets/base",
          "model_name": "LayoutModel",
          "model_module_version": "1.2.0",
          "state": {
            "_model_module": "@jupyter-widgets/base",
            "_model_module_version": "1.2.0",
            "_model_name": "LayoutModel",
            "_view_count": null,
            "_view_module": "@jupyter-widgets/base",
            "_view_module_version": "1.2.0",
            "_view_name": "LayoutView",
            "align_content": null,
            "align_items": null,
            "align_self": null,
            "border": null,
            "bottom": null,
            "display": null,
            "flex": null,
            "flex_flow": null,
            "grid_area": null,
            "grid_auto_columns": null,
            "grid_auto_flow": null,
            "grid_auto_rows": null,
            "grid_column": null,
            "grid_gap": null,
            "grid_row": null,
            "grid_template_areas": null,
            "grid_template_columns": null,
            "grid_template_rows": null,
            "height": null,
            "justify_content": null,
            "justify_items": null,
            "left": null,
            "margin": null,
            "max_height": null,
            "max_width": null,
            "min_height": null,
            "min_width": null,
            "object_fit": null,
            "object_position": null,
            "order": null,
            "overflow": null,
            "overflow_x": null,
            "overflow_y": null,
            "padding": null,
            "right": null,
            "top": null,
            "visibility": null,
            "width": null
          }
        },
        "4d7e1e4361f34e559b59b0c909b13e1a": {
          "model_module": "@jupyter-widgets/controls",
          "model_name": "DescriptionStyleModel",
          "model_module_version": "1.5.0",
          "state": {
            "_model_module": "@jupyter-widgets/controls",
            "_model_module_version": "1.5.0",
            "_model_name": "DescriptionStyleModel",
            "_view_count": null,
            "_view_module": "@jupyter-widgets/base",
            "_view_module_version": "1.2.0",
            "_view_name": "StyleView",
            "description_width": ""
          }
        },
        "9211d66465cd40828e25393d9551ba46": {
          "model_module": "@jupyter-widgets/controls",
          "model_name": "HBoxModel",
          "model_module_version": "1.5.0",
          "state": {
            "_dom_classes": [],
            "_model_module": "@jupyter-widgets/controls",
            "_model_module_version": "1.5.0",
            "_model_name": "HBoxModel",
            "_view_count": null,
            "_view_module": "@jupyter-widgets/controls",
            "_view_module_version": "1.5.0",
            "_view_name": "HBoxView",
            "box_style": "",
            "children": [
              "IPY_MODEL_464cb5c14eb841519e8b381184ca2e25",
              "IPY_MODEL_ee0582bee37543299efe17f23274d94f",
              "IPY_MODEL_5a3a32dfe9784925ad85cadfca4551f3"
            ],
            "layout": "IPY_MODEL_49f4f62d74e040d5bd49c6b6eaedb656"
          }
        },
        "464cb5c14eb841519e8b381184ca2e25": {
          "model_module": "@jupyter-widgets/controls",
          "model_name": "HTMLModel",
          "model_module_version": "1.5.0",
          "state": {
            "_dom_classes": [],
            "_model_module": "@jupyter-widgets/controls",
            "_model_module_version": "1.5.0",
            "_model_name": "HTMLModel",
            "_view_count": null,
            "_view_module": "@jupyter-widgets/controls",
            "_view_module_version": "1.5.0",
            "_view_name": "HTMLView",
            "description": "",
            "description_tooltip": null,
            "layout": "IPY_MODEL_25f59a9bdedd4d51aef987148044fa2c",
            "placeholder": "​",
            "style": "IPY_MODEL_df86b47f9820486f8baf3ec079698998",
            "value": "Downloading: 100%"
          }
        },
        "ee0582bee37543299efe17f23274d94f": {
          "model_module": "@jupyter-widgets/controls",
          "model_name": "FloatProgressModel",
          "model_module_version": "1.5.0",
          "state": {
            "_dom_classes": [],
            "_model_module": "@jupyter-widgets/controls",
            "_model_module_version": "1.5.0",
            "_model_name": "FloatProgressModel",
            "_view_count": null,
            "_view_module": "@jupyter-widgets/controls",
            "_view_module_version": "1.5.0",
            "_view_name": "ProgressView",
            "bar_style": "success",
            "description": "",
            "description_tooltip": null,
            "layout": "IPY_MODEL_b5db6cda593b42c184060b26ba29c223",
            "max": 713,
            "min": 0,
            "orientation": "horizontal",
            "style": "IPY_MODEL_6f55600338074ca1a7eccf615c4a76f8",
            "value": 713
          }
        },
        "5a3a32dfe9784925ad85cadfca4551f3": {
          "model_module": "@jupyter-widgets/controls",
          "model_name": "HTMLModel",
          "model_module_version": "1.5.0",
          "state": {
            "_dom_classes": [],
            "_model_module": "@jupyter-widgets/controls",
            "_model_module_version": "1.5.0",
            "_model_name": "HTMLModel",
            "_view_count": null,
            "_view_module": "@jupyter-widgets/controls",
            "_view_module_version": "1.5.0",
            "_view_name": "HTMLView",
            "description": "",
            "description_tooltip": null,
            "layout": "IPY_MODEL_48e6117c47dd4182865454418dc7f778",
            "placeholder": "​",
            "style": "IPY_MODEL_8458731523ab47938936f88d78095309",
            "value": " 713/713 [00:00&lt;00:00, 21.9kB/s]"
          }
        },
        "49f4f62d74e040d5bd49c6b6eaedb656": {
          "model_module": "@jupyter-widgets/base",
          "model_name": "LayoutModel",
          "model_module_version": "1.2.0",
          "state": {
            "_model_module": "@jupyter-widgets/base",
            "_model_module_version": "1.2.0",
            "_model_name": "LayoutModel",
            "_view_count": null,
            "_view_module": "@jupyter-widgets/base",
            "_view_module_version": "1.2.0",
            "_view_name": "LayoutView",
            "align_content": null,
            "align_items": null,
            "align_self": null,
            "border": null,
            "bottom": null,
            "display": null,
            "flex": null,
            "flex_flow": null,
            "grid_area": null,
            "grid_auto_columns": null,
            "grid_auto_flow": null,
            "grid_auto_rows": null,
            "grid_column": null,
            "grid_gap": null,
            "grid_row": null,
            "grid_template_areas": null,
            "grid_template_columns": null,
            "grid_template_rows": null,
            "height": null,
            "justify_content": null,
            "justify_items": null,
            "left": null,
            "margin": null,
            "max_height": null,
            "max_width": null,
            "min_height": null,
            "min_width": null,
            "object_fit": null,
            "object_position": null,
            "order": null,
            "overflow": null,
            "overflow_x": null,
            "overflow_y": null,
            "padding": null,
            "right": null,
            "top": null,
            "visibility": null,
            "width": null
          }
        },
        "25f59a9bdedd4d51aef987148044fa2c": {
          "model_module": "@jupyter-widgets/base",
          "model_name": "LayoutModel",
          "model_module_version": "1.2.0",
          "state": {
            "_model_module": "@jupyter-widgets/base",
            "_model_module_version": "1.2.0",
            "_model_name": "LayoutModel",
            "_view_count": null,
            "_view_module": "@jupyter-widgets/base",
            "_view_module_version": "1.2.0",
            "_view_name": "LayoutView",
            "align_content": null,
            "align_items": null,
            "align_self": null,
            "border": null,
            "bottom": null,
            "display": null,
            "flex": null,
            "flex_flow": null,
            "grid_area": null,
            "grid_auto_columns": null,
            "grid_auto_flow": null,
            "grid_auto_rows": null,
            "grid_column": null,
            "grid_gap": null,
            "grid_row": null,
            "grid_template_areas": null,
            "grid_template_columns": null,
            "grid_template_rows": null,
            "height": null,
            "justify_content": null,
            "justify_items": null,
            "left": null,
            "margin": null,
            "max_height": null,
            "max_width": null,
            "min_height": null,
            "min_width": null,
            "object_fit": null,
            "object_position": null,
            "order": null,
            "overflow": null,
            "overflow_x": null,
            "overflow_y": null,
            "padding": null,
            "right": null,
            "top": null,
            "visibility": null,
            "width": null
          }
        },
        "df86b47f9820486f8baf3ec079698998": {
          "model_module": "@jupyter-widgets/controls",
          "model_name": "DescriptionStyleModel",
          "model_module_version": "1.5.0",
          "state": {
            "_model_module": "@jupyter-widgets/controls",
            "_model_module_version": "1.5.0",
            "_model_name": "DescriptionStyleModel",
            "_view_count": null,
            "_view_module": "@jupyter-widgets/base",
            "_view_module_version": "1.2.0",
            "_view_name": "StyleView",
            "description_width": ""
          }
        },
        "b5db6cda593b42c184060b26ba29c223": {
          "model_module": "@jupyter-widgets/base",
          "model_name": "LayoutModel",
          "model_module_version": "1.2.0",
          "state": {
            "_model_module": "@jupyter-widgets/base",
            "_model_module_version": "1.2.0",
            "_model_name": "LayoutModel",
            "_view_count": null,
            "_view_module": "@jupyter-widgets/base",
            "_view_module_version": "1.2.0",
            "_view_name": "LayoutView",
            "align_content": null,
            "align_items": null,
            "align_self": null,
            "border": null,
            "bottom": null,
            "display": null,
            "flex": null,
            "flex_flow": null,
            "grid_area": null,
            "grid_auto_columns": null,
            "grid_auto_flow": null,
            "grid_auto_rows": null,
            "grid_column": null,
            "grid_gap": null,
            "grid_row": null,
            "grid_template_areas": null,
            "grid_template_columns": null,
            "grid_template_rows": null,
            "height": null,
            "justify_content": null,
            "justify_items": null,
            "left": null,
            "margin": null,
            "max_height": null,
            "max_width": null,
            "min_height": null,
            "min_width": null,
            "object_fit": null,
            "object_position": null,
            "order": null,
            "overflow": null,
            "overflow_x": null,
            "overflow_y": null,
            "padding": null,
            "right": null,
            "top": null,
            "visibility": null,
            "width": null
          }
        },
        "6f55600338074ca1a7eccf615c4a76f8": {
          "model_module": "@jupyter-widgets/controls",
          "model_name": "ProgressStyleModel",
          "model_module_version": "1.5.0",
          "state": {
            "_model_module": "@jupyter-widgets/controls",
            "_model_module_version": "1.5.0",
            "_model_name": "ProgressStyleModel",
            "_view_count": null,
            "_view_module": "@jupyter-widgets/base",
            "_view_module_version": "1.2.0",
            "_view_name": "StyleView",
            "bar_color": null,
            "description_width": ""
          }
        },
        "48e6117c47dd4182865454418dc7f778": {
          "model_module": "@jupyter-widgets/base",
          "model_name": "LayoutModel",
          "model_module_version": "1.2.0",
          "state": {
            "_model_module": "@jupyter-widgets/base",
            "_model_module_version": "1.2.0",
            "_model_name": "LayoutModel",
            "_view_count": null,
            "_view_module": "@jupyter-widgets/base",
            "_view_module_version": "1.2.0",
            "_view_name": "LayoutView",
            "align_content": null,
            "align_items": null,
            "align_self": null,
            "border": null,
            "bottom": null,
            "display": null,
            "flex": null,
            "flex_flow": null,
            "grid_area": null,
            "grid_auto_columns": null,
            "grid_auto_flow": null,
            "grid_auto_rows": null,
            "grid_column": null,
            "grid_gap": null,
            "grid_row": null,
            "grid_template_areas": null,
            "grid_template_columns": null,
            "grid_template_rows": null,
            "height": null,
            "justify_content": null,
            "justify_items": null,
            "left": null,
            "margin": null,
            "max_height": null,
            "max_width": null,
            "min_height": null,
            "min_width": null,
            "object_fit": null,
            "object_position": null,
            "order": null,
            "overflow": null,
            "overflow_x": null,
            "overflow_y": null,
            "padding": null,
            "right": null,
            "top": null,
            "visibility": null,
            "width": null
          }
        },
        "8458731523ab47938936f88d78095309": {
          "model_module": "@jupyter-widgets/controls",
          "model_name": "DescriptionStyleModel",
          "model_module_version": "1.5.0",
          "state": {
            "_model_module": "@jupyter-widgets/controls",
            "_model_module_version": "1.5.0",
            "_model_name": "DescriptionStyleModel",
            "_view_count": null,
            "_view_module": "@jupyter-widgets/base",
            "_view_module_version": "1.2.0",
            "_view_name": "StyleView",
            "description_width": ""
          }
        },
        "cff7e8f96f6949b38c3b192e4cc7ff99": {
          "model_module": "@jupyter-widgets/controls",
          "model_name": "HBoxModel",
          "model_module_version": "1.5.0",
          "state": {
            "_dom_classes": [],
            "_model_module": "@jupyter-widgets/controls",
            "_model_module_version": "1.5.0",
            "_model_name": "HBoxModel",
            "_view_count": null,
            "_view_module": "@jupyter-widgets/controls",
            "_view_module_version": "1.5.0",
            "_view_name": "HBoxView",
            "box_style": "",
            "children": [
              "IPY_MODEL_841a7525b1864f879f051b8c3b52c638",
              "IPY_MODEL_162a225470c34996a971affa6fe071a6",
              "IPY_MODEL_8455b62b29db41a5a5799f111ad71a82"
            ],
            "layout": "IPY_MODEL_a409ec52547f406c886546f1be59cf9b"
          }
        },
        "841a7525b1864f879f051b8c3b52c638": {
          "model_module": "@jupyter-widgets/controls",
          "model_name": "HTMLModel",
          "model_module_version": "1.5.0",
          "state": {
            "_dom_classes": [],
            "_model_module": "@jupyter-widgets/controls",
            "_model_module_version": "1.5.0",
            "_model_name": "HTMLModel",
            "_view_count": null,
            "_view_module": "@jupyter-widgets/controls",
            "_view_module_version": "1.5.0",
            "_view_name": "HTMLView",
            "description": "",
            "description_tooltip": null,
            "layout": "IPY_MODEL_f231f0ac1cba4b8fa9d01cf44732762f",
            "placeholder": "​",
            "style": "IPY_MODEL_bfc8e89ba4e64695896a70aa9231d352",
            "value": "Downloading: 100%"
          }
        },
        "162a225470c34996a971affa6fe071a6": {
          "model_module": "@jupyter-widgets/controls",
          "model_name": "FloatProgressModel",
          "model_module_version": "1.5.0",
          "state": {
            "_dom_classes": [],
            "_model_module": "@jupyter-widgets/controls",
            "_model_module_version": "1.5.0",
            "_model_name": "FloatProgressModel",
            "_view_count": null,
            "_view_module": "@jupyter-widgets/controls",
            "_view_module_version": "1.5.0",
            "_view_name": "ProgressView",
            "bar_style": "success",
            "description": "",
            "description_tooltip": null,
            "layout": "IPY_MODEL_128b4793bd104995a7bf2f15a76ee45d",
            "max": 4462,
            "min": 0,
            "orientation": "horizontal",
            "style": "IPY_MODEL_02925db509c342a6b3e1dafcf69b8da0",
            "value": 4462
          }
        },
        "8455b62b29db41a5a5799f111ad71a82": {
          "model_module": "@jupyter-widgets/controls",
          "model_name": "HTMLModel",
          "model_module_version": "1.5.0",
          "state": {
            "_dom_classes": [],
            "_model_module": "@jupyter-widgets/controls",
            "_model_module_version": "1.5.0",
            "_model_name": "HTMLModel",
            "_view_count": null,
            "_view_module": "@jupyter-widgets/controls",
            "_view_module_version": "1.5.0",
            "_view_name": "HTMLView",
            "description": "",
            "description_tooltip": null,
            "layout": "IPY_MODEL_50b8ab2c6e7545d5828e7a2d5c400a7c",
            "placeholder": "​",
            "style": "IPY_MODEL_bfe599e32d314e878f71f59da5b01f7e",
            "value": " 4.46k/4.46k [00:00&lt;00:00, 139kB/s]"
          }
        },
        "a409ec52547f406c886546f1be59cf9b": {
          "model_module": "@jupyter-widgets/base",
          "model_name": "LayoutModel",
          "model_module_version": "1.2.0",
          "state": {
            "_model_module": "@jupyter-widgets/base",
            "_model_module_version": "1.2.0",
            "_model_name": "LayoutModel",
            "_view_count": null,
            "_view_module": "@jupyter-widgets/base",
            "_view_module_version": "1.2.0",
            "_view_name": "LayoutView",
            "align_content": null,
            "align_items": null,
            "align_self": null,
            "border": null,
            "bottom": null,
            "display": null,
            "flex": null,
            "flex_flow": null,
            "grid_area": null,
            "grid_auto_columns": null,
            "grid_auto_flow": null,
            "grid_auto_rows": null,
            "grid_column": null,
            "grid_gap": null,
            "grid_row": null,
            "grid_template_areas": null,
            "grid_template_columns": null,
            "grid_template_rows": null,
            "height": null,
            "justify_content": null,
            "justify_items": null,
            "left": null,
            "margin": null,
            "max_height": null,
            "max_width": null,
            "min_height": null,
            "min_width": null,
            "object_fit": null,
            "object_position": null,
            "order": null,
            "overflow": null,
            "overflow_x": null,
            "overflow_y": null,
            "padding": null,
            "right": null,
            "top": null,
            "visibility": null,
            "width": null
          }
        },
        "f231f0ac1cba4b8fa9d01cf44732762f": {
          "model_module": "@jupyter-widgets/base",
          "model_name": "LayoutModel",
          "model_module_version": "1.2.0",
          "state": {
            "_model_module": "@jupyter-widgets/base",
            "_model_module_version": "1.2.0",
            "_model_name": "LayoutModel",
            "_view_count": null,
            "_view_module": "@jupyter-widgets/base",
            "_view_module_version": "1.2.0",
            "_view_name": "LayoutView",
            "align_content": null,
            "align_items": null,
            "align_self": null,
            "border": null,
            "bottom": null,
            "display": null,
            "flex": null,
            "flex_flow": null,
            "grid_area": null,
            "grid_auto_columns": null,
            "grid_auto_flow": null,
            "grid_auto_rows": null,
            "grid_column": null,
            "grid_gap": null,
            "grid_row": null,
            "grid_template_areas": null,
            "grid_template_columns": null,
            "grid_template_rows": null,
            "height": null,
            "justify_content": null,
            "justify_items": null,
            "left": null,
            "margin": null,
            "max_height": null,
            "max_width": null,
            "min_height": null,
            "min_width": null,
            "object_fit": null,
            "object_position": null,
            "order": null,
            "overflow": null,
            "overflow_x": null,
            "overflow_y": null,
            "padding": null,
            "right": null,
            "top": null,
            "visibility": null,
            "width": null
          }
        },
        "bfc8e89ba4e64695896a70aa9231d352": {
          "model_module": "@jupyter-widgets/controls",
          "model_name": "DescriptionStyleModel",
          "model_module_version": "1.5.0",
          "state": {
            "_model_module": "@jupyter-widgets/controls",
            "_model_module_version": "1.5.0",
            "_model_name": "DescriptionStyleModel",
            "_view_count": null,
            "_view_module": "@jupyter-widgets/base",
            "_view_module_version": "1.2.0",
            "_view_name": "StyleView",
            "description_width": ""
          }
        },
        "128b4793bd104995a7bf2f15a76ee45d": {
          "model_module": "@jupyter-widgets/base",
          "model_name": "LayoutModel",
          "model_module_version": "1.2.0",
          "state": {
            "_model_module": "@jupyter-widgets/base",
            "_model_module_version": "1.2.0",
            "_model_name": "LayoutModel",
            "_view_count": null,
            "_view_module": "@jupyter-widgets/base",
            "_view_module_version": "1.2.0",
            "_view_name": "LayoutView",
            "align_content": null,
            "align_items": null,
            "align_self": null,
            "border": null,
            "bottom": null,
            "display": null,
            "flex": null,
            "flex_flow": null,
            "grid_area": null,
            "grid_auto_columns": null,
            "grid_auto_flow": null,
            "grid_auto_rows": null,
            "grid_column": null,
            "grid_gap": null,
            "grid_row": null,
            "grid_template_areas": null,
            "grid_template_columns": null,
            "grid_template_rows": null,
            "height": null,
            "justify_content": null,
            "justify_items": null,
            "left": null,
            "margin": null,
            "max_height": null,
            "max_width": null,
            "min_height": null,
            "min_width": null,
            "object_fit": null,
            "object_position": null,
            "order": null,
            "overflow": null,
            "overflow_x": null,
            "overflow_y": null,
            "padding": null,
            "right": null,
            "top": null,
            "visibility": null,
            "width": null
          }
        },
        "02925db509c342a6b3e1dafcf69b8da0": {
          "model_module": "@jupyter-widgets/controls",
          "model_name": "ProgressStyleModel",
          "model_module_version": "1.5.0",
          "state": {
            "_model_module": "@jupyter-widgets/controls",
            "_model_module_version": "1.5.0",
            "_model_name": "ProgressStyleModel",
            "_view_count": null,
            "_view_module": "@jupyter-widgets/base",
            "_view_module_version": "1.2.0",
            "_view_name": "StyleView",
            "bar_color": null,
            "description_width": ""
          }
        },
        "50b8ab2c6e7545d5828e7a2d5c400a7c": {
          "model_module": "@jupyter-widgets/base",
          "model_name": "LayoutModel",
          "model_module_version": "1.2.0",
          "state": {
            "_model_module": "@jupyter-widgets/base",
            "_model_module_version": "1.2.0",
            "_model_name": "LayoutModel",
            "_view_count": null,
            "_view_module": "@jupyter-widgets/base",
            "_view_module_version": "1.2.0",
            "_view_name": "LayoutView",
            "align_content": null,
            "align_items": null,
            "align_self": null,
            "border": null,
            "bottom": null,
            "display": null,
            "flex": null,
            "flex_flow": null,
            "grid_area": null,
            "grid_auto_columns": null,
            "grid_auto_flow": null,
            "grid_auto_rows": null,
            "grid_column": null,
            "grid_gap": null,
            "grid_row": null,
            "grid_template_areas": null,
            "grid_template_columns": null,
            "grid_template_rows": null,
            "height": null,
            "justify_content": null,
            "justify_items": null,
            "left": null,
            "margin": null,
            "max_height": null,
            "max_width": null,
            "min_height": null,
            "min_width": null,
            "object_fit": null,
            "object_position": null,
            "order": null,
            "overflow": null,
            "overflow_x": null,
            "overflow_y": null,
            "padding": null,
            "right": null,
            "top": null,
            "visibility": null,
            "width": null
          }
        },
        "bfe599e32d314e878f71f59da5b01f7e": {
          "model_module": "@jupyter-widgets/controls",
          "model_name": "DescriptionStyleModel",
          "model_module_version": "1.5.0",
          "state": {
            "_model_module": "@jupyter-widgets/controls",
            "_model_module_version": "1.5.0",
            "_model_name": "DescriptionStyleModel",
            "_view_count": null,
            "_view_module": "@jupyter-widgets/base",
            "_view_module_version": "1.2.0",
            "_view_name": "StyleView",
            "description_width": ""
          }
        },
        "b6727b28ae934ec89ec616bb12f96d97": {
          "model_module": "@jupyter-widgets/controls",
          "model_name": "HBoxModel",
          "model_module_version": "1.5.0",
          "state": {
            "_dom_classes": [],
            "_model_module": "@jupyter-widgets/controls",
            "_model_module_version": "1.5.0",
            "_model_name": "HBoxModel",
            "_view_count": null,
            "_view_module": "@jupyter-widgets/controls",
            "_view_module_version": "1.5.0",
            "_view_name": "HBoxView",
            "box_style": "",
            "children": [
              "IPY_MODEL_73377230fe474f9d95c699510db8390b",
              "IPY_MODEL_47ce8ec1254a4cb98616e4e72c437c2b",
              "IPY_MODEL_55c1701c12264c3d8988110f32cdbbbd"
            ],
            "layout": "IPY_MODEL_b39e588126e341029e6f1faa9fe936f8"
          }
        },
        "73377230fe474f9d95c699510db8390b": {
          "model_module": "@jupyter-widgets/controls",
          "model_name": "HTMLModel",
          "model_module_version": "1.5.0",
          "state": {
            "_dom_classes": [],
            "_model_module": "@jupyter-widgets/controls",
            "_model_module_version": "1.5.0",
            "_model_name": "HTMLModel",
            "_view_count": null,
            "_view_module": "@jupyter-widgets/controls",
            "_view_module_version": "1.5.0",
            "_view_name": "HTMLView",
            "description": "",
            "description_tooltip": null,
            "layout": "IPY_MODEL_f34f35c427f44f08a99b53a81413b90d",
            "placeholder": "​",
            "style": "IPY_MODEL_459c28685c5c4dbb8b59a206508acda6",
            "value": "Downloading: 100%"
          }
        },
        "47ce8ec1254a4cb98616e4e72c437c2b": {
          "model_module": "@jupyter-widgets/controls",
          "model_name": "FloatProgressModel",
          "model_module_version": "1.5.0",
          "state": {
            "_dom_classes": [],
            "_model_module": "@jupyter-widgets/controls",
            "_model_module_version": "1.5.0",
            "_model_name": "FloatProgressModel",
            "_view_count": null,
            "_view_module": "@jupyter-widgets/controls",
            "_view_module_version": "1.5.0",
            "_view_name": "ProgressView",
            "bar_style": "success",
            "description": "",
            "description_tooltip": null,
            "layout": "IPY_MODEL_f7e04adfcb0144bcb4d3260361f02287",
            "max": 316,
            "min": 0,
            "orientation": "horizontal",
            "style": "IPY_MODEL_a4d6430e6daf46f7a26269aeced57d31",
            "value": 316
          }
        },
        "55c1701c12264c3d8988110f32cdbbbd": {
          "model_module": "@jupyter-widgets/controls",
          "model_name": "HTMLModel",
          "model_module_version": "1.5.0",
          "state": {
            "_dom_classes": [],
            "_model_module": "@jupyter-widgets/controls",
            "_model_module_version": "1.5.0",
            "_model_name": "HTMLModel",
            "_view_count": null,
            "_view_module": "@jupyter-widgets/controls",
            "_view_module_version": "1.5.0",
            "_view_name": "HTMLView",
            "description": "",
            "description_tooltip": null,
            "layout": "IPY_MODEL_6af4bf2d3103455b90c999a59f9f5383",
            "placeholder": "​",
            "style": "IPY_MODEL_b9f1943f4b484655a8c9a974ae62578d",
            "value": " 316/316 [00:00&lt;00:00, 10.4kB/s]"
          }
        },
        "b39e588126e341029e6f1faa9fe936f8": {
          "model_module": "@jupyter-widgets/base",
          "model_name": "LayoutModel",
          "model_module_version": "1.2.0",
          "state": {
            "_model_module": "@jupyter-widgets/base",
            "_model_module_version": "1.2.0",
            "_model_name": "LayoutModel",
            "_view_count": null,
            "_view_module": "@jupyter-widgets/base",
            "_view_module_version": "1.2.0",
            "_view_name": "LayoutView",
            "align_content": null,
            "align_items": null,
            "align_self": null,
            "border": null,
            "bottom": null,
            "display": null,
            "flex": null,
            "flex_flow": null,
            "grid_area": null,
            "grid_auto_columns": null,
            "grid_auto_flow": null,
            "grid_auto_rows": null,
            "grid_column": null,
            "grid_gap": null,
            "grid_row": null,
            "grid_template_areas": null,
            "grid_template_columns": null,
            "grid_template_rows": null,
            "height": null,
            "justify_content": null,
            "justify_items": null,
            "left": null,
            "margin": null,
            "max_height": null,
            "max_width": null,
            "min_height": null,
            "min_width": null,
            "object_fit": null,
            "object_position": null,
            "order": null,
            "overflow": null,
            "overflow_x": null,
            "overflow_y": null,
            "padding": null,
            "right": null,
            "top": null,
            "visibility": null,
            "width": null
          }
        },
        "f34f35c427f44f08a99b53a81413b90d": {
          "model_module": "@jupyter-widgets/base",
          "model_name": "LayoutModel",
          "model_module_version": "1.2.0",
          "state": {
            "_model_module": "@jupyter-widgets/base",
            "_model_module_version": "1.2.0",
            "_model_name": "LayoutModel",
            "_view_count": null,
            "_view_module": "@jupyter-widgets/base",
            "_view_module_version": "1.2.0",
            "_view_name": "LayoutView",
            "align_content": null,
            "align_items": null,
            "align_self": null,
            "border": null,
            "bottom": null,
            "display": null,
            "flex": null,
            "flex_flow": null,
            "grid_area": null,
            "grid_auto_columns": null,
            "grid_auto_flow": null,
            "grid_auto_rows": null,
            "grid_column": null,
            "grid_gap": null,
            "grid_row": null,
            "grid_template_areas": null,
            "grid_template_columns": null,
            "grid_template_rows": null,
            "height": null,
            "justify_content": null,
            "justify_items": null,
            "left": null,
            "margin": null,
            "max_height": null,
            "max_width": null,
            "min_height": null,
            "min_width": null,
            "object_fit": null,
            "object_position": null,
            "order": null,
            "overflow": null,
            "overflow_x": null,
            "overflow_y": null,
            "padding": null,
            "right": null,
            "top": null,
            "visibility": null,
            "width": null
          }
        },
        "459c28685c5c4dbb8b59a206508acda6": {
          "model_module": "@jupyter-widgets/controls",
          "model_name": "DescriptionStyleModel",
          "model_module_version": "1.5.0",
          "state": {
            "_model_module": "@jupyter-widgets/controls",
            "_model_module_version": "1.5.0",
            "_model_name": "DescriptionStyleModel",
            "_view_count": null,
            "_view_module": "@jupyter-widgets/base",
            "_view_module_version": "1.2.0",
            "_view_name": "StyleView",
            "description_width": ""
          }
        },
        "f7e04adfcb0144bcb4d3260361f02287": {
          "model_module": "@jupyter-widgets/base",
          "model_name": "LayoutModel",
          "model_module_version": "1.2.0",
          "state": {
            "_model_module": "@jupyter-widgets/base",
            "_model_module_version": "1.2.0",
            "_model_name": "LayoutModel",
            "_view_count": null,
            "_view_module": "@jupyter-widgets/base",
            "_view_module_version": "1.2.0",
            "_view_name": "LayoutView",
            "align_content": null,
            "align_items": null,
            "align_self": null,
            "border": null,
            "bottom": null,
            "display": null,
            "flex": null,
            "flex_flow": null,
            "grid_area": null,
            "grid_auto_columns": null,
            "grid_auto_flow": null,
            "grid_auto_rows": null,
            "grid_column": null,
            "grid_gap": null,
            "grid_row": null,
            "grid_template_areas": null,
            "grid_template_columns": null,
            "grid_template_rows": null,
            "height": null,
            "justify_content": null,
            "justify_items": null,
            "left": null,
            "margin": null,
            "max_height": null,
            "max_width": null,
            "min_height": null,
            "min_width": null,
            "object_fit": null,
            "object_position": null,
            "order": null,
            "overflow": null,
            "overflow_x": null,
            "overflow_y": null,
            "padding": null,
            "right": null,
            "top": null,
            "visibility": null,
            "width": null
          }
        },
        "a4d6430e6daf46f7a26269aeced57d31": {
          "model_module": "@jupyter-widgets/controls",
          "model_name": "ProgressStyleModel",
          "model_module_version": "1.5.0",
          "state": {
            "_model_module": "@jupyter-widgets/controls",
            "_model_module_version": "1.5.0",
            "_model_name": "ProgressStyleModel",
            "_view_count": null,
            "_view_module": "@jupyter-widgets/base",
            "_view_module_version": "1.2.0",
            "_view_name": "StyleView",
            "bar_color": null,
            "description_width": ""
          }
        },
        "6af4bf2d3103455b90c999a59f9f5383": {
          "model_module": "@jupyter-widgets/base",
          "model_name": "LayoutModel",
          "model_module_version": "1.2.0",
          "state": {
            "_model_module": "@jupyter-widgets/base",
            "_model_module_version": "1.2.0",
            "_model_name": "LayoutModel",
            "_view_count": null,
            "_view_module": "@jupyter-widgets/base",
            "_view_module_version": "1.2.0",
            "_view_name": "LayoutView",
            "align_content": null,
            "align_items": null,
            "align_self": null,
            "border": null,
            "bottom": null,
            "display": null,
            "flex": null,
            "flex_flow": null,
            "grid_area": null,
            "grid_auto_columns": null,
            "grid_auto_flow": null,
            "grid_auto_rows": null,
            "grid_column": null,
            "grid_gap": null,
            "grid_row": null,
            "grid_template_areas": null,
            "grid_template_columns": null,
            "grid_template_rows": null,
            "height": null,
            "justify_content": null,
            "justify_items": null,
            "left": null,
            "margin": null,
            "max_height": null,
            "max_width": null,
            "min_height": null,
            "min_width": null,
            "object_fit": null,
            "object_position": null,
            "order": null,
            "overflow": null,
            "overflow_x": null,
            "overflow_y": null,
            "padding": null,
            "right": null,
            "top": null,
            "visibility": null,
            "width": null
          }
        },
        "b9f1943f4b484655a8c9a974ae62578d": {
          "model_module": "@jupyter-widgets/controls",
          "model_name": "DescriptionStyleModel",
          "model_module_version": "1.5.0",
          "state": {
            "_model_module": "@jupyter-widgets/controls",
            "_model_module_version": "1.5.0",
            "_model_name": "DescriptionStyleModel",
            "_view_count": null,
            "_view_module": "@jupyter-widgets/base",
            "_view_module_version": "1.2.0",
            "_view_name": "StyleView",
            "description_width": ""
          }
        },
        "42fc519fefc14fe4b8178972157a265f": {
          "model_module": "@jupyter-widgets/controls",
          "model_name": "HBoxModel",
          "model_module_version": "1.5.0",
          "state": {
            "_dom_classes": [],
            "_model_module": "@jupyter-widgets/controls",
            "_model_module_version": "1.5.0",
            "_model_name": "HBoxModel",
            "_view_count": null,
            "_view_module": "@jupyter-widgets/controls",
            "_view_module_version": "1.5.0",
            "_view_name": "HBoxView",
            "box_style": "",
            "children": [
              "IPY_MODEL_61e7e8e2b5a845ffa54296015e01706c",
              "IPY_MODEL_482741e0c90c46e3aebb005e8b2d88ac",
              "IPY_MODEL_7fabd782c9cb42bea6e49f65698bf3f9"
            ],
            "layout": "IPY_MODEL_15d9b15c5017448fbd1696e17af3a219"
          }
        },
        "61e7e8e2b5a845ffa54296015e01706c": {
          "model_module": "@jupyter-widgets/controls",
          "model_name": "HTMLModel",
          "model_module_version": "1.5.0",
          "state": {
            "_dom_classes": [],
            "_model_module": "@jupyter-widgets/controls",
            "_model_module_version": "1.5.0",
            "_model_name": "HTMLModel",
            "_view_count": null,
            "_view_module": "@jupyter-widgets/controls",
            "_view_module_version": "1.5.0",
            "_view_name": "HTMLView",
            "description": "",
            "description_tooltip": null,
            "layout": "IPY_MODEL_67dcfe06595e4516837ca0c8fdfeb7fc",
            "placeholder": "​",
            "style": "IPY_MODEL_1955784768d4433eb9544867f8d6bfed",
            "value": "Downloading: 100%"
          }
        },
        "482741e0c90c46e3aebb005e8b2d88ac": {
          "model_module": "@jupyter-widgets/controls",
          "model_name": "FloatProgressModel",
          "model_module_version": "1.5.0",
          "state": {
            "_dom_classes": [],
            "_model_module": "@jupyter-widgets/controls",
            "_model_module_version": "1.5.0",
            "_model_name": "FloatProgressModel",
            "_view_count": null,
            "_view_module": "@jupyter-widgets/controls",
            "_view_module_version": "1.5.0",
            "_view_name": "ProgressView",
            "bar_style": "success",
            "description": "",
            "description_tooltip": null,
            "layout": "IPY_MODEL_ebd74fa5b9544fbcbf1f1718905532a8",
            "max": 349897457,
            "min": 0,
            "orientation": "horizontal",
            "style": "IPY_MODEL_ad3a7db95eee487a8ceeb0cedd5663f6",
            "value": 349897457
          }
        },
        "7fabd782c9cb42bea6e49f65698bf3f9": {
          "model_module": "@jupyter-widgets/controls",
          "model_name": "HTMLModel",
          "model_module_version": "1.5.0",
          "state": {
            "_dom_classes": [],
            "_model_module": "@jupyter-widgets/controls",
            "_model_module_version": "1.5.0",
            "_model_name": "HTMLModel",
            "_view_count": null,
            "_view_module": "@jupyter-widgets/controls",
            "_view_module_version": "1.5.0",
            "_view_name": "HTMLView",
            "description": "",
            "description_tooltip": null,
            "layout": "IPY_MODEL_bf835500aa054d0ea1281dcde5c489d9",
            "placeholder": "​",
            "style": "IPY_MODEL_294e5811562940d8a7a8a07397f2c286",
            "value": " 350M/350M [00:18&lt;00:00, 20.3MB/s]"
          }
        },
        "15d9b15c5017448fbd1696e17af3a219": {
          "model_module": "@jupyter-widgets/base",
          "model_name": "LayoutModel",
          "model_module_version": "1.2.0",
          "state": {
            "_model_module": "@jupyter-widgets/base",
            "_model_module_version": "1.2.0",
            "_model_name": "LayoutModel",
            "_view_count": null,
            "_view_module": "@jupyter-widgets/base",
            "_view_module_version": "1.2.0",
            "_view_name": "LayoutView",
            "align_content": null,
            "align_items": null,
            "align_self": null,
            "border": null,
            "bottom": null,
            "display": null,
            "flex": null,
            "flex_flow": null,
            "grid_area": null,
            "grid_auto_columns": null,
            "grid_auto_flow": null,
            "grid_auto_rows": null,
            "grid_column": null,
            "grid_gap": null,
            "grid_row": null,
            "grid_template_areas": null,
            "grid_template_columns": null,
            "grid_template_rows": null,
            "height": null,
            "justify_content": null,
            "justify_items": null,
            "left": null,
            "margin": null,
            "max_height": null,
            "max_width": null,
            "min_height": null,
            "min_width": null,
            "object_fit": null,
            "object_position": null,
            "order": null,
            "overflow": null,
            "overflow_x": null,
            "overflow_y": null,
            "padding": null,
            "right": null,
            "top": null,
            "visibility": null,
            "width": null
          }
        },
        "67dcfe06595e4516837ca0c8fdfeb7fc": {
          "model_module": "@jupyter-widgets/base",
          "model_name": "LayoutModel",
          "model_module_version": "1.2.0",
          "state": {
            "_model_module": "@jupyter-widgets/base",
            "_model_module_version": "1.2.0",
            "_model_name": "LayoutModel",
            "_view_count": null,
            "_view_module": "@jupyter-widgets/base",
            "_view_module_version": "1.2.0",
            "_view_name": "LayoutView",
            "align_content": null,
            "align_items": null,
            "align_self": null,
            "border": null,
            "bottom": null,
            "display": null,
            "flex": null,
            "flex_flow": null,
            "grid_area": null,
            "grid_auto_columns": null,
            "grid_auto_flow": null,
            "grid_auto_rows": null,
            "grid_column": null,
            "grid_gap": null,
            "grid_row": null,
            "grid_template_areas": null,
            "grid_template_columns": null,
            "grid_template_rows": null,
            "height": null,
            "justify_content": null,
            "justify_items": null,
            "left": null,
            "margin": null,
            "max_height": null,
            "max_width": null,
            "min_height": null,
            "min_width": null,
            "object_fit": null,
            "object_position": null,
            "order": null,
            "overflow": null,
            "overflow_x": null,
            "overflow_y": null,
            "padding": null,
            "right": null,
            "top": null,
            "visibility": null,
            "width": null
          }
        },
        "1955784768d4433eb9544867f8d6bfed": {
          "model_module": "@jupyter-widgets/controls",
          "model_name": "DescriptionStyleModel",
          "model_module_version": "1.5.0",
          "state": {
            "_model_module": "@jupyter-widgets/controls",
            "_model_module_version": "1.5.0",
            "_model_name": "DescriptionStyleModel",
            "_view_count": null,
            "_view_module": "@jupyter-widgets/base",
            "_view_module_version": "1.2.0",
            "_view_name": "StyleView",
            "description_width": ""
          }
        },
        "ebd74fa5b9544fbcbf1f1718905532a8": {
          "model_module": "@jupyter-widgets/base",
          "model_name": "LayoutModel",
          "model_module_version": "1.2.0",
          "state": {
            "_model_module": "@jupyter-widgets/base",
            "_model_module_version": "1.2.0",
            "_model_name": "LayoutModel",
            "_view_count": null,
            "_view_module": "@jupyter-widgets/base",
            "_view_module_version": "1.2.0",
            "_view_name": "LayoutView",
            "align_content": null,
            "align_items": null,
            "align_self": null,
            "border": null,
            "bottom": null,
            "display": null,
            "flex": null,
            "flex_flow": null,
            "grid_area": null,
            "grid_auto_columns": null,
            "grid_auto_flow": null,
            "grid_auto_rows": null,
            "grid_column": null,
            "grid_gap": null,
            "grid_row": null,
            "grid_template_areas": null,
            "grid_template_columns": null,
            "grid_template_rows": null,
            "height": null,
            "justify_content": null,
            "justify_items": null,
            "left": null,
            "margin": null,
            "max_height": null,
            "max_width": null,
            "min_height": null,
            "min_width": null,
            "object_fit": null,
            "object_position": null,
            "order": null,
            "overflow": null,
            "overflow_x": null,
            "overflow_y": null,
            "padding": null,
            "right": null,
            "top": null,
            "visibility": null,
            "width": null
          }
        },
        "ad3a7db95eee487a8ceeb0cedd5663f6": {
          "model_module": "@jupyter-widgets/controls",
          "model_name": "ProgressStyleModel",
          "model_module_version": "1.5.0",
          "state": {
            "_model_module": "@jupyter-widgets/controls",
            "_model_module_version": "1.5.0",
            "_model_name": "ProgressStyleModel",
            "_view_count": null,
            "_view_module": "@jupyter-widgets/base",
            "_view_module_version": "1.2.0",
            "_view_name": "StyleView",
            "bar_color": null,
            "description_width": ""
          }
        },
        "bf835500aa054d0ea1281dcde5c489d9": {
          "model_module": "@jupyter-widgets/base",
          "model_name": "LayoutModel",
          "model_module_version": "1.2.0",
          "state": {
            "_model_module": "@jupyter-widgets/base",
            "_model_module_version": "1.2.0",
            "_model_name": "LayoutModel",
            "_view_count": null,
            "_view_module": "@jupyter-widgets/base",
            "_view_module_version": "1.2.0",
            "_view_name": "LayoutView",
            "align_content": null,
            "align_items": null,
            "align_self": null,
            "border": null,
            "bottom": null,
            "display": null,
            "flex": null,
            "flex_flow": null,
            "grid_area": null,
            "grid_auto_columns": null,
            "grid_auto_flow": null,
            "grid_auto_rows": null,
            "grid_column": null,
            "grid_gap": null,
            "grid_row": null,
            "grid_template_areas": null,
            "grid_template_columns": null,
            "grid_template_rows": null,
            "height": null,
            "justify_content": null,
            "justify_items": null,
            "left": null,
            "margin": null,
            "max_height": null,
            "max_width": null,
            "min_height": null,
            "min_width": null,
            "object_fit": null,
            "object_position": null,
            "order": null,
            "overflow": null,
            "overflow_x": null,
            "overflow_y": null,
            "padding": null,
            "right": null,
            "top": null,
            "visibility": null,
            "width": null
          }
        },
        "294e5811562940d8a7a8a07397f2c286": {
          "model_module": "@jupyter-widgets/controls",
          "model_name": "DescriptionStyleModel",
          "model_module_version": "1.5.0",
          "state": {
            "_model_module": "@jupyter-widgets/controls",
            "_model_module_version": "1.5.0",
            "_model_name": "DescriptionStyleModel",
            "_view_count": null,
            "_view_module": "@jupyter-widgets/base",
            "_view_module_version": "1.2.0",
            "_view_name": "StyleView",
            "description_width": ""
          }
        },
        "69c9fd03454a46ac9e18521611134b0e": {
          "model_module": "@jupyter-widgets/controls",
          "model_name": "HBoxModel",
          "model_module_version": "1.5.0",
          "state": {
            "_dom_classes": [],
            "_model_module": "@jupyter-widgets/controls",
            "_model_module_version": "1.5.0",
            "_model_name": "HBoxModel",
            "_view_count": null,
            "_view_module": "@jupyter-widgets/controls",
            "_view_module_version": "1.5.0",
            "_view_name": "HBoxView",
            "box_style": "",
            "children": [
              "IPY_MODEL_610c0fde4ef94d80b735758732225cf3",
              "IPY_MODEL_63fb25a22a1b4fac95bfebb584d8e11b",
              "IPY_MODEL_c8f86ba8dacb46f0bb3dc380e3d7789a"
            ],
            "layout": "IPY_MODEL_be1bc11ecc624b8db8274ed413df0e5e"
          }
        },
        "610c0fde4ef94d80b735758732225cf3": {
          "model_module": "@jupyter-widgets/controls",
          "model_name": "HTMLModel",
          "model_module_version": "1.5.0",
          "state": {
            "_dom_classes": [],
            "_model_module": "@jupyter-widgets/controls",
            "_model_module_version": "1.5.0",
            "_model_name": "HTMLModel",
            "_view_count": null,
            "_view_module": "@jupyter-widgets/controls",
            "_view_module_version": "1.5.0",
            "_view_name": "HTMLView",
            "description": "",
            "description_tooltip": null,
            "layout": "IPY_MODEL_e49ad7c50abe476c886f08b0b280d762",
            "placeholder": "​",
            "style": "IPY_MODEL_27d05715ba5546cbb01093aaf721e0cc",
            "value": "Downloading: 100%"
          }
        },
        "63fb25a22a1b4fac95bfebb584d8e11b": {
          "model_module": "@jupyter-widgets/controls",
          "model_name": "FloatProgressModel",
          "model_module_version": "1.5.0",
          "state": {
            "_dom_classes": [],
            "_model_module": "@jupyter-widgets/controls",
            "_model_module_version": "1.5.0",
            "_model_name": "FloatProgressModel",
            "_view_count": null,
            "_view_module": "@jupyter-widgets/controls",
            "_view_module_version": "1.5.0",
            "_view_name": "ProgressView",
            "bar_style": "success",
            "description": "",
            "description_tooltip": null,
            "layout": "IPY_MODEL_8ad9ad0228754ad5921b3490c4cca3c3",
            "max": 1573675,
            "min": 0,
            "orientation": "horizontal",
            "style": "IPY_MODEL_0768cd49e3dc4f0aa59fd2e1654be7d7",
            "value": 1573675
          }
        },
        "c8f86ba8dacb46f0bb3dc380e3d7789a": {
          "model_module": "@jupyter-widgets/controls",
          "model_name": "HTMLModel",
          "model_module_version": "1.5.0",
          "state": {
            "_dom_classes": [],
            "_model_module": "@jupyter-widgets/controls",
            "_model_module_version": "1.5.0",
            "_model_name": "HTMLModel",
            "_view_count": null,
            "_view_module": "@jupyter-widgets/controls",
            "_view_module_version": "1.5.0",
            "_view_name": "HTMLView",
            "description": "",
            "description_tooltip": null,
            "layout": "IPY_MODEL_7e70bd29bccf48cea0f1e5c40aee4a0d",
            "placeholder": "​",
            "style": "IPY_MODEL_a7728fa7f0b24fe8a09acc759be60371",
            "value": " 1.57M/1.57M [00:01&lt;00:00, 1.28MB/s]"
          }
        },
        "be1bc11ecc624b8db8274ed413df0e5e": {
          "model_module": "@jupyter-widgets/base",
          "model_name": "LayoutModel",
          "model_module_version": "1.2.0",
          "state": {
            "_model_module": "@jupyter-widgets/base",
            "_model_module_version": "1.2.0",
            "_model_name": "LayoutModel",
            "_view_count": null,
            "_view_module": "@jupyter-widgets/base",
            "_view_module_version": "1.2.0",
            "_view_name": "LayoutView",
            "align_content": null,
            "align_items": null,
            "align_self": null,
            "border": null,
            "bottom": null,
            "display": null,
            "flex": null,
            "flex_flow": null,
            "grid_area": null,
            "grid_auto_columns": null,
            "grid_auto_flow": null,
            "grid_auto_rows": null,
            "grid_column": null,
            "grid_gap": null,
            "grid_row": null,
            "grid_template_areas": null,
            "grid_template_columns": null,
            "grid_template_rows": null,
            "height": null,
            "justify_content": null,
            "justify_items": null,
            "left": null,
            "margin": null,
            "max_height": null,
            "max_width": null,
            "min_height": null,
            "min_width": null,
            "object_fit": null,
            "object_position": null,
            "order": null,
            "overflow": null,
            "overflow_x": null,
            "overflow_y": null,
            "padding": null,
            "right": null,
            "top": null,
            "visibility": null,
            "width": null
          }
        },
        "e49ad7c50abe476c886f08b0b280d762": {
          "model_module": "@jupyter-widgets/base",
          "model_name": "LayoutModel",
          "model_module_version": "1.2.0",
          "state": {
            "_model_module": "@jupyter-widgets/base",
            "_model_module_version": "1.2.0",
            "_model_name": "LayoutModel",
            "_view_count": null,
            "_view_module": "@jupyter-widgets/base",
            "_view_module_version": "1.2.0",
            "_view_name": "LayoutView",
            "align_content": null,
            "align_items": null,
            "align_self": null,
            "border": null,
            "bottom": null,
            "display": null,
            "flex": null,
            "flex_flow": null,
            "grid_area": null,
            "grid_auto_columns": null,
            "grid_auto_flow": null,
            "grid_auto_rows": null,
            "grid_column": null,
            "grid_gap": null,
            "grid_row": null,
            "grid_template_areas": null,
            "grid_template_columns": null,
            "grid_template_rows": null,
            "height": null,
            "justify_content": null,
            "justify_items": null,
            "left": null,
            "margin": null,
            "max_height": null,
            "max_width": null,
            "min_height": null,
            "min_width": null,
            "object_fit": null,
            "object_position": null,
            "order": null,
            "overflow": null,
            "overflow_x": null,
            "overflow_y": null,
            "padding": null,
            "right": null,
            "top": null,
            "visibility": null,
            "width": null
          }
        },
        "27d05715ba5546cbb01093aaf721e0cc": {
          "model_module": "@jupyter-widgets/controls",
          "model_name": "DescriptionStyleModel",
          "model_module_version": "1.5.0",
          "state": {
            "_model_module": "@jupyter-widgets/controls",
            "_model_module_version": "1.5.0",
            "_model_name": "DescriptionStyleModel",
            "_view_count": null,
            "_view_module": "@jupyter-widgets/base",
            "_view_module_version": "1.2.0",
            "_view_name": "StyleView",
            "description_width": ""
          }
        },
        "8ad9ad0228754ad5921b3490c4cca3c3": {
          "model_module": "@jupyter-widgets/base",
          "model_name": "LayoutModel",
          "model_module_version": "1.2.0",
          "state": {
            "_model_module": "@jupyter-widgets/base",
            "_model_module_version": "1.2.0",
            "_model_name": "LayoutModel",
            "_view_count": null,
            "_view_module": "@jupyter-widgets/base",
            "_view_module_version": "1.2.0",
            "_view_name": "LayoutView",
            "align_content": null,
            "align_items": null,
            "align_self": null,
            "border": null,
            "bottom": null,
            "display": null,
            "flex": null,
            "flex_flow": null,
            "grid_area": null,
            "grid_auto_columns": null,
            "grid_auto_flow": null,
            "grid_auto_rows": null,
            "grid_column": null,
            "grid_gap": null,
            "grid_row": null,
            "grid_template_areas": null,
            "grid_template_columns": null,
            "grid_template_rows": null,
            "height": null,
            "justify_content": null,
            "justify_items": null,
            "left": null,
            "margin": null,
            "max_height": null,
            "max_width": null,
            "min_height": null,
            "min_width": null,
            "object_fit": null,
            "object_position": null,
            "order": null,
            "overflow": null,
            "overflow_x": null,
            "overflow_y": null,
            "padding": null,
            "right": null,
            "top": null,
            "visibility": null,
            "width": null
          }
        },
        "0768cd49e3dc4f0aa59fd2e1654be7d7": {
          "model_module": "@jupyter-widgets/controls",
          "model_name": "ProgressStyleModel",
          "model_module_version": "1.5.0",
          "state": {
            "_model_module": "@jupyter-widgets/controls",
            "_model_module_version": "1.5.0",
            "_model_name": "ProgressStyleModel",
            "_view_count": null,
            "_view_module": "@jupyter-widgets/base",
            "_view_module_version": "1.2.0",
            "_view_name": "StyleView",
            "bar_color": null,
            "description_width": ""
          }
        },
        "7e70bd29bccf48cea0f1e5c40aee4a0d": {
          "model_module": "@jupyter-widgets/base",
          "model_name": "LayoutModel",
          "model_module_version": "1.2.0",
          "state": {
            "_model_module": "@jupyter-widgets/base",
            "_model_module_version": "1.2.0",
            "_model_name": "LayoutModel",
            "_view_count": null,
            "_view_module": "@jupyter-widgets/base",
            "_view_module_version": "1.2.0",
            "_view_name": "LayoutView",
            "align_content": null,
            "align_items": null,
            "align_self": null,
            "border": null,
            "bottom": null,
            "display": null,
            "flex": null,
            "flex_flow": null,
            "grid_area": null,
            "grid_auto_columns": null,
            "grid_auto_flow": null,
            "grid_auto_rows": null,
            "grid_column": null,
            "grid_gap": null,
            "grid_row": null,
            "grid_template_areas": null,
            "grid_template_columns": null,
            "grid_template_rows": null,
            "height": null,
            "justify_content": null,
            "justify_items": null,
            "left": null,
            "margin": null,
            "max_height": null,
            "max_width": null,
            "min_height": null,
            "min_width": null,
            "object_fit": null,
            "object_position": null,
            "order": null,
            "overflow": null,
            "overflow_x": null,
            "overflow_y": null,
            "padding": null,
            "right": null,
            "top": null,
            "visibility": null,
            "width": null
          }
        },
        "a7728fa7f0b24fe8a09acc759be60371": {
          "model_module": "@jupyter-widgets/controls",
          "model_name": "DescriptionStyleModel",
          "model_module_version": "1.5.0",
          "state": {
            "_model_module": "@jupyter-widgets/controls",
            "_model_module_version": "1.5.0",
            "_model_name": "DescriptionStyleModel",
            "_view_count": null,
            "_view_module": "@jupyter-widgets/base",
            "_view_module_version": "1.2.0",
            "_view_name": "StyleView",
            "description_width": ""
          }
        },
        "0813c031de05466ea725fb86255545eb": {
          "model_module": "@jupyter-widgets/controls",
          "model_name": "HBoxModel",
          "model_module_version": "1.5.0",
          "state": {
            "_dom_classes": [],
            "_model_module": "@jupyter-widgets/controls",
            "_model_module_version": "1.5.0",
            "_model_name": "HBoxModel",
            "_view_count": null,
            "_view_module": "@jupyter-widgets/controls",
            "_view_module_version": "1.5.0",
            "_view_name": "HBoxView",
            "box_style": "",
            "children": [
              "IPY_MODEL_115263bed1f04ddb83805686a4d16ddc",
              "IPY_MODEL_e4d3dc8af3194cea80b6f92b1e7f9f84",
              "IPY_MODEL_57ac01ce99d144a18a6855058f0a7c37"
            ],
            "layout": "IPY_MODEL_7f6affa5820845e3a088cc46ac303cb9"
          }
        },
        "115263bed1f04ddb83805686a4d16ddc": {
          "model_module": "@jupyter-widgets/controls",
          "model_name": "HTMLModel",
          "model_module_version": "1.5.0",
          "state": {
            "_dom_classes": [],
            "_model_module": "@jupyter-widgets/controls",
            "_model_module_version": "1.5.0",
            "_model_name": "HTMLModel",
            "_view_count": null,
            "_view_module": "@jupyter-widgets/controls",
            "_view_module_version": "1.5.0",
            "_view_name": "HTMLView",
            "description": "",
            "description_tooltip": null,
            "layout": "IPY_MODEL_7f343fcc290842b2ac8ee3d20f8dede2",
            "placeholder": "​",
            "style": "IPY_MODEL_97008deaa0d94889bdc151af416e5efb",
            "value": "Downloading: 100%"
          }
        },
        "e4d3dc8af3194cea80b6f92b1e7f9f84": {
          "model_module": "@jupyter-widgets/controls",
          "model_name": "FloatProgressModel",
          "model_module_version": "1.5.0",
          "state": {
            "_dom_classes": [],
            "_model_module": "@jupyter-widgets/controls",
            "_model_module_version": "1.5.0",
            "_model_name": "FloatProgressModel",
            "_view_count": null,
            "_view_module": "@jupyter-widgets/controls",
            "_view_module_version": "1.5.0",
            "_view_name": "ProgressView",
            "bar_style": "success",
            "description": "",
            "description_tooltip": null,
            "layout": "IPY_MODEL_8db5e7f846354895a5cae93b4dea267b",
            "max": 257706,
            "min": 0,
            "orientation": "horizontal",
            "style": "IPY_MODEL_b81d7d990cbb4fa7bf366f203b55518f",
            "value": 257706
          }
        },
        "57ac01ce99d144a18a6855058f0a7c37": {
          "model_module": "@jupyter-widgets/controls",
          "model_name": "HTMLModel",
          "model_module_version": "1.5.0",
          "state": {
            "_dom_classes": [],
            "_model_module": "@jupyter-widgets/controls",
            "_model_module_version": "1.5.0",
            "_model_name": "HTMLModel",
            "_view_count": null,
            "_view_module": "@jupyter-widgets/controls",
            "_view_module_version": "1.5.0",
            "_view_name": "HTMLView",
            "description": "",
            "description_tooltip": null,
            "layout": "IPY_MODEL_7347aa82de65477084c05463558d5814",
            "placeholder": "​",
            "style": "IPY_MODEL_121d96d6537c4c43b54e4406feadf4b5",
            "value": " 258k/258k [00:00&lt;00:00, 329kB/s]"
          }
        },
        "7f6affa5820845e3a088cc46ac303cb9": {
          "model_module": "@jupyter-widgets/base",
          "model_name": "LayoutModel",
          "model_module_version": "1.2.0",
          "state": {
            "_model_module": "@jupyter-widgets/base",
            "_model_module_version": "1.2.0",
            "_model_name": "LayoutModel",
            "_view_count": null,
            "_view_module": "@jupyter-widgets/base",
            "_view_module_version": "1.2.0",
            "_view_name": "LayoutView",
            "align_content": null,
            "align_items": null,
            "align_self": null,
            "border": null,
            "bottom": null,
            "display": null,
            "flex": null,
            "flex_flow": null,
            "grid_area": null,
            "grid_auto_columns": null,
            "grid_auto_flow": null,
            "grid_auto_rows": null,
            "grid_column": null,
            "grid_gap": null,
            "grid_row": null,
            "grid_template_areas": null,
            "grid_template_columns": null,
            "grid_template_rows": null,
            "height": null,
            "justify_content": null,
            "justify_items": null,
            "left": null,
            "margin": null,
            "max_height": null,
            "max_width": null,
            "min_height": null,
            "min_width": null,
            "object_fit": null,
            "object_position": null,
            "order": null,
            "overflow": null,
            "overflow_x": null,
            "overflow_y": null,
            "padding": null,
            "right": null,
            "top": null,
            "visibility": null,
            "width": null
          }
        },
        "7f343fcc290842b2ac8ee3d20f8dede2": {
          "model_module": "@jupyter-widgets/base",
          "model_name": "LayoutModel",
          "model_module_version": "1.2.0",
          "state": {
            "_model_module": "@jupyter-widgets/base",
            "_model_module_version": "1.2.0",
            "_model_name": "LayoutModel",
            "_view_count": null,
            "_view_module": "@jupyter-widgets/base",
            "_view_module_version": "1.2.0",
            "_view_name": "LayoutView",
            "align_content": null,
            "align_items": null,
            "align_self": null,
            "border": null,
            "bottom": null,
            "display": null,
            "flex": null,
            "flex_flow": null,
            "grid_area": null,
            "grid_auto_columns": null,
            "grid_auto_flow": null,
            "grid_auto_rows": null,
            "grid_column": null,
            "grid_gap": null,
            "grid_row": null,
            "grid_template_areas": null,
            "grid_template_columns": null,
            "grid_template_rows": null,
            "height": null,
            "justify_content": null,
            "justify_items": null,
            "left": null,
            "margin": null,
            "max_height": null,
            "max_width": null,
            "min_height": null,
            "min_width": null,
            "object_fit": null,
            "object_position": null,
            "order": null,
            "overflow": null,
            "overflow_x": null,
            "overflow_y": null,
            "padding": null,
            "right": null,
            "top": null,
            "visibility": null,
            "width": null
          }
        },
        "97008deaa0d94889bdc151af416e5efb": {
          "model_module": "@jupyter-widgets/controls",
          "model_name": "DescriptionStyleModel",
          "model_module_version": "1.5.0",
          "state": {
            "_model_module": "@jupyter-widgets/controls",
            "_model_module_version": "1.5.0",
            "_model_name": "DescriptionStyleModel",
            "_view_count": null,
            "_view_module": "@jupyter-widgets/base",
            "_view_module_version": "1.2.0",
            "_view_name": "StyleView",
            "description_width": ""
          }
        },
        "8db5e7f846354895a5cae93b4dea267b": {
          "model_module": "@jupyter-widgets/base",
          "model_name": "LayoutModel",
          "model_module_version": "1.2.0",
          "state": {
            "_model_module": "@jupyter-widgets/base",
            "_model_module_version": "1.2.0",
            "_model_name": "LayoutModel",
            "_view_count": null,
            "_view_module": "@jupyter-widgets/base",
            "_view_module_version": "1.2.0",
            "_view_name": "LayoutView",
            "align_content": null,
            "align_items": null,
            "align_self": null,
            "border": null,
            "bottom": null,
            "display": null,
            "flex": null,
            "flex_flow": null,
            "grid_area": null,
            "grid_auto_columns": null,
            "grid_auto_flow": null,
            "grid_auto_rows": null,
            "grid_column": null,
            "grid_gap": null,
            "grid_row": null,
            "grid_template_areas": null,
            "grid_template_columns": null,
            "grid_template_rows": null,
            "height": null,
            "justify_content": null,
            "justify_items": null,
            "left": null,
            "margin": null,
            "max_height": null,
            "max_width": null,
            "min_height": null,
            "min_width": null,
            "object_fit": null,
            "object_position": null,
            "order": null,
            "overflow": null,
            "overflow_x": null,
            "overflow_y": null,
            "padding": null,
            "right": null,
            "top": null,
            "visibility": null,
            "width": null
          }
        },
        "b81d7d990cbb4fa7bf366f203b55518f": {
          "model_module": "@jupyter-widgets/controls",
          "model_name": "ProgressStyleModel",
          "model_module_version": "1.5.0",
          "state": {
            "_model_module": "@jupyter-widgets/controls",
            "_model_module_version": "1.5.0",
            "_model_name": "ProgressStyleModel",
            "_view_count": null,
            "_view_module": "@jupyter-widgets/base",
            "_view_module_version": "1.2.0",
            "_view_name": "StyleView",
            "bar_color": null,
            "description_width": ""
          }
        },
        "7347aa82de65477084c05463558d5814": {
          "model_module": "@jupyter-widgets/base",
          "model_name": "LayoutModel",
          "model_module_version": "1.2.0",
          "state": {
            "_model_module": "@jupyter-widgets/base",
            "_model_module_version": "1.2.0",
            "_model_name": "LayoutModel",
            "_view_count": null,
            "_view_module": "@jupyter-widgets/base",
            "_view_module_version": "1.2.0",
            "_view_name": "LayoutView",
            "align_content": null,
            "align_items": null,
            "align_self": null,
            "border": null,
            "bottom": null,
            "display": null,
            "flex": null,
            "flex_flow": null,
            "grid_area": null,
            "grid_auto_columns": null,
            "grid_auto_flow": null,
            "grid_auto_rows": null,
            "grid_column": null,
            "grid_gap": null,
            "grid_row": null,
            "grid_template_areas": null,
            "grid_template_columns": null,
            "grid_template_rows": null,
            "height": null,
            "justify_content": null,
            "justify_items": null,
            "left": null,
            "margin": null,
            "max_height": null,
            "max_width": null,
            "min_height": null,
            "min_width": null,
            "object_fit": null,
            "object_position": null,
            "order": null,
            "overflow": null,
            "overflow_x": null,
            "overflow_y": null,
            "padding": null,
            "right": null,
            "top": null,
            "visibility": null,
            "width": null
          }
        },
        "121d96d6537c4c43b54e4406feadf4b5": {
          "model_module": "@jupyter-widgets/controls",
          "model_name": "DescriptionStyleModel",
          "model_module_version": "1.5.0",
          "state": {
            "_model_module": "@jupyter-widgets/controls",
            "_model_module_version": "1.5.0",
            "_model_name": "DescriptionStyleModel",
            "_view_count": null,
            "_view_module": "@jupyter-widgets/base",
            "_view_module_version": "1.2.0",
            "_view_name": "StyleView",
            "description_width": ""
          }
        }
      }
    }
  },
  "nbformat": 4,
  "nbformat_minor": 0
}